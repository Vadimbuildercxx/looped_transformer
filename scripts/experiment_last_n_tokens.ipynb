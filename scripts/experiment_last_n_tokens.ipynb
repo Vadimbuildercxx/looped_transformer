{
 "cells": [
  {
   "metadata": {
    "ExecuteTime": {
     "end_time": "2024-07-30T11:36:37.684019Z",
     "start_time": "2024-07-30T11:36:30.771198Z"
    }
   },
   "cell_type": "code",
   "source": [
    "import matplotlib.pyplot as plt\n",
    "\n",
    "from models import TransformerModelLooped, TransformerModelLoopedLastNTokens\n",
    "from curriculum import CurriculumSimple\n",
    "from train import train_without_config, validate_model\n",
    "\n",
    "n_dims = 10"
   ],
   "id": "cf3d1436559409c9",
   "outputs": [],
   "execution_count": 1
  },
  {
   "metadata": {
    "ExecuteTime": {
     "end_time": "2024-07-30T11:50:33.707160Z",
     "start_time": "2024-07-30T11:36:37.685315Z"
    }
   },
   "cell_type": "code",
   "source": [
    "model_loop_b5 = TransformerModelLoopedLastNTokens(\n",
    "    n_dims=n_dims,\n",
    "    n_positions=101,\n",
    "    n_embd=256,\n",
    "    n_layer=1,\n",
    "    n_head=4,\n",
    "    pred_type=\"regression\",\n",
    "    n=None\n",
    ").cuda()\n",
    "\n",
    "cirriculum_b5  = CurriculumSimple(n_dims, 31, 5, [5000, n_dims, 0], [5000, 31, 0], [5000, 5, 0])\n",
    "\n",
    "metrics_l1_b5  = train_without_config(\n",
    "    model_loop_b5, cirriculum_b5,\n",
    "    model_n_dims=n_dims, log_every_steps=10, train_steps=15000, family=\"gpt2_loop\", do_wandb_log=False)"
   ],
   "id": "69d531f7c23c62c8",
   "outputs": [
    {
     "name": "stdout",
     "output_type": "stream",
     "text": [
      "number of parameters: 0.79M\n"
     ]
    },
    {
     "name": "stderr",
     "output_type": "stream",
     "text": [
      "  0%|          | 0/15000 [00:00<?, ?it/s]C:\\Users\\Vadim_K\\DataspellProjects\\looped_transformer\\scripts\\nano_gpt.py:79: UserWarning: 1Torch was not compiled with flash attention. (Triggered internally at C:\\actions-runner\\_work\\pytorch\\pytorch\\builder\\windows\\pytorch\\aten\\src\\ATen\\native\\transformers\\cuda\\sdp_utils.cpp:555.)\n",
      "  y = torch.nn.functional.scaled_dot_product_attention(\n"
     ]
    },
    {
     "name": "stdout",
     "output_type": "stream",
     "text": [
      "0\n"
     ]
    },
    {
     "name": "stderr",
     "output_type": "stream",
     "text": [
      "loss 3.7078871726989746: 100%|██████████| 15000/15000 [13:53<00:00, 18.00it/s]\n"
     ]
    }
   ],
   "execution_count": 2
  },
  {
   "metadata": {
    "ExecuteTime": {
     "end_time": "2024-07-30T12:18:35.152340Z",
     "start_time": "2024-07-30T11:50:33.709273Z"
    }
   },
   "cell_type": "code",
   "source": [
    "model_loop_b10 = TransformerModelLoopedLastNTokens(\n",
    "    n_dims=n_dims,\n",
    "    n_positions=101,\n",
    "    n_embd=256,\n",
    "    n_layer=1,\n",
    "    n_head=4,\n",
    "    pred_type=\"regression\",\n",
    "    n=None\n",
    ").cuda()\n",
    "\n",
    "cirriculum_b10  = CurriculumSimple(n_dims, 31, 10, [5000, n_dims, 0], [5000, 31, 0], [5000, 10, 0])\n",
    "\n",
    "metrics_l1_b10  = train_without_config(\n",
    "    model_loop_b10, cirriculum_b10,\n",
    "    model_n_dims=n_dims, log_every_steps=10, train_steps=15000, family=\"gpt2_loop\", do_wandb_log=False)"
   ],
   "id": "2c14e22ef35d3ab0",
   "outputs": [
    {
     "name": "stdout",
     "output_type": "stream",
     "text": [
      "number of parameters: 0.79M\n"
     ]
    },
    {
     "name": "stderr",
     "output_type": "stream",
     "text": [
      "loss 10.170994758605957:   0%|          | 1/15000 [00:00<31:58,  7.82it/s]"
     ]
    },
    {
     "name": "stdout",
     "output_type": "stream",
     "text": [
      "0\n"
     ]
    },
    {
     "name": "stderr",
     "output_type": "stream",
     "text": [
      "loss 2.7635741233825684: 100%|██████████| 15000/15000 [28:01<00:00,  8.92it/s]\n"
     ]
    }
   ],
   "execution_count": 3
  },
  {
   "metadata": {
    "jupyter": {
     "is_executing": true
    },
    "ExecuteTime": {
     "start_time": "2024-07-30T12:18:35.154830Z"
    }
   },
   "cell_type": "code",
   "source": [
    "model_loop_b30 = TransformerModelLoopedLastNTokens(\n",
    "    n_dims=n_dims,\n",
    "    n_positions=101,\n",
    "    n_embd=256,\n",
    "    n_layer=1,\n",
    "    n_head=4,\n",
    "    pred_type=\"regression\",\n",
    "    n=None\n",
    ").cuda()\n",
    "\n",
    "cirriculum_b30  = CurriculumSimple(n_dims, 31, 30, [5000, n_dims, 0], [5000, 31, 0], [5000, 30, 0])\n",
    "\n",
    "metrics_l1_b30  = train_without_config(\n",
    "    model_loop_b30, cirriculum_b30,\n",
    "    model_n_dims=n_dims, log_every_steps=10, train_steps=15000, family=\"gpt2_loop\", do_wandb_log=False)"
   ],
   "id": "a3b75608a3187262",
   "outputs": [
    {
     "name": "stdout",
     "output_type": "stream",
     "text": [
      "number of parameters: 0.79M\n"
     ]
    },
    {
     "name": "stderr",
     "output_type": "stream",
     "text": [
      "  0%|          | 0/15000 [00:00<?, ?it/s]"
     ]
    },
    {
     "name": "stdout",
     "output_type": "stream",
     "text": [
      "0\n"
     ]
    },
    {
     "name": "stderr",
     "output_type": "stream",
     "text": [
      "loss 9.804203033447266:   1%|▏         | 210/15000 [00:53<1:02:22,  3.95it/s] "
     ]
    }
   ],
   "execution_count": null
  },
  {
   "metadata": {
    "ExecuteTime": {
     "end_time": "2024-07-28T10:11:26.754611Z",
     "start_time": "2024-07-28T10:08:02.518268Z"
    }
   },
   "cell_type": "code",
   "source": [
    "def calculate_by_loop(model):\n",
    "    val_by_loop = []\n",
    "    loop_steps = []\n",
    "    model.eval()\n",
    "    for i in range(1, 60):\n",
    "        val_loss = validate_model(model, n_dims_truncated=10, n_loops=i, model_n_dims=10, n_points=31, family=\"gpt2_loop\")\n",
    "        val_by_loop.append(val_loss / n_dims)\n",
    "        loop_steps.append(i)\n",
    "    return loop_steps, val_by_loop \n",
    "\n",
    "steps_b5, values_b5 = calculate_by_loop(model_loop_b5)"
   ],
   "id": "9fcd1d2e29f9d8ea",
   "execution_count": 12,
   "outputs": []
  },
  {
   "metadata": {
    "ExecuteTime": {
     "end_time": "2024-07-30T09:34:29.663734Z",
     "start_time": "2024-07-30T09:34:19.984506Z"
    }
   },
   "cell_type": "code",
   "source": [
    "def calculate_by_n_points(model, max_n_points, n_loops=5):\n",
    "    vals = []\n",
    "    loop_steps = []\n",
    "    model.eval()\n",
    "    for i in range(1, max_n_points):\n",
    "        model.n = i\n",
    "        val_loss = validate_model(model, n_dims_truncated=10, n_loops=n_loops, model_n_dims=10, n_points=31, family=\"gpt2_loop\")\n",
    "        vals.append(val_loss / n_dims)\n",
    "        loop_steps.append(i)\n",
    "    return loop_steps, vals\n",
    "\n",
    "steps_points_b5, values_points_b5 = calculate_by_n_points(model_loop_b5, max_n_points=31, n_loops=5)"
   ],
   "id": "f4e11ebc5e36833e",
   "outputs": [],
   "execution_count": 21
  },
  {
   "metadata": {
    "ExecuteTime": {
     "end_time": "2024-07-30T10:15:46.190402Z",
     "start_time": "2024-07-30T10:15:35.769467Z"
    }
   },
   "cell_type": "code",
   "source": "steps_points_b10, values_points_b10 = calculate_by_n_points(model_loop_b10, max_n_points=31, n_loops=5)",
   "id": "eab9437039c85395",
   "outputs": [],
   "execution_count": 24
  },
  {
   "metadata": {
    "ExecuteTime": {
     "end_time": "2024-07-30T10:15:48.004464Z",
     "start_time": "2024-07-30T10:15:47.891481Z"
    }
   },
   "cell_type": "code",
   "source": [
    "plt.plot(steps_points_b5, values_points_b5)\n",
    "plt.plot(steps_points_b10, values_points_b10 )\n",
    "plt.legend([\"b=5\", \"b=10\"])\n",
    "#plt.savefig('../images/check_last_n_tokens_quality.png')"
   ],
   "id": "faae4c3ed0e06f3d",
   "outputs": [
    {
     "data": {
      "text/plain": [
       "<matplotlib.legend.Legend at 0x2067a3696d0>"
      ]
     },
     "execution_count": 25,
     "metadata": {},
     "output_type": "execute_result"
    },
    {
     "data": {
      "text/plain": [
       "<Figure size 640x480 with 1 Axes>"
      ],
      "image/png": "[encoded data removed]"
     },
     "metadata": {},
     "output_type": "display_data"
    }
   ],
   "execution_count": 25
  }
 ],
 "metadata": {
  "kernelspec": {
   "display_name": "Python 3",
   "language": "python",
   "name": "python3"
  },
  "language_info": {
   "codemirror_mode": {
    "name": "ipython",
    "version": 2
   },
   "file_extension": ".py",
   "mimetype": "text/x-python",
   "name": "python",
   "nbconvert_exporter": "python",
   "pygments_lexer": "ipython2",
   "version": "2.7.6"
  }
 },
 "nbformat": 4,
 "nbformat_minor": 5
}
