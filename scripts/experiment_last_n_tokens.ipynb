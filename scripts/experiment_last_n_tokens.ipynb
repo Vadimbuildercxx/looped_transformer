{
 "cells": [
  {
   "metadata": {
    "ExecuteTime": {
     "end_time": "2024-07-31T04:21:37.188139Z",
     "start_time": "2024-07-31T04:21:31.448546Z"
    }
   },
   "cell_type": "code",
   "source": [
    "import matplotlib.pyplot as plt\n",
    "\n",
    "from models import TransformerModelLooped, TransformerModelLoopedLastNTokens\n",
    "from curriculum import CurriculumSimple\n",
    "from train import train_without_config, validate_model\n",
    "\n",
    "n_dims = 10"
   ],
   "id": "cf3d1436559409c9",
   "execution_count": 1,
   "outputs": []
  },
  {
   "metadata": {
    "ExecuteTime": {
     "end_time": "2024-07-30T11:50:33.707160Z",
     "start_time": "2024-07-30T11:36:37.685315Z"
    }
   },
   "cell_type": "code",
   "source": [
    "model_loop_b5 = TransformerModelLoopedLastNTokens(\n",
    "    n_dims=n_dims,\n",
    "    n_positions=101,\n",
    "    n_embd=256,\n",
    "    n_layer=1,\n",
    "    n_head=4,\n",
    "    pred_type=\"regression\",\n",
    "    n=None\n",
    ").cuda()\n",
    "\n",
    "cirriculum_b5  = CurriculumSimple(n_dims, 31, 5, [5000, n_dims, 0], [5000, 31, 0], [5000, 5, 0])\n",
    "## Fixed seed\n",
    "metrics_l1_b5  = train_without_config(\n",
    "    model_loop_b5, cirriculum_b5,\n",
    "    model_n_dims=n_dims, log_every_steps=10, train_steps=15000, family=\"gpt2_loop\", do_wandb_log=False)"
   ],
   "id": "69d531f7c23c62c8",
   "execution_count": 2,
   "outputs": []
  },
  {
   "metadata": {
    "ExecuteTime": {
     "end_time": "2024-07-30T12:18:35.152340Z",
     "start_time": "2024-07-30T11:50:33.709273Z"
    }
   },
   "cell_type": "code",
   "source": [
    "model_loop_b10 = TransformerModelLoopedLastNTokens(\n",
    "    n_dims=n_dims,\n",
    "    n_positions=101,\n",
    "    n_embd=256,\n",
    "    n_layer=1,\n",
    "    n_head=4,\n",
    "    pred_type=\"regression\",\n",
    "    n=None\n",
    ").cuda()\n",
    "\n",
    "cirriculum_b10  = CurriculumSimple(n_dims, 31, 10, [5000, n_dims, 0], [5000, 31, 0], [5000, 10, 0])\n",
    "\n",
    "## Fixed seed\n",
    "metrics_l1_b10  = train_without_config(\n",
    "    model_loop_b10, cirriculum_b10,\n",
    "    model_n_dims=n_dims, log_every_steps=10, train_steps=15000, family=\"gpt2_loop\", do_wandb_log=False)"
   ],
   "id": "2c14e22ef35d3ab0",
   "execution_count": 3,
   "outputs": []
  },
  {
   "metadata": {
    "ExecuteTime": {
     "end_time": "2024-07-30T12:35:21.353319Z",
     "start_time": "2024-07-30T12:34:59.608469Z"
    }
   },
   "cell_type": "code",
   "source": [
    "def calculate_by_n_points(model, max_n_points, n_loops=5):\n",
    "    vals = []\n",
    "    loop_steps = []\n",
    "    model.eval()\n",
    "    for i in range(1, max_n_points):\n",
    "        model.n = i\n",
    "        val_loss = validate_model(model, n_dims_truncated=10, n_loops=n_loops, model_n_dims=10, n_points=31, family=\"gpt2_loop\")\n",
    "        vals.append(val_loss / n_dims)\n",
    "        loop_steps.append(i)\n",
    "    return loop_steps, vals\n",
    "steps_points_b5, values_points_b5 = calculate_by_n_points(model_loop_b5, max_n_points=31, n_loops=5)\n",
    "steps_points_b10, values_points_b10 = calculate_by_n_points(model_loop_b10, max_n_points=31, n_loop=10)"
   ],
   "id": "f4e11ebc5e36833e",
   "execution_count": 5,
   "outputs": []
  },
  {
   "metadata": {
    "ExecuteTime": {
     "end_time": "2024-07-30T14:08:41.304721Z",
     "start_time": "2024-07-30T14:08:41.118941Z"
    }
   },
   "cell_type": "code",
   "source": [
    "plt.plot(steps_points_b5, values_points_b5)\n",
    "plt.plot(steps_points_b10, values_points_b10 )\n",
    "plt.legend([\"b=5\", \"b=10\"])\n",
    "plt.savefig('../images/check_last_n_tokens_quality.png')"
   ],
   "id": "faae4c3ed0e06f3d",
   "execution_count": 10,
   "outputs": []
  },
  {
   "metadata": {
    "ExecuteTime": {
     "end_time": "2024-07-31T04:21:45.538905Z",
     "start_time": "2024-07-31T04:21:45.143392Z"
    }
   },
   "cell_type": "code",
   "source": [
    "import torch\n",
    "## Random seed, trained not locally\n",
    "model_b5 = TransformerModelLoopedLastNTokens(n_dims=10,\n",
    "                                             n_positions=101,\n",
    "                                             n_embd=256,\n",
    "                                             n_layer=1,\n",
    "                                             n_head=4,\n",
    "                                             pred_type=\"regression\",\n",
    "                                             n=None).cuda()\n",
    "\n",
    "model_b5.load_state_dict(\n",
    "    torch.load(\"../scripts/scripts/models/noisy_linear_regression/model_b5.pt\")[\"model_state_dict\"])\n",
    "\n",
    "model_b10 = TransformerModelLoopedLastNTokens(n_dims=10,\n",
    "                                              n_positions=101,\n",
    "                                              n_embd=256,\n",
    "                                              n_layer=1,\n",
    "                                              n_head=4,\n",
    "                                              pred_type=\"regression\",\n",
    "                                              n=None).cuda()\n",
    "\n",
    "model_b10.load_state_dict(\n",
    "    torch.load(\"../scripts/scripts/models/noisy_linear_regression/model_b10.pt\")[\"model_state_dict\"])\n",
    "\n",
    "model_b20 = TransformerModelLoopedLastNTokens(n_dims=10,\n",
    "                                              n_positions=101,\n",
    "                                              n_embd=256,\n",
    "                                              n_layer=1,\n",
    "                                              n_head=4,\n",
    "                                              pred_type=\"regression\",\n",
    "                                              n=None).cuda()\n",
    "\n",
    "model_b20.load_state_dict(\n",
    "    torch.load(\"../scripts/scripts/models/noisy_linear_regression/model_b20.pt\")[\"model_state_dict\"])"
   ],
   "id": "c29458a325b05181",
   "execution_count": 2,
   "outputs": []
  },
  {
   "metadata": {
    "ExecuteTime": {
     "end_time": "2024-07-31T04:21:51.539252Z",
     "start_time": "2024-07-31T04:21:51.338046Z"
    }
   },
   "cell_type": "code",
   "source": [
    "## Random seed, trained not locally\n",
    "model_b5_t10 = TransformerModelLoopedLastNTokens(n_dims=10,\n",
    "                                             n_positions=101,\n",
    "                                             n_embd=256,\n",
    "                                             n_layer=1,\n",
    "                                             n_head=4,\n",
    "                                             pred_type=\"regression\",\n",
    "                                             n=None).cuda()\n",
    "\n",
    "model_b5_t10.load_state_dict(\n",
    "    torch.load(\"../scripts/scripts/models/noisy_linear_regression/model_b5_t10.pt\")[\"model_state_dict\"])\n",
    "\n",
    "model_b10_t10 = TransformerModelLoopedLastNTokens(n_dims=10,\n",
    "                                              n_positions=101,\n",
    "                                              n_embd=256,\n",
    "                                              n_layer=1,\n",
    "                                              n_head=4,\n",
    "                                              pred_type=\"regression\",\n",
    "                                              n=None).cuda()\n",
    "\n",
    "model_b10_t10.load_state_dict(\n",
    "    torch.load(\"../scripts/scripts/models/noisy_linear_regression/model_b10_t10.pt\")[\"model_state_dict\"])\n",
    "\n",
    "model_b20_t10 = TransformerModelLoopedLastNTokens(n_dims=10,\n",
    "                                              n_positions=101,\n",
    "                                              n_embd=256,\n",
    "                                              n_layer=1,\n",
    "                                              n_head=4,\n",
    "                                              pred_type=\"regression\",\n",
    "                                              n=None).cuda()\n",
    "\n",
    "model_b20_t10.load_state_dict(\n",
    "    torch.load(\"../scripts/scripts/models/noisy_linear_regression/model_b20_t10.pt\")[\"model_state_dict\"])"
   ],
   "id": "2c6641f510c9c7e2",
   "execution_count": 3,
   "outputs": []
  },
  {
   "metadata": {
    "ExecuteTime": {
     "end_time": "2024-07-31T04:21:55.587688Z",
     "start_time": "2024-07-31T04:21:55.578516Z"
    }
   },
   "cell_type": "code",
   "source": [
    "# Function for model validation \n",
    "def calculate_by_n_points(model, max_n_points, n_loops=5):\n",
    "    vals = []\n",
    "    loop_steps = []\n",
    "    model.eval()\n",
    "    for i in range(1, max_n_points+1):\n",
    "        model.n = i\n",
    "        val_loss = validate_model(model, n_dims_truncated=10, n_loops=n_loops, model_n_dims=10, family=\"gpt2_loop\", n_points=max_n_points)\n",
    "        vals.append(val_loss / n_dims)\n",
    "        loop_steps.append(i)\n",
    "    return loop_steps, vals"
   ],
   "id": "36b9451e0a052d45",
   "execution_count": 4,
   "outputs": []
  },
  {
   "metadata": {
    "ExecuteTime": {
     "end_time": "2024-07-31T04:23:18.076803Z",
     "start_time": "2024-07-31T04:22:04.116925Z"
    }
   },
   "cell_type": "code",
   "source": [
    "steps_points_b5_, values_points_b5_ = calculate_by_n_points(model_b5, max_n_points=31, n_loops=5)\n",
    "steps_points_b10_, values_points_b10_ = calculate_by_n_points(model_b10, max_n_points=31, n_loops=10)\n",
    "steps_points_b20_, values_points_b20_ = calculate_by_n_points(model_b20, max_n_points=31, n_loops=20)"
   ],
   "id": "50a89427fd421975",
   "execution_count": 5,
   "outputs": []
  },
  {
   "metadata": {
    "ExecuteTime": {
     "end_time": "2024-07-31T04:25:46.289955Z",
     "start_time": "2024-07-31T04:23:18.076803Z"
    }
   },
   "cell_type": "code",
   "source": [
    "steps_points_b5_x2, values_points_b5_x2 = calculate_by_n_points(model_b5, max_n_points=31, n_loops=5 * 2)\n",
    "steps_points_b10_x2, values_points_b10_x2 = calculate_by_n_points(model_b10, max_n_points=31, n_loops=10 * 2)\n",
    "steps_points_b20_x2, values_points_b20_x2 = calculate_by_n_points(model_b20, max_n_points=31, n_loops=20 * 2)"
   ],
   "id": "6a9f92ffe4d18baa",
   "execution_count": 6,
   "outputs": []
  },
  {
   "metadata": {
    "ExecuteTime": {
     "end_time": "2024-07-31T04:29:37.487591Z",
     "start_time": "2024-07-31T04:25:46.292166Z"
    }
   },
   "cell_type": "code",
   "source": [
    "steps_points_b5_t10_, values_points_b5_t10_ = calculate_by_n_points(model_b5_t10, max_n_points=31, n_loops=5)\n",
    "steps_points_b10_t10_, values_points_b10_t10_ = calculate_by_n_points(model_b10_t10, max_n_points=31, n_loops=10)\n",
    "steps_points_b20_t10_, values_points_b20_t10_ = calculate_by_n_points(model_b20_t10, max_n_points=31, n_loops=20)\n",
    "steps_points_b5_t10_x2, values_points_b5_t10_x2 = calculate_by_n_points(model_b5_t10, max_n_points=31, n_loops=5 * 2)\n",
    "steps_points_b10_t10_x2, values_points_b10_t10_x2 = calculate_by_n_points(model_b10_t10, max_n_points=31, n_loops=10 * 2)\n",
    "steps_points_b20_t10_x2, values_points_b20_t10_x2 = calculate_by_n_points(model_b20_t10, max_n_points=31, n_loops=20 * 2)"
   ],
   "id": "8f07c03ab56a6741",
   "execution_count": 7,
   "outputs": []
  },
  {
   "metadata": {
    "ExecuteTime": {
     "end_time": "2024-07-31T05:07:16.371591Z",
     "start_time": "2024-07-31T04:59:55.702611Z"
    }
   },
   "cell_type": "code",
   "source": [
    "steps_points_b5_x3, values_points_b5_x3 = calculate_by_n_points(model_b5, max_n_points=31, n_loops=5 * 3)\n",
    "steps_points_b10_x3, values_points_b10_x3 = calculate_by_n_points(model_b10, max_n_points=31, n_loops=10 * 3)\n",
    "steps_points_b20_x3, values_points_b20_x3 = calculate_by_n_points(model_b20, max_n_points=31, n_loops=20 * 3)\n",
    "steps_points_b5_t10_x3, values_points_b5_t10_x3 = calculate_by_n_points(model_b5_t10, max_n_points=31, n_loops=5 * 3)\n",
    "steps_points_b10_t10_x3, values_points_b10_t10_x3 = calculate_by_n_points(model_b10_t10, max_n_points=31, n_loops=10 * 3)\n",
    "steps_points_b20_t10_x3, values_points_b20_t10_x3 = calculate_by_n_points(model_b20_t10, max_n_points=31, n_loops=20 * 3)"
   ],
   "id": "38c41b333d4a9e9c",
   "execution_count": 14,
   "outputs": []
  },
  {
   "metadata": {
    "ExecuteTime": {
     "end_time": "2024-07-31T05:10:23.682552Z",
     "start_time": "2024-07-31T05:10:22.701947Z"
    }
   },
   "cell_type": "code",
   "source": [
    "fig, axs = plt.subplots(2, 3, figsize=(14,6))\n",
    "\n",
    "fig.suptitle('Remove $ n $ last tokens', fontsize=16)\n",
    "\n",
    "axs[0, 0].set_ylabel(\"T = 20\")\n",
    "axs[0, 0].set_title(\"Standard loop\")\n",
    "axs[0, 0].plot(steps_points_b5_, values_points_b5_ )\n",
    "axs[0, 0].plot(steps_points_b10_, values_points_b10_)\n",
    "axs[0, 0].plot(steps_points_b20_, values_points_b20_)\n",
    "axs[0, 0].set_ylim([0, 0.4])\n",
    "axs[0, 0].grid()\n",
    "axs[0, 0].axvline(x = 31, color = 'orange', label = 'axvline - full height', linestyle='dashed')\n",
    "axs[0, 0].legend([\"b=5\", \"b=10\", \"b=20\"])\n",
    "\n",
    "axs[0, 1].set_title(\"Doubled loop\")\n",
    "axs[0, 1].plot(steps_points_b5_x2, values_points_b5_x2 , linestyle='dashed')\n",
    "axs[0, 1].plot(steps_points_b10_x2, values_points_b10_x2, linestyle='dashed')\n",
    "axs[0, 1].plot(steps_points_b20_x2, values_points_b20_x2, linestyle='dashed')\n",
    "axs[0, 1].set_ylim([0, 0.4])\n",
    "axs[0, 1].grid()\n",
    "axs[0, 1].axvline(x = 31, color = 'orange', label = 'axvline - full height')\n",
    "axs[0, 1].legend([\"b=5\", \"b=10\", \"b=20\"])\n",
    "\n",
    "axs[0, 2].set_title(\"Tripled loop\")\n",
    "axs[0, 2].plot(steps_points_b5_x3, values_points_b5_x3 , linestyle='dashdot')\n",
    "axs[0, 2].plot(steps_points_b10_x3, values_points_b10_x3, linestyle='dashdot')\n",
    "axs[0, 2].plot(steps_points_b20_x3, values_points_b20_x3, linestyle='dashdot')\n",
    "axs[0, 2].set_ylim([0, 0.4])\n",
    "axs[0, 2].grid()\n",
    "axs[0, 2].axvline(x = 31, color = 'orange', label = 'axvline - full height')\n",
    "axs[0, 2].legend([\"b=5\", \"b=10\", \"b=20\"])\n",
    "\n",
    "axs[1, 0].set_ylabel(\"T = 10\")\n",
    "axs[1, 0].plot(steps_points_b5_t10_, values_points_b5_t10_ )\n",
    "axs[1, 0].plot(steps_points_b10_t10_, values_points_b10_t10_)\n",
    "axs[1, 0].plot(steps_points_b20_t10_, values_points_b20_t10_)\n",
    "axs[1, 0].set_ylim([0, 0.4])\n",
    "axs[1, 0].grid()\n",
    "axs[1, 0].axvline(x = 31, color = 'orange', label = 'axvline - full height', linestyle='dashed')\n",
    "axs[1, 0].legend([\"b=5\", \"b=10\", \"b=20\"])\n",
    "\n",
    "axs[1, 1].plot(steps_points_b5_t10_x2, values_points_b5_t10_x2 , linestyle='dashed')\n",
    "axs[1, 1].plot(steps_points_b10_t10_x2, values_points_b10_t10_x2, linestyle='dashed')\n",
    "axs[1, 1].plot(steps_points_b20_t10_x2, values_points_b20_t10_x2, linestyle='dashed')\n",
    "axs[1, 1].set_ylim([0, 0.4])\n",
    "axs[1, 1].grid()\n",
    "axs[1, 1].axvline(x = 31, color = 'orange', label = 'axvline - full height')\n",
    "axs[1, 1].legend([\"b=5\", \"b=10\", \"b=20\"])\n",
    "\n",
    "axs[1, 2].plot(steps_points_b5_t10_x3, values_points_b5_t10_x3 , linestyle='dashdot')\n",
    "axs[1, 2].plot(steps_points_b10_t10_x3, values_points_b10_t10_x3, linestyle='dashdot')\n",
    "axs[1, 2].plot(steps_points_b20_t10_x3, values_points_b20_t10_x3, linestyle='dashdot')\n",
    "axs[1, 2].set_ylim([0, 0.4])\n",
    "axs[1, 2].grid()\n",
    "axs[1, 2].axvline(x = 31, color = 'orange', label = 'axvline - full height')\n",
    "axs[1, 2].legend([\"b=5\", \"b=10\", \"b=20\"])\n",
    "\n",
    "fig.savefig('../images/check_last_n_tokens_quality.png')"
   ],
   "id": "7f9356accfa3a745",
   "execution_count": 16,
   "outputs": []
  },
  {
   "metadata": {
    "ExecuteTime": {
     "end_time": "2024-07-30T16:51:58.438330Z",
     "start_time": "2024-07-30T16:49:45.350675Z"
    }
   },
   "cell_type": "code",
   "source": "",
   "id": "9927d177a8cf7897",
   "execution_count": 51,
   "outputs": []
  }
 ],
 "metadata": {
  "kernelspec": {
   "display_name": "Python 3",
   "language": "python",
   "name": "python3"
  },
  "language_info": {
   "codemirror_mode": {
    "name": "ipython",
    "version": 2
   },
   "file_extension": ".py",
   "mimetype": "text/x-python",
   "name": "python",
   "nbconvert_exporter": "python",
   "pygments_lexer": "ipython2",
   "version": "2.7.6"
  }
 },
 "nbformat": 4,
 "nbformat_minor": 5
}
