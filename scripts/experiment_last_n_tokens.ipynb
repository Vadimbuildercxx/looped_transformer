{
 "cells": [
  {
   "metadata": {
    "ExecuteTime": {
     "end_time": "2024-07-28T10:07:57.834334Z",
     "start_time": "2024-07-28T10:07:57.826203Z"
    }
   },
   "cell_type": "code",
   "source": [
    "import matplotlib.pyplot as plt\n",
    "\n",
    "from models import TransformerModelLooped, TransformerModelLoopedLastNTokens\n",
    "from curriculum import CurriculumSimple\n",
    "from train import train_without_config, validate_model\n",
    "\n",
    "n_dims = 10"
   ],
   "id": "cf3d1436559409c9",
   "execution_count": 11,
   "outputs": []
  },
  {
   "metadata": {
    "ExecuteTime": {
     "end_time": "2024-07-28T07:23:50.188187Z",
     "start_time": "2024-07-28T07:09:32.502773Z"
    }
   },
   "cell_type": "code",
   "source": [
    "model_loop_b5 = TransformerModelLoopedLastNTokens(\n",
    "    n_dims=n_dims,\n",
    "    n_positions=101,\n",
    "    n_embd=256,\n",
    "    n_layer=1,\n",
    "    n_head=4,\n",
    "    pred_type=\"regression\",\n",
    "    n=10\n",
    ").cuda()\n",
    "\n",
    "cirriculum_b5 = CurriculumSimple(n_dims, 31, 5, [5000, n_dims, 0], [5000, 31, 0], [5000, 5, 0])\n",
    "\n",
    "metrics_l1_b5_d10 = train_without_config(model_loop_b5, cirriculum_b5, model_n_dims=n_dims, log_every_steps=10, train_steps=15000, family=\"gpt2_loop\", do_wandb_log=False)"
   ],
   "id": "69d531f7c23c62c8",
   "execution_count": 2,
   "outputs": []
  },
  {
   "metadata": {
    "ExecuteTime": {
     "end_time": "2024-07-28T08:22:42.017337Z",
     "start_time": "2024-07-28T07:54:52.220224Z"
    }
   },
   "cell_type": "code",
   "source": [
    "model_loop_b10 = TransformerModelLooped(\n",
    "    n_dims=n_dims,\n",
    "    n_positions=101,\n",
    "    n_embd=256,\n",
    "    n_layer=1,\n",
    "    n_head=4,\n",
    "    pred_type=\"regression\",\n",
    ").cuda()\n",
    "\n",
    "cirriculum_b10 = CurriculumSimple(n_dims, 31, 10, [5000, n_dims, 0], [5000, 31, 0], [5000, 10, 0])\n",
    "\n",
    "metrics_l1_b10_d10 = train_without_config(model_loop_b10, cirriculum_b10, model_n_dims=n_dims, log_every_steps=10, train_steps=15000, family=\"gpt2_loop\", do_wandb_log=False)"
   ],
   "id": "4a1413e05a57e3d1",
   "execution_count": 3,
   "outputs": []
  },
  {
   "metadata": {
    "ExecuteTime": {
     "end_time": "2024-07-28T09:38:40.718080Z",
     "start_time": "2024-07-28T08:43:12.782490Z"
    }
   },
   "cell_type": "code",
   "source": [
    "model_loop_b20 = TransformerModelLooped(\n",
    "    n_dims=n_dims,\n",
    "    n_positions=101,\n",
    "    n_embd=256,\n",
    "    n_layer=1,\n",
    "    n_head=4,\n",
    "    pred_type=\"regression\",\n",
    ").cuda()\n",
    "\n",
    "cirriculum_b20 = CurriculumSimple(n_dims, 31, 20, [5000, n_dims, 0], [5000, 31, 0], [5000, 20, 0])\n",
    "\n",
    "metrics_l1_b20_d10 = train_without_config(model_loop_b20, cirriculum_b20, model_n_dims=n_dims, log_every_steps=10, train_steps=15000, family=\"gpt2_loop\", do_wandb_log=False)"
   ],
   "id": "d8a0d5abcd59140f",
   "execution_count": 4,
   "outputs": []
  },
  {
   "metadata": {
    "ExecuteTime": {
     "end_time": "2024-07-28T10:11:26.754611Z",
     "start_time": "2024-07-28T10:08:02.518268Z"
    }
   },
   "cell_type": "code",
   "source": [
    "def calculate_by_loop(model):\n",
    "    val_by_loop = []\n",
    "    loop_steps = []\n",
    "    for i in range(1, 60):\n",
    "        val_loss = validate_model(model, n_dims_truncated=10, n_loops=i, model_n_dims=10, n_points=21, family=\"gpt2_loop\")\n",
    "        val_by_loop.append(val_loss / n_dims)\n",
    "        loop_steps.append(i)\n",
    "    return loop_steps, val_by_loop \n",
    "steps_b5, values_b5 = calculate_by_loop(model_loop_b5)\n",
    "steps_b10, values_b10 = calculate_by_loop(model_loop_b10)\n",
    "steps_b20, values_b20 = calculate_by_loop(model_loop_b20)"
   ],
   "id": "9fcd1d2e29f9d8ea",
   "execution_count": 12,
   "outputs": []
  },
  {
   "metadata": {
    "ExecuteTime": {
     "end_time": "2024-07-28T10:13:14.634622Z",
     "start_time": "2024-07-28T10:13:14.451367Z"
    }
   },
   "cell_type": "code",
   "source": [
    "plt.plot(steps_b5, values_b5)\n",
    "plt.plot(steps_b10, values_b10)\n",
    "plt.plot(steps_b20, values_b20)\n",
    "plt.legend([\"b=5\", \"b=10\", \"b=20\"])\n",
    "plt.savefig('../images/check_for_convergence_properties.png')"
   ],
   "id": "faae4c3ed0e06f3d",
   "execution_count": 14,
   "outputs": []
  }
 ],
 "metadata": {
  "kernelspec": {
   "display_name": "Python 3",
   "language": "python",
   "name": "python3"
  },
  "language_info": {
   "codemirror_mode": {
    "name": "ipython",
    "version": 2
   },
   "file_extension": ".py",
   "mimetype": "text/x-python",
   "name": "python",
   "nbconvert_exporter": "python",
   "pygments_lexer": "ipython2",
   "version": "2.7.6"
  }
 },
 "nbformat": 4,
 "nbformat_minor": 5
}
