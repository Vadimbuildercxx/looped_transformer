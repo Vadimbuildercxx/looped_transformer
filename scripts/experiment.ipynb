{
 "cells": [
  {
   "cell_type": "code",
   "id": "initial_id",
   "metadata": {
    "collapsed": true,
    "jupyter": {
     "is_executing": true
    },
    "ExecuteTime": {
     "start_time": "2024-07-24T10:57:42.977018Z"
    }
   },
   "source": [
    "from scripts.models import TransformerModel\n",
    "model = TransformerModel(\n",
    "    n_dims=4,\n",
    "    n_positions=201,\n",
    "    n_embd=256,\n",
    "    n_layer=12,\n",
    "    n_head=8,\n",
    "    pred_type=\"regression\",\n",
    ").cuda()"
   ],
   "outputs": [],
   "execution_count": null
  },
  {
   "metadata": {
    "ExecuteTime": {
     "end_time": "2024-07-24T10:53:55.073976Z",
     "start_time": "2024-07-24T10:53:55.060397Z"
    }
   },
   "cell_type": "code",
   "source": [
    "from scripts.main_utils import gen_dataloader\n",
    "from scripts.tasks import get_task_sampler\n",
    "\n",
    "task_sampler = get_task_sampler(\n",
    "    task_name=\"linear_regression\",\n",
    "    batch_size=2,\n",
    "    n_points=7,\n",
    "    n_dims=4,\n",
    "    n_dims_truncated=1,\n",
    "    device=\"cuda\",\n",
    ")\n",
    "\n",
    "real_task = task_sampler()\n",
    "xs, ys = real_task.xs.float(), real_task.ys.float()\n",
    "n_loops = 1; horizon_start = max(0, n_loops - 20)\n",
    "xs, ys, xs.shape, ys.shape"
   ],
   "id": "30ed964d1224d8b3",
   "outputs": [
    {
     "data": {
      "text/plain": [
       "(tensor([[[-0.9282,  0.0000,  0.0000,  0.0000],\n",
       "          [ 0.4507,  0.0000,  0.0000,  0.0000],\n",
       "          [-3.0299,  0.0000,  0.0000,  0.0000],\n",
       "          [-0.2710,  0.0000,  0.0000,  0.0000],\n",
       "          [-0.3976,  0.0000,  0.0000,  0.0000],\n",
       "          [ 1.5787,  0.0000,  0.0000,  0.0000],\n",
       "          [ 0.2183,  0.0000,  0.0000,  0.0000]],\n",
       " \n",
       "         [[ 1.0496,  0.0000,  0.0000,  0.0000],\n",
       "          [-0.2318,  0.0000,  0.0000,  0.0000],\n",
       "          [ 2.3027,  0.0000,  0.0000,  0.0000],\n",
       "          [ 0.2870,  0.0000,  0.0000,  0.0000],\n",
       "          [-0.6655,  0.0000,  0.0000,  0.0000],\n",
       "          [ 1.3583,  0.0000,  0.0000,  0.0000],\n",
       "          [ 0.2276,  0.0000,  0.0000,  0.0000]]], device='cuda:0'),\n",
       " tensor([[ 1.5218, -0.7389,  4.9676,  0.4443,  0.6519, -2.5883, -0.3578],\n",
       "         [ 0.5869, -0.1296,  1.2876,  0.1605, -0.3721,  0.7595,  0.1273]],\n",
       "        device='cuda:0'),\n",
       " torch.Size([2, 7, 4]),\n",
       " torch.Size([2, 7]))"
      ]
     },
     "execution_count": 56,
     "metadata": {},
     "output_type": "execute_result"
    }
   ],
   "execution_count": 56
  },
  {
   "metadata": {
    "ExecuteTime": {
     "end_time": "2024-07-24T10:53:56.843163Z",
     "start_time": "2024-07-24T10:53:56.797237Z"
    }
   },
   "cell_type": "code",
   "source": [
    "y_pred = model(xs, ys, add_inputs_embeds=False) \n",
    "print(y_pred)\n",
    "loss = (ys - y_pred).square().mean()\n",
    "loss"
   ],
   "id": "8ad2dfef24798b7d",
   "outputs": [
    {
     "name": "stdout",
     "output_type": "stream",
     "text": [
      "tensor([[ 0.3433, -0.2220,  0.6188, -0.0318,  0.1309, -0.3208, -0.1465],\n",
      "        [-0.3215,  0.0329, -0.3724, -0.2268,  0.2844, -0.2894, -0.1307]],\n",
      "       device='cuda:0', grad_fn=<SelectBackward0>)\n"
     ]
    },
    {
     "data": {
      "text/plain": [
       "tensor(2.2576, device='cuda:0', grad_fn=<MeanBackward0>)"
      ]
     },
     "execution_count": 57,
     "metadata": {},
     "output_type": "execute_result"
    }
   ],
   "execution_count": 57
  },
  {
   "metadata": {
    "ExecuteTime": {
     "end_time": "2024-07-24T10:52:00.265405Z",
     "start_time": "2024-07-24T10:52:00.257408Z"
    }
   },
   "cell_type": "code",
   "source": "",
   "id": "3973656493aa71c3",
   "outputs": [
    {
     "data": {
      "text/plain": [
       "tensor(0.2006, device='cuda:0', grad_fn=<MeanBackward0>)"
      ]
     },
     "execution_count": 46,
     "metadata": {},
     "output_type": "execute_result"
    }
   ],
   "execution_count": 46
  },
  {
   "metadata": {},
   "cell_type": "code",
   "outputs": [],
   "execution_count": null,
   "source": [
    "model = TransformerModel(\n",
    "    n_dims=4,\n",
    "    n_positions=101,\n",
    "    n_embd=256,\n",
    "    n_layer=12,\n",
    "    n_head=8,\n",
    "    pred_type=\"regression\",\n",
    ").cuda()"
   ],
   "id": "6064ed0f31b2d95f"
  }
 ],
 "metadata": {
  "kernelspec": {
   "display_name": "Python 3",
   "language": "python",
   "name": "python3"
  },
  "language_info": {
   "codemirror_mode": {
    "name": "ipython",
    "version": 2
   },
   "file_extension": ".py",
   "mimetype": "text/x-python",
   "name": "python",
   "nbconvert_exporter": "python",
   "pygments_lexer": "ipython2",
   "version": "2.7.6"
  }
 },
 "nbformat": 4,
 "nbformat_minor": 5
}
