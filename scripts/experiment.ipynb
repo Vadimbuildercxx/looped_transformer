{
 "cells": [
  {
   "cell_type": "code",
   "id": "initial_id",
   "metadata": {
    "collapsed": true,
    "ExecuteTime": {
     "end_time": "2024-07-24T11:11:12.693173Z",
     "start_time": "2024-07-24T10:57:42.977018Z"
    }
   },
   "source": [
    "from scripts.models import TransformerModel\n",
    "model = TransformerModel(\n",
    "    n_dims=4,\n",
    "    n_positions=201,\n",
    "    n_embd=256,\n",
    "    n_layer=12,\n",
    "    n_head=8,\n",
    "    pred_type=\"regression\",\n",
    ").cuda()"
   ],
   "outputs": [
    {
     "ename": "KeyboardInterrupt",
     "evalue": "",
     "output_type": "error",
     "traceback": [
      "\u001B[1;31m---------------------------------------------------------------------------\u001B[0m",
      "\u001B[1;31mKeyboardInterrupt\u001B[0m                         Traceback (most recent call last)",
      "Cell \u001B[1;32mIn[58], line 2\u001B[0m\n\u001B[0;32m      1\u001B[0m \u001B[38;5;28;01mfrom\u001B[39;00m \u001B[38;5;21;01mscripts\u001B[39;00m\u001B[38;5;21;01m.\u001B[39;00m\u001B[38;5;21;01mmodels\u001B[39;00m \u001B[38;5;28;01mimport\u001B[39;00m TransformerModel\n\u001B[1;32m----> 2\u001B[0m model \u001B[38;5;241m=\u001B[39m \u001B[43mTransformerModel\u001B[49m\u001B[43m(\u001B[49m\n\u001B[0;32m      3\u001B[0m \u001B[43m    \u001B[49m\u001B[43mn_dims\u001B[49m\u001B[38;5;241;43m=\u001B[39;49m\u001B[38;5;241;43m4\u001B[39;49m\u001B[43m,\u001B[49m\n\u001B[0;32m      4\u001B[0m \u001B[43m    \u001B[49m\u001B[43mn_positions\u001B[49m\u001B[38;5;241;43m=\u001B[39;49m\u001B[38;5;241;43m201\u001B[39;49m\u001B[43m,\u001B[49m\n\u001B[0;32m      5\u001B[0m \u001B[43m    \u001B[49m\u001B[43mn_embd\u001B[49m\u001B[38;5;241;43m=\u001B[39;49m\u001B[38;5;241;43m256\u001B[39;49m\u001B[43m,\u001B[49m\n\u001B[0;32m      6\u001B[0m \u001B[43m    \u001B[49m\u001B[43mn_layer\u001B[49m\u001B[38;5;241;43m=\u001B[39;49m\u001B[38;5;241;43m12\u001B[39;49m\u001B[43m,\u001B[49m\n\u001B[0;32m      7\u001B[0m \u001B[43m    \u001B[49m\u001B[43mn_head\u001B[49m\u001B[38;5;241;43m=\u001B[39;49m\u001B[38;5;241;43m8\u001B[39;49m\u001B[43m,\u001B[49m\n\u001B[0;32m      8\u001B[0m \u001B[43m    \u001B[49m\u001B[43mpred_type\u001B[49m\u001B[38;5;241;43m=\u001B[39;49m\u001B[38;5;124;43m\"\u001B[39;49m\u001B[38;5;124;43mregression\u001B[39;49m\u001B[38;5;124;43m\"\u001B[39;49m\u001B[43m,\u001B[49m\n\u001B[0;32m      9\u001B[0m \u001B[43m)\u001B[49m\u001B[38;5;241m.\u001B[39mcuda()\n",
      "File \u001B[1;32m~\\DataspellProjects\\looped_transformer\\scripts\\models.py:64\u001B[0m, in \u001B[0;36mTransformerModel.__init__\u001B[1;34m(self, n_dims, n_positions, n_embd, n_layer, n_head, pred_type)\u001B[0m\n\u001B[0;32m     61\u001B[0m \u001B[38;5;28mself\u001B[39m\u001B[38;5;241m.\u001B[39m_pred_type \u001B[38;5;241m=\u001B[39m pred_type\n\u001B[0;32m     63\u001B[0m \u001B[38;5;28mself\u001B[39m\u001B[38;5;241m.\u001B[39m_read_in \u001B[38;5;241m=\u001B[39m nn\u001B[38;5;241m.\u001B[39mLinear(n_dims, n_embd)\n\u001B[1;32m---> 64\u001B[0m \u001B[38;5;28mself\u001B[39m\u001B[38;5;241m.\u001B[39m_backbone \u001B[38;5;241m=\u001B[39m \u001B[43mGPT2Model\u001B[49m\u001B[43m(\u001B[49m\u001B[38;5;28;43mself\u001B[39;49m\u001B[38;5;241;43m.\u001B[39;49m\u001B[43mconfiguration\u001B[49m\u001B[43m)\u001B[49m\n\u001B[0;32m     65\u001B[0m \u001B[38;5;28;01mif\u001B[39;00m \u001B[38;5;28mself\u001B[39m\u001B[38;5;241m.\u001B[39m_pred_type \u001B[38;5;241m==\u001B[39m \u001B[38;5;124m'\u001B[39m\u001B[38;5;124mregression\u001B[39m\u001B[38;5;124m'\u001B[39m:\n\u001B[0;32m     66\u001B[0m     \u001B[38;5;28mself\u001B[39m\u001B[38;5;241m.\u001B[39m_read_out \u001B[38;5;241m=\u001B[39m nn\u001B[38;5;241m.\u001B[39mLinear(n_embd, \u001B[38;5;241m1\u001B[39m)\n",
      "File \u001B[1;32m~\\DataspellProjects\\looped_transformer\\scripts\\nano_gpt.py:152\u001B[0m, in \u001B[0;36mGPT2Model.__init__\u001B[1;34m(self, config)\u001B[0m\n\u001B[0;32m    144\u001B[0m \u001B[38;5;28mself\u001B[39m\u001B[38;5;241m.\u001B[39mtransformer \u001B[38;5;241m=\u001B[39m nn\u001B[38;5;241m.\u001B[39mModuleDict(\u001B[38;5;28mdict\u001B[39m(\n\u001B[0;32m    145\u001B[0m     wpe\u001B[38;5;241m=\u001B[39mnn\u001B[38;5;241m.\u001B[39mEmbedding(config\u001B[38;5;241m.\u001B[39mblock_size, config\u001B[38;5;241m.\u001B[39mn_embd),\n\u001B[0;32m    146\u001B[0m     drop\u001B[38;5;241m=\u001B[39mnn\u001B[38;5;241m.\u001B[39mDropout(config\u001B[38;5;241m.\u001B[39mdropout),\n\u001B[0;32m    147\u001B[0m     h\u001B[38;5;241m=\u001B[39mnn\u001B[38;5;241m.\u001B[39mModuleList([Block(config) \u001B[38;5;28;01mfor\u001B[39;00m _ \u001B[38;5;129;01min\u001B[39;00m \u001B[38;5;28mrange\u001B[39m(config\u001B[38;5;241m.\u001B[39mn_layer)]),\n\u001B[0;32m    148\u001B[0m     ln_f\u001B[38;5;241m=\u001B[39mLayerNorm(config\u001B[38;5;241m.\u001B[39mn_embd, bias\u001B[38;5;241m=\u001B[39mconfig\u001B[38;5;241m.\u001B[39mbias),\n\u001B[0;32m    149\u001B[0m ))\n\u001B[0;32m    151\u001B[0m \u001B[38;5;66;03m# init all weights\u001B[39;00m\n\u001B[1;32m--> 152\u001B[0m \u001B[38;5;28;43mself\u001B[39;49m\u001B[38;5;241m.\u001B[39mapply(\u001B[38;5;28mself\u001B[39m\u001B[38;5;241m.\u001B[39m_init_weights)\n\u001B[0;32m    153\u001B[0m \u001B[38;5;66;03m# apply special scaled init to the residual projections, per GPT-2 paper\u001B[39;00m\n\u001B[0;32m    154\u001B[0m \u001B[38;5;28;01mfor\u001B[39;00m pn, p \u001B[38;5;129;01min\u001B[39;00m \u001B[38;5;28mself\u001B[39m\u001B[38;5;241m.\u001B[39mnamed_parameters():\n",
      "File \u001B[1;32m~\\DataspellProjects\\looped_transformer\\scripts\\nano_gpt.py:152\u001B[0m, in \u001B[0;36mGPT2Model.__init__\u001B[1;34m(self, config)\u001B[0m\n\u001B[0;32m    144\u001B[0m \u001B[38;5;28mself\u001B[39m\u001B[38;5;241m.\u001B[39mtransformer \u001B[38;5;241m=\u001B[39m nn\u001B[38;5;241m.\u001B[39mModuleDict(\u001B[38;5;28mdict\u001B[39m(\n\u001B[0;32m    145\u001B[0m     wpe\u001B[38;5;241m=\u001B[39mnn\u001B[38;5;241m.\u001B[39mEmbedding(config\u001B[38;5;241m.\u001B[39mblock_size, config\u001B[38;5;241m.\u001B[39mn_embd),\n\u001B[0;32m    146\u001B[0m     drop\u001B[38;5;241m=\u001B[39mnn\u001B[38;5;241m.\u001B[39mDropout(config\u001B[38;5;241m.\u001B[39mdropout),\n\u001B[0;32m    147\u001B[0m     h\u001B[38;5;241m=\u001B[39mnn\u001B[38;5;241m.\u001B[39mModuleList([Block(config) \u001B[38;5;28;01mfor\u001B[39;00m _ \u001B[38;5;129;01min\u001B[39;00m \u001B[38;5;28mrange\u001B[39m(config\u001B[38;5;241m.\u001B[39mn_layer)]),\n\u001B[0;32m    148\u001B[0m     ln_f\u001B[38;5;241m=\u001B[39mLayerNorm(config\u001B[38;5;241m.\u001B[39mn_embd, bias\u001B[38;5;241m=\u001B[39mconfig\u001B[38;5;241m.\u001B[39mbias),\n\u001B[0;32m    149\u001B[0m ))\n\u001B[0;32m    151\u001B[0m \u001B[38;5;66;03m# init all weights\u001B[39;00m\n\u001B[1;32m--> 152\u001B[0m \u001B[38;5;28;43mself\u001B[39;49m\u001B[38;5;241m.\u001B[39mapply(\u001B[38;5;28mself\u001B[39m\u001B[38;5;241m.\u001B[39m_init_weights)\n\u001B[0;32m    153\u001B[0m \u001B[38;5;66;03m# apply special scaled init to the residual projections, per GPT-2 paper\u001B[39;00m\n\u001B[0;32m    154\u001B[0m \u001B[38;5;28;01mfor\u001B[39;00m pn, p \u001B[38;5;129;01min\u001B[39;00m \u001B[38;5;28mself\u001B[39m\u001B[38;5;241m.\u001B[39mnamed_parameters():\n",
      "File \u001B[1;32m_pydevd_bundle\\\\pydevd_cython_win32_38_64.pyx:1187\u001B[0m, in \u001B[0;36m_pydevd_bundle.pydevd_cython_win32_38_64.SafeCallWrapper.__call__\u001B[1;34m()\u001B[0m\n",
      "File \u001B[1;32m_pydevd_bundle\\\\pydevd_cython_win32_38_64.pyx:627\u001B[0m, in \u001B[0;36m_pydevd_bundle.pydevd_cython_win32_38_64.PyDBFrame.trace_dispatch\u001B[1;34m()\u001B[0m\n",
      "File \u001B[1;32m_pydevd_bundle\\\\pydevd_cython_win32_38_64.pyx:937\u001B[0m, in \u001B[0;36m_pydevd_bundle.pydevd_cython_win32_38_64.PyDBFrame.trace_dispatch\u001B[1;34m()\u001B[0m\n",
      "File \u001B[1;32m_pydevd_bundle\\\\pydevd_cython_win32_38_64.pyx:928\u001B[0m, in \u001B[0;36m_pydevd_bundle.pydevd_cython_win32_38_64.PyDBFrame.trace_dispatch\u001B[1;34m()\u001B[0m\n",
      "File \u001B[1;32m_pydevd_bundle\\\\pydevd_cython_win32_38_64.pyx:585\u001B[0m, in \u001B[0;36m_pydevd_bundle.pydevd_cython_win32_38_64.PyDBFrame.do_wait_suspend\u001B[1;34m()\u001B[0m\n",
      "File \u001B[1;32mC:\\Program Files\\JetBrains\\DataSpell 2024.1.1\\plugins\\python-ce\\helpers\\pydev\\pydevd.py:1185\u001B[0m, in \u001B[0;36mPyDB.do_wait_suspend\u001B[1;34m(self, thread, frame, event, arg, send_suspend_message, is_unhandled_exception)\u001B[0m\n\u001B[0;32m   1182\u001B[0m         from_this_thread\u001B[38;5;241m.\u001B[39mappend(frame_id)\n\u001B[0;32m   1184\u001B[0m \u001B[38;5;28;01mwith\u001B[39;00m \u001B[38;5;28mself\u001B[39m\u001B[38;5;241m.\u001B[39m_threads_suspended_single_notification\u001B[38;5;241m.\u001B[39mnotify_thread_suspended(thread_id, stop_reason):\n\u001B[1;32m-> 1185\u001B[0m     \u001B[38;5;28;43mself\u001B[39;49m\u001B[38;5;241;43m.\u001B[39;49m\u001B[43m_do_wait_suspend\u001B[49m\u001B[43m(\u001B[49m\u001B[43mthread\u001B[49m\u001B[43m,\u001B[49m\u001B[43m \u001B[49m\u001B[43mframe\u001B[49m\u001B[43m,\u001B[49m\u001B[43m \u001B[49m\u001B[43mevent\u001B[49m\u001B[43m,\u001B[49m\u001B[43m \u001B[49m\u001B[43marg\u001B[49m\u001B[43m,\u001B[49m\u001B[43m \u001B[49m\u001B[43msuspend_type\u001B[49m\u001B[43m,\u001B[49m\u001B[43m \u001B[49m\u001B[43mfrom_this_thread\u001B[49m\u001B[43m)\u001B[49m\n",
      "File \u001B[1;32mC:\\Program Files\\JetBrains\\DataSpell 2024.1.1\\plugins\\python-ce\\helpers\\pydev\\pydevd.py:1200\u001B[0m, in \u001B[0;36mPyDB._do_wait_suspend\u001B[1;34m(self, thread, frame, event, arg, suspend_type, from_this_thread)\u001B[0m\n\u001B[0;32m   1197\u001B[0m             \u001B[38;5;28mself\u001B[39m\u001B[38;5;241m.\u001B[39m_call_mpl_hook()\n\u001B[0;32m   1199\u001B[0m         \u001B[38;5;28mself\u001B[39m\u001B[38;5;241m.\u001B[39mprocess_internal_commands()\n\u001B[1;32m-> 1200\u001B[0m         \u001B[43mtime\u001B[49m\u001B[38;5;241;43m.\u001B[39;49m\u001B[43msleep\u001B[49m\u001B[43m(\u001B[49m\u001B[38;5;241;43m0.01\u001B[39;49m\u001B[43m)\u001B[49m\n\u001B[0;32m   1202\u001B[0m \u001B[38;5;28mself\u001B[39m\u001B[38;5;241m.\u001B[39mcancel_async_evaluation(get_current_thread_id(thread), \u001B[38;5;28mstr\u001B[39m(\u001B[38;5;28mid\u001B[39m(frame)))\n\u001B[0;32m   1204\u001B[0m \u001B[38;5;66;03m# process any stepping instructions\u001B[39;00m\n",
      "\u001B[1;31mKeyboardInterrupt\u001B[0m: "
     ]
    }
   ],
   "execution_count": 58
  },
  {
   "metadata": {
    "ExecuteTime": {
     "end_time": "2024-07-24T10:53:55.073976Z",
     "start_time": "2024-07-24T10:53:55.060397Z"
    }
   },
   "cell_type": "code",
   "source": [
    "from scripts.main_utils import gen_dataloader\n",
    "from scripts.tasks import get_task_sampler\n",
    "\n",
    "task_sampler = get_task_sampler(\n",
    "    task_name=\"linear_regression\",\n",
    "    batch_size=2,\n",
    "    n_points=7,\n",
    "    n_dims=4,\n",
    "    n_dims_truncated=1,\n",
    "    device=\"cuda\",\n",
    ")\n",
    "\n",
    "real_task = task_sampler()\n",
    "xs, ys = real_task.xs.float(), real_task.ys.float()\n",
    "n_loops = 1; horizon_start = max(0, n_loops - 20)\n",
    "xs, ys, xs.shape, ys.shape"
   ],
   "id": "30ed964d1224d8b3",
   "outputs": [
    {
     "data": {
      "text/plain": [
       "(tensor([[[-0.9282,  0.0000,  0.0000,  0.0000],\n",
       "          [ 0.4507,  0.0000,  0.0000,  0.0000],\n",
       "          [-3.0299,  0.0000,  0.0000,  0.0000],\n",
       "          [-0.2710,  0.0000,  0.0000,  0.0000],\n",
       "          [-0.3976,  0.0000,  0.0000,  0.0000],\n",
       "          [ 1.5787,  0.0000,  0.0000,  0.0000],\n",
       "          [ 0.2183,  0.0000,  0.0000,  0.0000]],\n",
       " \n",
       "         [[ 1.0496,  0.0000,  0.0000,  0.0000],\n",
       "          [-0.2318,  0.0000,  0.0000,  0.0000],\n",
       "          [ 2.3027,  0.0000,  0.0000,  0.0000],\n",
       "          [ 0.2870,  0.0000,  0.0000,  0.0000],\n",
       "          [-0.6655,  0.0000,  0.0000,  0.0000],\n",
       "          [ 1.3583,  0.0000,  0.0000,  0.0000],\n",
       "          [ 0.2276,  0.0000,  0.0000,  0.0000]]], device='cuda:0'),\n",
       " tensor([[ 1.5218, -0.7389,  4.9676,  0.4443,  0.6519, -2.5883, -0.3578],\n",
       "         [ 0.5869, -0.1296,  1.2876,  0.1605, -0.3721,  0.7595,  0.1273]],\n",
       "        device='cuda:0'),\n",
       " torch.Size([2, 7, 4]),\n",
       " torch.Size([2, 7]))"
      ]
     },
     "execution_count": 56,
     "metadata": {},
     "output_type": "execute_result"
    }
   ],
   "execution_count": 56
  },
  {
   "metadata": {
    "ExecuteTime": {
     "end_time": "2024-07-24T10:53:56.843163Z",
     "start_time": "2024-07-24T10:53:56.797237Z"
    }
   },
   "cell_type": "code",
   "source": [
    "y_pred = model(xs, ys, add_inputs_embeds=False) \n",
    "print(y_pred)\n",
    "loss = (ys - y_pred).square().mean()\n",
    "loss"
   ],
   "id": "8ad2dfef24798b7d",
   "outputs": [
    {
     "name": "stdout",
     "output_type": "stream",
     "text": [
      "tensor([[ 0.3433, -0.2220,  0.6188, -0.0318,  0.1309, -0.3208, -0.1465],\n",
      "        [-0.3215,  0.0329, -0.3724, -0.2268,  0.2844, -0.2894, -0.1307]],\n",
      "       device='cuda:0', grad_fn=<SelectBackward0>)\n"
     ]
    },
    {
     "data": {
      "text/plain": [
       "tensor(2.2576, device='cuda:0', grad_fn=<MeanBackward0>)"
      ]
     },
     "execution_count": 57,
     "metadata": {},
     "output_type": "execute_result"
    }
   ],
   "execution_count": 57
  },
  {
   "metadata": {
    "ExecuteTime": {
     "end_time": "2024-07-24T10:52:00.265405Z",
     "start_time": "2024-07-24T10:52:00.257408Z"
    }
   },
   "cell_type": "code",
   "source": "",
   "id": "3973656493aa71c3",
   "outputs": [
    {
     "data": {
      "text/plain": [
       "tensor(0.2006, device='cuda:0', grad_fn=<MeanBackward0>)"
      ]
     },
     "execution_count": 46,
     "metadata": {},
     "output_type": "execute_result"
    }
   ],
   "execution_count": 46
  },
  {
   "metadata": {},
   "cell_type": "code",
   "outputs": [],
   "execution_count": null,
   "source": [
    "model = TransformerModel(\n",
    "    n_dims=4,\n",
    "    n_positions=101,\n",
    "    n_embd=256,\n",
    "    n_layer=12,\n",
    "    n_head=8,\n",
    "    pred_type=\"regression\",\n",
    ").cuda()"
   ],
   "id": "6064ed0f31b2d95f"
  }
 ],
 "metadata": {
  "kernelspec": {
   "display_name": "Python 3",
   "language": "python",
   "name": "python3"
  },
  "language_info": {
   "codemirror_mode": {
    "name": "ipython",
    "version": 2
   },
   "file_extension": ".py",
   "mimetype": "text/x-python",
   "name": "python",
   "nbconvert_exporter": "python",
   "pygments_lexer": "ipython2",
   "version": "2.7.6"
  }
 },
 "nbformat": 4,
 "nbformat_minor": 5
}
