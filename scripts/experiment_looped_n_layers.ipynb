{
 "cells": [
  {
   "metadata": {
    "ExecuteTime": {
     "end_time": "2024-07-31T13:14:27.267379Z",
     "start_time": "2024-07-31T13:14:27.258Z"
    }
   },
   "cell_type": "code",
   "source": [
    "import matplotlib.pyplot as plt\n",
    "import numpy as np\n",
    "from models import TransformerModelLooped\n",
    "from train import train_without_config, validate_model\n",
    "\n",
    "n_dims = 10"
   ],
   "id": "cf3d1436559409c9",
   "execution_count": 13,
   "outputs": []
  },
  {
   "metadata": {
    "ExecuteTime": {
     "end_time": "2024-07-31T12:39:40.571969Z",
     "start_time": "2024-07-31T12:39:39.389634Z"
    }
   },
   "cell_type": "code",
   "source": [
    "import torch\n",
    "## Random seed, trained not locally\n",
    "\n",
    "models_dir = \"../scripts/scripts/models\"\n",
    "def get_model(c_path, l, h):\n",
    "    \n",
    "    model = TransformerModelLooped(n_dims=n_dims,\n",
    "                                     n_positions=101,\n",
    "                                     n_embd=256,\n",
    "                                     n_layer=l,\n",
    "                                     n_head=h,\n",
    "                                     pred_type=\"regression\").cuda()\n",
    "    model.load_state_dict(\n",
    "        torch.load(f\"{models_dir}/{c_path}\", weights_only=True)[\"model_state_dict\"])\n",
    "    return model\n",
    "\n",
    "# L = 1; h = 4\n",
    "model_b5_l1 = get_model(\"noisy_linear_regression/model_b5.pt\", 1, 4)\n",
    "model_b5_l1_t10 = get_model(\"noisy_linear_regression/model_b5_t10.pt\", 1, 4)\n",
    "model_b10_l1 = get_model(\"noisy_linear_regression/model_b10.pt\", 1, 4)\n",
    "model_b10_l1_t10 = get_model(\"noisy_linear_regression/model_b10_t10.pt\", 1, 4)\n",
    "model_b20_l1 = get_model(\"noisy_linear_regression/model_b20.pt\", 1, 4)\n",
    "model_b20_l1_t10 = get_model(\"noisy_linear_regression/model_b20_t10.pt\", 1, 4)\n",
    "\n",
    "model_b5_l2 = get_model(\"n_layers/model_b5_L2.pt\", 2, 4)\n",
    "model_b5_l4 = get_model(\"n_layers/model_b5_L4.pt\", 4, 4)\n",
    "\n",
    "model_b5_l2_t10 = get_model(\"n_layers/model_b5_t10_L2.pt\", 2, 4)\n",
    "model_b5_l4_t10 = get_model(\"n_layers/model_b5_t10_L4.pt\", 4, 4)\n",
    "\n",
    "model_b10_l2 = get_model(\"n_layers/model_b10_L2.pt\", 2, 4)\n",
    "model_b10_l4 = get_model(\"n_layers/model_b10_L4.pt\", 4, 4)"
   ],
   "id": "c29458a325b05181",
   "execution_count": 5,
   "outputs": []
  },
  {
   "metadata": {
    "ExecuteTime": {
     "end_time": "2024-08-01T09:03:11.762535Z",
     "start_time": "2024-08-01T09:03:11.255396Z"
    }
   },
   "cell_type": "code",
   "source": [
    "model_b10_l2_t10 = get_model(\"n_layers/model_b10_t10_L2.pt\", 2, 4)\n",
    "model_b10_l4_t10 = get_model(\"n_layers/model_b10_t10_L4.pt\", 4, 4)"
   ],
   "id": "b439154d01d9ba35",
   "execution_count": 68,
   "outputs": []
  },
  {
   "metadata": {
    "ExecuteTime": {
     "end_time": "2024-07-31T12:55:11.513390Z",
     "start_time": "2024-07-31T12:42:43.404651Z"
    }
   },
   "cell_type": "code",
   "source": [
    "def calculate_by_loop(model):\n",
    "    val_by_loop = []\n",
    "    loop_steps = []\n",
    "    model.eval()\n",
    "    for i in range(1, 60):\n",
    "        val_loss = validate_model(model, n_dims_truncated=10, n_loops=i, model_n_dims=10, n_points=31, family=\"gpt2_loop\", task_name=\"noisy_linear_regression\")\n",
    "        val_by_loop.append(val_loss / n_dims)\n",
    "        loop_steps.append(i)\n",
    "    return loop_steps, val_by_loop\n",
    "\n",
    "steps_b5_l1, values_b5_l1 = calculate_by_loop(model_b5_l1)\n",
    "steps_b5_l2, values_b5_l2 = calculate_by_loop(model_b5_l2)\n",
    "steps_b5_l4, values_b5_l4 = calculate_by_loop(model_b5_l4)"
   ],
   "id": "5f302c5012279a72",
   "execution_count": 6,
   "outputs": []
  },
  {
   "metadata": {
    "ExecuteTime": {
     "end_time": "2024-07-31T13:10:05.473105Z",
     "start_time": "2024-07-31T12:57:46.800419Z"
    }
   },
   "cell_type": "code",
   "source": [
    "steps_b10_l1, values_b10_l1 = calculate_by_loop(model_b10_l1)\n",
    "steps_b10_l2, values_b10_l2 = calculate_by_loop(model_b10_l2)\n",
    "steps_b10_l4, values_b10_l4 = calculate_by_loop(model_b10_l4)"
   ],
   "id": "d07858724dec9f2e",
   "execution_count": 9,
   "outputs": []
  },
  {
   "metadata": {
    "ExecuteTime": {
     "end_time": "2024-08-01T06:23:24.616454Z",
     "start_time": "2024-08-01T06:11:11.759528Z"
    }
   },
   "cell_type": "code",
   "source": [
    "steps_b5_l1_t10, values_b5_l1_t10 = calculate_by_loop(model_b5_l1_t10)\n",
    "steps_b5_l2_t10, values_b5_l2_t10 = calculate_by_loop(model_b5_l2_t10)\n",
    "steps_b5_l4_t10, values_b5_l4_t10 = calculate_by_loop(model_b5_l4_t10)"
   ],
   "id": "800f61ebf066445d",
   "execution_count": 24,
   "outputs": []
  },
  {
   "metadata": {
    "ExecuteTime": {
     "end_time": "2024-08-01T06:41:06.279017Z",
     "start_time": "2024-08-01T06:39:24.177881Z"
    }
   },
   "cell_type": "code",
   "source": "steps_b10_l1_t10, values_b10_l1_t10 = calculate_by_loop(model_b10_l1_t10)",
   "id": "cc0206dee4a63120",
   "execution_count": 25,
   "outputs": []
  },
  {
   "metadata": {
    "ExecuteTime": {
     "end_time": "2024-08-01T06:45:20.967430Z",
     "start_time": "2024-08-01T06:41:56.423436Z"
    }
   },
   "cell_type": "code",
   "source": "steps_b10_l2_t10, values_b10_l2_t10 = calculate_by_loop(model_b10_l2_t10)",
   "id": "7e239cc6810b7b2a",
   "execution_count": 28,
   "outputs": []
  },
  {
   "metadata": {
    "ExecuteTime": {
     "end_time": "2024-08-01T09:10:16.363713Z",
     "start_time": "2024-08-01T09:03:31.111553Z"
    }
   },
   "cell_type": "code",
   "source": "steps_b10_l4_t10, values_b10_l4_t10 = calculate_by_loop(model_b10_l4_t10)",
   "id": "adae3b3f4e8b5372",
   "execution_count": 69,
   "outputs": []
  },
  {
   "metadata": {
    "ExecuteTime": {
     "end_time": "2024-08-01T07:45:28.835735Z",
     "start_time": "2024-08-01T07:45:27.132092Z"
    }
   },
   "cell_type": "code",
   "source": [
    "fig, axs = plt.subplots(2, 3, figsize=(14,6))\n",
    "\n",
    "fig.suptitle('Model convergence', fontsize=16)\n",
    "#axs.set_title(\"Standard loop\")\n",
    "\n",
    "axs[0, 0].set_title(\"Full size\")\n",
    "axs[0, 0].set_ylabel(\"T = 20\")\n",
    "axs[0, 0].plot(steps_b5_l1, values_b5_l1)\n",
    "axs[0, 0].plot(steps_b5_l2, values_b5_l2)\n",
    "axs[0, 0].plot(steps_b5_l4, values_b5_l4)\n",
    "axs[0, 0].set_ylim([0, 0.1])\n",
    "axs[0, 0].grid()\n",
    "axs[0, 0].axvline(x = 5, color = 'orange', label = 'axvline - full height', linestyle='dashed')\n",
    "axs[0, 0].legend([\"b=5; L=1\", \"b=5; L=2\", \"b=5; L=4\"])\n",
    "\n",
    "axs[0, 1].set_title(\"Full size\")\n",
    "axs[0, 1].plot(steps_b10_l1, values_b10_l1)\n",
    "axs[0, 1].plot(steps_b10_l2, values_b10_l2)\n",
    "axs[0, 1].plot(steps_b10_l4, values_b10_l4)\n",
    "axs[0, 1].set_ylim([0, 0.1])\n",
    "axs[0, 1].grid()\n",
    "axs[0, 1].axvline(x = 10, color = 'orange', label = 'axvline - full height', linestyle='dashed')\n",
    "axs[0, 1].legend([\"b=10; L=1\", \"b=10; L=2\", \"b=10; L=4\"])\n",
    "\n",
    "axs[0, 2].set_title(\"Zoomed\")\n",
    "axs[0, 2].plot(steps_b10_l1, values_b10_l1)\n",
    "axs[0, 2].plot(steps_b10_l2, values_b10_l2)\n",
    "axs[0, 2].plot(steps_b10_l4, values_b10_l4)\n",
    "axs[0, 2].set_ylim([0, 0.01])\n",
    "axs[0, 2].set_xlim([0, 20])\n",
    "axs[0, 2].grid()\n",
    "axs[0, 2].legend([\"b=10; L=1\", \"b=10; L=2\", \"b=10; L=4\"])\n",
    "\n",
    "axs[1, 0].set_ylabel(\"T = 10\")\n",
    "axs[1, 0].plot(steps_b5_l1_t10, values_b5_l1_t10)\n",
    "axs[1, 0].plot(steps_b5_l2_t10, values_b5_l2_t10)\n",
    "axs[1, 0].plot(steps_b5_l4_t10, values_b5_l4_t10)\n",
    "axs[1, 0].set_ylim([0, 0.1])\n",
    "axs[1, 0].grid()\n",
    "axs[1, 0].axvline(x = 5, color = 'orange', label = 'axvline - full height', linestyle='dashed')\n",
    "axs[1, 0].legend([\"b=5; L=1\", \"b=5; L=2\", \"b=5; L=4\"])\n",
    "\n",
    "axs[1, 1].plot(steps_b10_l1_t10, values_b10_l1_t10)\n",
    "axs[1, 1].plot(steps_b10_l2_t10, values_b10_l2_t10)\n",
    "axs[1, 1].plot(steps_b10_l4_t10, values_b10_l4_t10)\n",
    "axs[1, 1].set_ylim([0, 0.1])\n",
    "axs[1, 1].grid()\n",
    "axs[1, 1].axvline(x = 10, color = 'orange', label = 'axvline - full height', linestyle='dashed')\n",
    "axs[1, 1].legend([\"b=10; L=1\", \"b=10; L=2\", \"b=10; L=4\"])\n",
    "\n",
    "axs[1, 2].plot(steps_b10_l1_t10, values_b10_l1_t10)\n",
    "axs[1, 2].plot(steps_b10_l2_t10, values_b10_l2_t10)\n",
    "axs[1, 2].plot(steps_b10_l4_t10, values_b10_l4_t10)\n",
    "axs[1, 2].set_ylim([0, 0.01])\n",
    "axs[1, 2].set_xlim([0, 60])\n",
    "axs[1, 2].grid()\n",
    "axs[1, 2].legend([\"b=10; L=1\", \"b=10; L=2\", \"b=10; L=4\"])\n",
    "\n",
    "fig.savefig(\"../images/experiment_looped_n_layers_convergence.png\")"
   ],
   "id": "aa1a9cc984b5988a",
   "execution_count": 67,
   "outputs": []
  },
  {
   "metadata": {
    "ExecuteTime": {
     "end_time": "2024-08-01T07:41:45.664237Z",
     "start_time": "2024-08-01T07:41:45.644122Z"
    }
   },
   "cell_type": "code",
   "source": "",
   "id": "2f881274c8e40813",
   "execution_count": 61,
   "outputs": []
  }
 ],
 "metadata": {
  "kernelspec": {
   "display_name": "Python 3",
   "language": "python",
   "name": "python3"
  },
  "language_info": {
   "codemirror_mode": {
    "name": "ipython",
    "version": 2
   },
   "file_extension": ".py",
   "mimetype": "text/x-python",
   "name": "python",
   "nbconvert_exporter": "python",
   "pygments_lexer": "ipython2",
   "version": "2.7.6"
  }
 },
 "nbformat": 4,
 "nbformat_minor": 5
}
