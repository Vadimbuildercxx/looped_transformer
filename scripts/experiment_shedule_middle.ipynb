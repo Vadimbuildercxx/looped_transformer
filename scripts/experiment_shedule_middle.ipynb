{
 "cells": [
  {
   "metadata": {
    "ExecuteTime": {
     "end_time": "2024-07-30T06:28:29.084423Z",
     "start_time": "2024-07-30T06:28:29.072687Z"
    }
   },
   "cell_type": "code",
   "source": [
    "import matplotlib.pyplot as plt\n",
    "\n",
    "from models import TransformerModelLooped\n",
    "from curriculum import CurriculumSimple\n",
    "from train import train_without_config, validate_model\n",
    "\n",
    "n_dims = 10"
   ],
   "id": "cf3d1436559409c9",
   "outputs": [],
   "execution_count": 24
  },
  {
   "metadata": {
    "ExecuteTime": {
     "end_time": "2024-07-30T06:26:45.708863Z",
     "start_time": "2024-07-30T06:25:30.615056Z"
    }
   },
   "cell_type": "code",
   "source": [
    "model_loop_b5 = TransformerModelLooped(\n",
    "    n_dims=n_dims,\n",
    "    n_positions=101,\n",
    "    n_embd=128,\n",
    "    n_layer=1,\n",
    "    n_head=4,\n",
    "    pred_type=\"regression\",\n",
    ").cuda()\n",
    "\n",
    "cirriculum_b5 = CurriculumSimple(n_dims, 31, 5, [5000, n_dims, 0], [5000, 31, 0], [1000, 5, 0])\n",
    "\n",
    "metrics_l1_b5_d10 = train_without_config(\n",
    "    model_loop_b5, cirriculum_b5, n_loop_window=5,model_n_dims=n_dims,\n",
    "    log_every_steps=10, train_steps=15000, family=\"gpt2_loop\",\n",
    "    do_wandb_log=False, seed=None, task_name=\"linear_regression\")"
   ],
   "id": "4a1413e05a57e3d1",
   "outputs": [
    {
     "name": "stdout",
     "output_type": "stream",
     "text": [
      "number of parameters: 0.79M\n"
     ]
    },
    {
     "name": "stderr",
     "output_type": "stream",
     "text": [
      "  0%|          | 0/15000 [00:00<?, ?it/s]"
     ]
    },
    {
     "name": "stdout",
     "output_type": "stream",
     "text": [
      "0\n"
     ]
    },
    {
     "name": "stderr",
     "output_type": "stream",
     "text": [
      "loss 10.048377990722656:   6%|▋         | 942/15000 [01:14<18:28, 12.68it/s]\n"
     ]
    },
    {
     "ename": "KeyboardInterrupt",
     "evalue": "",
     "output_type": "error",
     "traceback": [
      "\u001B[1;31m---------------------------------------------------------------------------\u001B[0m",
      "\u001B[1;31mKeyboardInterrupt\u001B[0m                         Traceback (most recent call last)",
      "Cell \u001B[1;32mIn[22], line 12\u001B[0m\n\u001B[0;32m      1\u001B[0m model_loop_b5 \u001B[38;5;241m=\u001B[39m TransformerModelLooped(\n\u001B[0;32m      2\u001B[0m     n_dims\u001B[38;5;241m=\u001B[39mn_dims,\n\u001B[0;32m      3\u001B[0m     n_positions\u001B[38;5;241m=\u001B[39m\u001B[38;5;241m101\u001B[39m,\n\u001B[1;32m   (...)\u001B[0m\n\u001B[0;32m      7\u001B[0m     pred_type\u001B[38;5;241m=\u001B[39m\u001B[38;5;124m\"\u001B[39m\u001B[38;5;124mregression\u001B[39m\u001B[38;5;124m\"\u001B[39m,\n\u001B[0;32m      8\u001B[0m )\u001B[38;5;241m.\u001B[39mcuda()\n\u001B[0;32m     10\u001B[0m cirriculum_b5 \u001B[38;5;241m=\u001B[39m CurriculumSimple(n_dims, \u001B[38;5;241m41\u001B[39m, \u001B[38;5;241m5\u001B[39m, [\u001B[38;5;241m5000\u001B[39m, n_dims, \u001B[38;5;241m0\u001B[39m], [\u001B[38;5;241m5000\u001B[39m, \u001B[38;5;241m41\u001B[39m, \u001B[38;5;241m0\u001B[39m], [\u001B[38;5;241m1000\u001B[39m, \u001B[38;5;241m5\u001B[39m, \u001B[38;5;241m0\u001B[39m])\n\u001B[1;32m---> 12\u001B[0m metrics_l1_b5_d10 \u001B[38;5;241m=\u001B[39m \u001B[43mtrain_without_config\u001B[49m\u001B[43m(\u001B[49m\n\u001B[0;32m     13\u001B[0m \u001B[43m    \u001B[49m\u001B[43mmodel_loop_b5\u001B[49m\u001B[43m,\u001B[49m\u001B[43m \u001B[49m\u001B[43mcirriculum_b5\u001B[49m\u001B[43m,\u001B[49m\u001B[43m \u001B[49m\u001B[43mmodel_n_dims\u001B[49m\u001B[38;5;241;43m=\u001B[39;49m\u001B[43mn_dims\u001B[49m\u001B[43m,\u001B[49m\n\u001B[0;32m     14\u001B[0m \u001B[43m    \u001B[49m\u001B[43mlog_every_steps\u001B[49m\u001B[38;5;241;43m=\u001B[39;49m\u001B[38;5;241;43m10\u001B[39;49m\u001B[43m,\u001B[49m\u001B[43m \u001B[49m\u001B[43mtrain_steps\u001B[49m\u001B[38;5;241;43m=\u001B[39;49m\u001B[38;5;241;43m15000\u001B[39;49m\u001B[43m,\u001B[49m\u001B[43m \u001B[49m\u001B[43mfamily\u001B[49m\u001B[38;5;241;43m=\u001B[39;49m\u001B[38;5;124;43m\"\u001B[39;49m\u001B[38;5;124;43mgpt2_loop\u001B[39;49m\u001B[38;5;124;43m\"\u001B[39;49m\u001B[43m,\u001B[49m\n\u001B[0;32m     15\u001B[0m \u001B[43m    \u001B[49m\u001B[43mdo_wandb_log\u001B[49m\u001B[38;5;241;43m=\u001B[39;49m\u001B[38;5;28;43;01mFalse\u001B[39;49;00m\u001B[43m,\u001B[49m\u001B[43m \u001B[49m\u001B[43mseed\u001B[49m\u001B[38;5;241;43m=\u001B[39;49m\u001B[38;5;28;43;01mNone\u001B[39;49;00m\u001B[43m,\u001B[49m\u001B[43m \u001B[49m\u001B[43mtask_name\u001B[49m\u001B[38;5;241;43m=\u001B[39;49m\u001B[38;5;124;43m\"\u001B[39;49m\u001B[38;5;124;43mlinear_regression\u001B[39;49m\u001B[38;5;124;43m\"\u001B[39;49m\u001B[43m)\u001B[49m\n",
      "File \u001B[1;32m~\\DataspellProjects\\looped_transformer\\scripts\\train.py:209\u001B[0m, in \u001B[0;36mtrain_without_config\u001B[1;34m(model, curriculum, lr, add_inputs_embeds, task_name, batch_size, n_loop_window, model_n_dims, train_steps, family, experiment_name, out_dir, do_wandb_log, log_every_steps, use_ctx, project_name, project_notes, seed, weight_decay, sparsity, save_every_steps, device)\u001B[0m\n\u001B[0;32m    206\u001B[0m real_task \u001B[38;5;241m=\u001B[39m task_sampler()\n\u001B[0;32m    207\u001B[0m xs, ys \u001B[38;5;241m=\u001B[39m real_task\u001B[38;5;241m.\u001B[39mxs\u001B[38;5;241m.\u001B[39mfloat(), real_task\u001B[38;5;241m.\u001B[39mys\u001B[38;5;241m.\u001B[39mfloat()\n\u001B[1;32m--> 209\u001B[0m loss, output, total_norm, grad_norm_dict \u001B[38;5;241m=\u001B[39m \u001B[43mtrain_step\u001B[49m\u001B[43m(\u001B[49m\u001B[43mcurriculum\u001B[49m\u001B[43m,\u001B[49m\u001B[43m \u001B[49m\u001B[43mmodel\u001B[49m\u001B[43m,\u001B[49m\u001B[43m \u001B[49m\u001B[43mxs\u001B[49m\u001B[43m,\u001B[49m\u001B[43m \u001B[49m\u001B[43mys\u001B[49m\u001B[43m,\u001B[49m\u001B[43m \u001B[49m\u001B[43moptimizer\u001B[49m\u001B[43m,\u001B[49m\u001B[43m \u001B[49m\u001B[43mctx\u001B[49m\u001B[43m,\u001B[49m\u001B[43m \u001B[49m\u001B[43mscaler\u001B[49m\u001B[43m,\u001B[49m\n\u001B[0;32m    210\u001B[0m \u001B[43m                                                      \u001B[49m\u001B[43madd_inputs_embeds\u001B[49m\u001B[43m,\u001B[49m\u001B[43m \u001B[49m\u001B[43mfamily\u001B[49m\u001B[38;5;241;43m=\u001B[39;49m\u001B[43mfamily\u001B[49m\u001B[43m,\u001B[49m\u001B[43m \u001B[49m\u001B[43muse_ctx\u001B[49m\u001B[38;5;241;43m=\u001B[39;49m\u001B[43muse_ctx\u001B[49m\u001B[43m,\u001B[49m\u001B[43m \u001B[49m\u001B[43mn_loop_window\u001B[49m\u001B[38;5;241;43m=\u001B[39;49m\u001B[43mn_loop_window\u001B[49m\u001B[43m)\u001B[49m\n\u001B[0;32m    212\u001B[0m \u001B[38;5;66;03m# EVALUATION ======================================\u001B[39;00m\n\u001B[0;32m    213\u001B[0m point_wise_tags \u001B[38;5;241m=\u001B[39m \u001B[38;5;28mlist\u001B[39m(\u001B[38;5;28mrange\u001B[39m(curriculum\u001B[38;5;241m.\u001B[39mn_points))  \u001B[38;5;66;03m# [0, 1, 2, ..., n-1]\u001B[39;00m\n",
      "File \u001B[1;32m~\\DataspellProjects\\looped_transformer\\scripts\\train.py:115\u001B[0m, in \u001B[0;36mtrain_step\u001B[1;34m(curriculum, model, xs, ys, optimizer, ctx, scaler, add_inputs_embeds, use_ctx, n_loop_window, family)\u001B[0m\n\u001B[0;32m    113\u001B[0m     loss\u001B[38;5;241m.\u001B[39mbackward()\n\u001B[0;32m    114\u001B[0m     optimizer\u001B[38;5;241m.\u001B[39mstep()\n\u001B[1;32m--> 115\u001B[0m norm_dict, total_norm \u001B[38;5;241m=\u001B[39m \u001B[43mcalculate_gradient_norm\u001B[49m\u001B[43m(\u001B[49m\u001B[43mmodel\u001B[49m\u001B[43m)\u001B[49m\n\u001B[0;32m    116\u001B[0m optimizer\u001B[38;5;241m.\u001B[39mzero_grad(set_to_none\u001B[38;5;241m=\u001B[39m\u001B[38;5;28;01mTrue\u001B[39;00m)\n\u001B[0;32m    117\u001B[0m \u001B[38;5;28;01mreturn\u001B[39;00m loss\u001B[38;5;241m.\u001B[39mdetach(), y_pred\u001B[38;5;241m.\u001B[39mdetach(), total_norm, norm_dict\n",
      "File \u001B[1;32m~\\DataspellProjects\\looped_transformer\\scripts\\train.py:72\u001B[0m, in \u001B[0;36mcalculate_gradient_norm\u001B[1;34m(model)\u001B[0m\n\u001B[0;32m     70\u001B[0m \u001B[38;5;28;01mfor\u001B[39;00m n, p \u001B[38;5;129;01min\u001B[39;00m model\u001B[38;5;241m.\u001B[39mnamed_parameters():\n\u001B[0;32m     71\u001B[0m     param_norm \u001B[38;5;241m=\u001B[39m p\u001B[38;5;241m.\u001B[39mgrad\u001B[38;5;241m.\u001B[39mdata\u001B[38;5;241m.\u001B[39mnorm(\u001B[38;5;241m2\u001B[39m)\n\u001B[1;32m---> 72\u001B[0m     total_norm \u001B[38;5;241m+\u001B[39m\u001B[38;5;241m=\u001B[39m \u001B[43mparam_norm\u001B[49m\u001B[38;5;241;43m.\u001B[39;49m\u001B[43mitem\u001B[49m\u001B[43m(\u001B[49m\u001B[43m)\u001B[49m \u001B[38;5;241m*\u001B[39m\u001B[38;5;241m*\u001B[39m \u001B[38;5;241m2\u001B[39m\n\u001B[0;32m     73\u001B[0m     norm_dict[n] \u001B[38;5;241m=\u001B[39m param_norm\n\u001B[0;32m     74\u001B[0m total_norm \u001B[38;5;241m=\u001B[39m total_norm \u001B[38;5;241m*\u001B[39m\u001B[38;5;241m*\u001B[39m (\u001B[38;5;241m1.\u001B[39m \u001B[38;5;241m/\u001B[39m \u001B[38;5;241m2\u001B[39m)\n",
      "\u001B[1;31mKeyboardInterrupt\u001B[0m: "
     ]
    }
   ],
   "execution_count": 22
  },
  {
   "metadata": {
    "ExecuteTime": {
     "end_time": "2024-07-30T06:12:10.574348Z",
     "start_time": "2024-07-30T05:42:25.907517Z"
    }
   },
   "cell_type": "code",
   "source": [
    "model_loop_b10 = TransformerModelLooped(\n",
    "    n_dims=n_dims,\n",
    "    n_positions=101,\n",
    "    n_embd=128,\n",
    "    n_layer=1,\n",
    "    n_head=4,\n",
    "    pred_type=\"regression\",\n",
    ").cuda()\n",
    "\n",
    "cirriculum_b10 = CurriculumSimple(n_dims, 31, 10, [5000, n_dims, 0], [5000, 31, 0], [1000, 10, 0])\n",
    "\n",
    "metrics_l1_b10_d10 = train_without_config(\n",
    "    model_loop_b10, cirriculum_b10, n_loop_window=5, model_n_dims=n_dims,\n",
    "    log_every_steps=10, train_steps=15000, family=\"gpt2_loop\",\n",
    "    do_wandb_log=False, seed=None, task_name=\"linear_regression\")"
   ],
   "id": "d30df2bee3bf5c74",
   "outputs": [
    {
     "name": "stdout",
     "output_type": "stream",
     "text": [
      "number of parameters: 0.79M\n"
     ]
    },
    {
     "name": "stderr",
     "output_type": "stream",
     "text": [
      "  0%|          | 0/15000 [00:00<?, ?it/s]"
     ]
    },
    {
     "name": "stdout",
     "output_type": "stream",
     "text": [
      "0\n"
     ]
    },
    {
     "name": "stderr",
     "output_type": "stream",
     "text": [
      "loss 3.034191131591797: 100%|██████████| 15000/15000 [29:44<00:00,  8.41it/s] \n"
     ]
    }
   ],
   "execution_count": 18
  },
  {
   "metadata": {
    "ExecuteTime": {
     "end_time": "2024-07-30T07:58:40.916276Z",
     "start_time": "2024-07-30T07:58:08.891954Z"
    }
   },
   "cell_type": "code",
   "source": [
    "model_loop_b30 = TransformerModelLooped(\n",
    "    n_dims=n_dims,\n",
    "    n_positions=101,\n",
    "    n_embd=128,\n",
    "    n_layer=1,\n",
    "    n_head=4,\n",
    "    pred_type=\"regression\",\n",
    ").cuda()\n",
    "\n",
    "cirriculum_b30 = CurriculumSimple(n_dims, 31, 30, [5000, n_dims, 0], [5000, 31, 0], [1000, 30, 0])\n",
    "\n",
    "metrics_l1_b30_d10 = train_without_config(\n",
    "    model_loop_b30, cirriculum_b30, n_loop_window=5, model_n_dims=n_dims,\n",
    "    log_every_steps=10, train_steps=15000, family=\"gpt2_loop\",\n",
    "    do_wandb_log=False, seed=None, task_name=\"noisy_linear_regression\")"
   ],
   "id": "736dc2416aabfe18",
   "outputs": [
    {
     "name": "stdout",
     "output_type": "stream",
     "text": [
      "number of parameters: 0.20M\n"
     ]
    },
    {
     "name": "stderr",
     "output_type": "stream",
     "text": [
      "  0%|          | 0/15000 [00:00<?, ?it/s]"
     ]
    },
    {
     "name": "stdout",
     "output_type": "stream",
     "text": [
      "0\n"
     ]
    },
    {
     "name": "stderr",
     "output_type": "stream",
     "text": [
      "loss 9.36624526977539:   0%|          | 37/15000 [00:31<3:34:40,  1.16it/s]  \n"
     ]
    },
    {
     "ename": "KeyboardInterrupt",
     "evalue": "",
     "output_type": "error",
     "traceback": [
      "\u001B[1;31m---------------------------------------------------------------------------\u001B[0m",
      "\u001B[1;31mKeyboardInterrupt\u001B[0m                         Traceback (most recent call last)",
      "Cell \u001B[1;32mIn[33], line 12\u001B[0m\n\u001B[0;32m      1\u001B[0m model_loop_b30 \u001B[38;5;241m=\u001B[39m TransformerModelLooped(\n\u001B[0;32m      2\u001B[0m     n_dims\u001B[38;5;241m=\u001B[39mn_dims,\n\u001B[0;32m      3\u001B[0m     n_positions\u001B[38;5;241m=\u001B[39m\u001B[38;5;241m101\u001B[39m,\n\u001B[1;32m   (...)\u001B[0m\n\u001B[0;32m      7\u001B[0m     pred_type\u001B[38;5;241m=\u001B[39m\u001B[38;5;124m\"\u001B[39m\u001B[38;5;124mregression\u001B[39m\u001B[38;5;124m\"\u001B[39m,\n\u001B[0;32m      8\u001B[0m )\u001B[38;5;241m.\u001B[39mcuda()\n\u001B[0;32m     10\u001B[0m cirriculum_b30 \u001B[38;5;241m=\u001B[39m CurriculumSimple(n_dims, \u001B[38;5;241m31\u001B[39m, \u001B[38;5;241m30\u001B[39m, [\u001B[38;5;241m5000\u001B[39m, n_dims, \u001B[38;5;241m0\u001B[39m], [\u001B[38;5;241m5000\u001B[39m, \u001B[38;5;241m31\u001B[39m, \u001B[38;5;241m0\u001B[39m], [\u001B[38;5;241m1000\u001B[39m, \u001B[38;5;241m30\u001B[39m, \u001B[38;5;241m0\u001B[39m])\n\u001B[1;32m---> 12\u001B[0m metrics_l1_b30_d10 \u001B[38;5;241m=\u001B[39m \u001B[43mtrain_without_config\u001B[49m\u001B[43m(\u001B[49m\n\u001B[0;32m     13\u001B[0m \u001B[43m    \u001B[49m\u001B[43mmodel_loop_b30\u001B[49m\u001B[43m,\u001B[49m\u001B[43m \u001B[49m\u001B[43mcirriculum_b30\u001B[49m\u001B[43m,\u001B[49m\u001B[43m \u001B[49m\u001B[43mn_loop_window\u001B[49m\u001B[38;5;241;43m=\u001B[39;49m\u001B[38;5;241;43m5\u001B[39;49m\u001B[43m,\u001B[49m\u001B[43m \u001B[49m\u001B[43mmodel_n_dims\u001B[49m\u001B[38;5;241;43m=\u001B[39;49m\u001B[43mn_dims\u001B[49m\u001B[43m,\u001B[49m\n\u001B[0;32m     14\u001B[0m \u001B[43m    \u001B[49m\u001B[43mlog_every_steps\u001B[49m\u001B[38;5;241;43m=\u001B[39;49m\u001B[38;5;241;43m10\u001B[39;49m\u001B[43m,\u001B[49m\u001B[43m \u001B[49m\u001B[43mtrain_steps\u001B[49m\u001B[38;5;241;43m=\u001B[39;49m\u001B[38;5;241;43m15000\u001B[39;49m\u001B[43m,\u001B[49m\u001B[43m \u001B[49m\u001B[43mfamily\u001B[49m\u001B[38;5;241;43m=\u001B[39;49m\u001B[38;5;124;43m\"\u001B[39;49m\u001B[38;5;124;43mgpt2_loop\u001B[39;49m\u001B[38;5;124;43m\"\u001B[39;49m\u001B[43m,\u001B[49m\n\u001B[0;32m     15\u001B[0m \u001B[43m    \u001B[49m\u001B[43mdo_wandb_log\u001B[49m\u001B[38;5;241;43m=\u001B[39;49m\u001B[38;5;28;43;01mFalse\u001B[39;49;00m\u001B[43m,\u001B[49m\u001B[43m \u001B[49m\u001B[43mseed\u001B[49m\u001B[38;5;241;43m=\u001B[39;49m\u001B[38;5;28;43;01mNone\u001B[39;49;00m\u001B[43m,\u001B[49m\u001B[43m \u001B[49m\u001B[43mtask_name\u001B[49m\u001B[38;5;241;43m=\u001B[39;49m\u001B[38;5;124;43m\"\u001B[39;49m\u001B[38;5;124;43mnoisy_linear_regression\u001B[39;49m\u001B[38;5;124;43m\"\u001B[39;49m\u001B[43m)\u001B[49m\n",
      "File \u001B[1;32m~\\DataspellProjects\\looped_transformer\\scripts\\train.py:209\u001B[0m, in \u001B[0;36mtrain_without_config\u001B[1;34m(model, curriculum, lr, add_inputs_embeds, task_name, batch_size, n_loop_window, model_n_dims, train_steps, family, experiment_name, out_dir, do_wandb_log, log_every_steps, use_ctx, project_name, project_notes, seed, weight_decay, sparsity, save_every_steps, device)\u001B[0m\n\u001B[0;32m    206\u001B[0m real_task \u001B[38;5;241m=\u001B[39m task_sampler()\n\u001B[0;32m    207\u001B[0m xs, ys \u001B[38;5;241m=\u001B[39m real_task\u001B[38;5;241m.\u001B[39mxs\u001B[38;5;241m.\u001B[39mfloat(), real_task\u001B[38;5;241m.\u001B[39mys\u001B[38;5;241m.\u001B[39mfloat()\n\u001B[1;32m--> 209\u001B[0m loss, output, total_norm, grad_norm_dict \u001B[38;5;241m=\u001B[39m \u001B[43mtrain_step\u001B[49m\u001B[43m(\u001B[49m\u001B[43mcurriculum\u001B[49m\u001B[43m,\u001B[49m\u001B[43m \u001B[49m\u001B[43mmodel\u001B[49m\u001B[43m,\u001B[49m\u001B[43m \u001B[49m\u001B[43mxs\u001B[49m\u001B[43m,\u001B[49m\u001B[43m \u001B[49m\u001B[43mys\u001B[49m\u001B[43m,\u001B[49m\u001B[43m \u001B[49m\u001B[43moptimizer\u001B[49m\u001B[43m,\u001B[49m\u001B[43m \u001B[49m\u001B[43mctx\u001B[49m\u001B[43m,\u001B[49m\u001B[43m \u001B[49m\u001B[43mscaler\u001B[49m\u001B[43m,\u001B[49m\n\u001B[0;32m    210\u001B[0m \u001B[43m                                                      \u001B[49m\u001B[43madd_inputs_embeds\u001B[49m\u001B[43m,\u001B[49m\u001B[43m \u001B[49m\u001B[43mfamily\u001B[49m\u001B[38;5;241;43m=\u001B[39;49m\u001B[43mfamily\u001B[49m\u001B[43m,\u001B[49m\u001B[43m \u001B[49m\u001B[43muse_ctx\u001B[49m\u001B[38;5;241;43m=\u001B[39;49m\u001B[43muse_ctx\u001B[49m\u001B[43m,\u001B[49m\u001B[43m \u001B[49m\u001B[43mn_loop_window\u001B[49m\u001B[38;5;241;43m=\u001B[39;49m\u001B[43mn_loop_window\u001B[49m\u001B[43m)\u001B[49m\n\u001B[0;32m    212\u001B[0m \u001B[38;5;66;03m# EVALUATION ======================================\u001B[39;00m\n\u001B[0;32m    213\u001B[0m point_wise_tags \u001B[38;5;241m=\u001B[39m \u001B[38;5;28mlist\u001B[39m(\u001B[38;5;28mrange\u001B[39m(curriculum\u001B[38;5;241m.\u001B[39mn_points))  \u001B[38;5;66;03m# [0, 1, 2, ..., n-1]\u001B[39;00m\n",
      "File \u001B[1;32m~\\DataspellProjects\\looped_transformer\\scripts\\train.py:115\u001B[0m, in \u001B[0;36mtrain_step\u001B[1;34m(curriculum, model, xs, ys, optimizer, ctx, scaler, add_inputs_embeds, use_ctx, n_loop_window, family)\u001B[0m\n\u001B[0;32m    113\u001B[0m     loss\u001B[38;5;241m.\u001B[39mbackward()\n\u001B[0;32m    114\u001B[0m     optimizer\u001B[38;5;241m.\u001B[39mstep()\n\u001B[1;32m--> 115\u001B[0m norm_dict, total_norm \u001B[38;5;241m=\u001B[39m \u001B[43mcalculate_gradient_norm\u001B[49m\u001B[43m(\u001B[49m\u001B[43mmodel\u001B[49m\u001B[43m)\u001B[49m\n\u001B[0;32m    116\u001B[0m optimizer\u001B[38;5;241m.\u001B[39mzero_grad(set_to_none\u001B[38;5;241m=\u001B[39m\u001B[38;5;28;01mTrue\u001B[39;00m)\n\u001B[0;32m    117\u001B[0m \u001B[38;5;28;01mreturn\u001B[39;00m loss\u001B[38;5;241m.\u001B[39mdetach(), y_pred\u001B[38;5;241m.\u001B[39mdetach(), total_norm, norm_dict\n",
      "File \u001B[1;32m~\\DataspellProjects\\looped_transformer\\scripts\\train.py:72\u001B[0m, in \u001B[0;36mcalculate_gradient_norm\u001B[1;34m(model)\u001B[0m\n\u001B[0;32m     70\u001B[0m \u001B[38;5;28;01mfor\u001B[39;00m n, p \u001B[38;5;129;01min\u001B[39;00m model\u001B[38;5;241m.\u001B[39mnamed_parameters():\n\u001B[0;32m     71\u001B[0m     param_norm \u001B[38;5;241m=\u001B[39m p\u001B[38;5;241m.\u001B[39mgrad\u001B[38;5;241m.\u001B[39mdata\u001B[38;5;241m.\u001B[39mnorm(\u001B[38;5;241m2\u001B[39m)\n\u001B[1;32m---> 72\u001B[0m     total_norm \u001B[38;5;241m+\u001B[39m\u001B[38;5;241m=\u001B[39m \u001B[43mparam_norm\u001B[49m\u001B[38;5;241;43m.\u001B[39;49m\u001B[43mitem\u001B[49m\u001B[43m(\u001B[49m\u001B[43m)\u001B[49m \u001B[38;5;241m*\u001B[39m\u001B[38;5;241m*\u001B[39m \u001B[38;5;241m2\u001B[39m\n\u001B[0;32m     73\u001B[0m     norm_dict[n] \u001B[38;5;241m=\u001B[39m param_norm\n\u001B[0;32m     74\u001B[0m total_norm \u001B[38;5;241m=\u001B[39m total_norm \u001B[38;5;241m*\u001B[39m\u001B[38;5;241m*\u001B[39m (\u001B[38;5;241m1.\u001B[39m \u001B[38;5;241m/\u001B[39m \u001B[38;5;241m2\u001B[39m)\n",
      "\u001B[1;31mKeyboardInterrupt\u001B[0m: "
     ]
    }
   ],
   "execution_count": 33
  },
  {
   "metadata": {
    "ExecuteTime": {
     "end_time": "2024-07-30T07:09:43.779647Z",
     "start_time": "2024-07-30T06:58:37.944803Z"
    }
   },
   "cell_type": "code",
   "source": [
    "model_loop_b10_b20 = TransformerModelLooped(\n",
    "    n_dims=n_dims,\n",
    "    n_positions=101,\n",
    "    n_embd=128,\n",
    "    n_layer=1,\n",
    "    n_head=4,\n",
    "    pred_type=\"regression\",\n",
    ").cuda()\n",
    "\n",
    "cirriculum_b10_b20 = CurriculumSimple(n_dims, 31, 10, [5000, n_dims, 0], [5000, 31, 0], [1500, 20, 0])\n",
    "\n",
    "metrics_l1_b10_b20_d10 = train_without_config(\n",
    "    model_loop_b10_b20, cirriculum_b10_b20, n_loop_window=5, model_n_dims=n_dims,\n",
    "    log_every_steps=10, train_steps=15000, family=\"gpt2_loop\",\n",
    "    do_wandb_log=False, seed=None, task_name=\"linear_regression\")"
   ],
   "id": "5e02822a0adc9dbc",
   "outputs": [
    {
     "name": "stdout",
     "output_type": "stream",
     "text": [
      "number of parameters: 0.20M\n"
     ]
    },
    {
     "name": "stderr",
     "output_type": "stream",
     "text": [
      "  0%|          | 0/15000 [00:00<?, ?it/s]"
     ]
    },
    {
     "name": "stdout",
     "output_type": "stream",
     "text": [
      "0\n"
     ]
    },
    {
     "name": "stderr",
     "output_type": "stream",
     "text": [
      "loss 3.2983736991882324: 100%|██████████| 15000/15000 [11:05<00:00, 22.53it/s]\n"
     ]
    }
   ],
   "execution_count": 30
  },
  {
   "metadata": {
    "ExecuteTime": {
     "end_time": "2024-07-30T05:38:58.524855Z",
     "start_time": "2024-07-30T05:36:17.887148Z"
    }
   },
   "cell_type": "code",
   "source": [
    "def calculate_by_loop(model):\n",
    "    val_by_loop = []\n",
    "    loop_steps = []\n",
    "    for i in range(1, 60):\n",
    "        val_loss = validate_model(model, n_dims_truncated=10, n_loops=i, model_n_dims=10, n_points=31, family=\"gpt2_loop\", task_name=\"linear_regression\")\n",
    "        val_by_loop.append(val_loss / n_dims)\n",
    "        loop_steps.append(i)\n",
    "    return loop_steps, val_by_loop\n",
    "\n",
    "steps_b5, values_b5 = calculate_by_loop(model_loop_b5)"
   ],
   "id": "9fcd1d2e29f9d8ea",
   "outputs": [],
   "execution_count": 15
  },
  {
   "metadata": {
    "ExecuteTime": {
     "end_time": "2024-07-30T06:23:31.198596Z",
     "start_time": "2024-07-30T06:20:34.659894Z"
    }
   },
   "cell_type": "code",
   "source": "steps_b10, values_b10 = calculate_by_loop(model_loop_b10)",
   "id": "fa1c858b63859da9",
   "outputs": [],
   "execution_count": 19
  },
  {
   "metadata": {
    "ExecuteTime": {
     "end_time": "2024-07-30T06:50:26.997716Z",
     "start_time": "2024-07-30T06:49:02.384031Z"
    }
   },
   "cell_type": "code",
   "source": "steps_b30, values_b30 = calculate_by_loop(model_loop_b30)",
   "id": "46718bb308472954",
   "outputs": [],
   "execution_count": 26
  },
  {
   "metadata": {
    "ExecuteTime": {
     "end_time": "2024-07-30T07:14:49.776688Z",
     "start_time": "2024-07-30T07:13:37.191943Z"
    }
   },
   "cell_type": "code",
   "source": "steps_b10_b20, values_b10_b20 = calculate_by_loop(model_loop_b10_b20)",
   "id": "fe09cb15284165f6",
   "outputs": [],
   "execution_count": 31
  },
  {
   "metadata": {
    "ExecuteTime": {
     "end_time": "2024-07-30T07:14:58.406646Z",
     "start_time": "2024-07-30T07:14:58.266655Z"
    }
   },
   "cell_type": "code",
   "source": [
    "plt.plot(steps_b30, values_b30 )\n",
    "plt.plot(steps_b10_b20, values_b10_b20 )\n",
    "plt.title(\"T=5\")\n",
    "plt.legend([\"b=30\", \" b=10-20\"])"
   ],
   "id": "d4edce11cb8d7413",
   "outputs": [
    {
     "data": {
      "text/plain": [
       "<matplotlib.legend.Legend at 0x1d1bd353b20>"
      ]
     },
     "execution_count": 32,
     "metadata": {},
     "output_type": "execute_result"
    },
    {
     "data": {
      "text/plain": [
       "<Figure size 640x480 with 1 Axes>"
      ],
      "image/png": "[encoded data removed]"
     },
     "metadata": {},
     "output_type": "display_data"
    }
   ],
   "execution_count": 32
  },
  {
   "metadata": {
    "ExecuteTime": {
     "end_time": "2024-07-30T06:53:34.081182Z",
     "start_time": "2024-07-30T06:53:34.062147Z"
    }
   },
   "cell_type": "code",
   "source": [
    "import numpy as np\n",
    "np.argmin(np.array(values_b30))"
   ],
   "id": "76df08cc32e16b81",
   "outputs": [
    {
     "data": {
      "text/plain": [
       "0.01917288824915886"
      ]
     },
     "execution_count": 29,
     "metadata": {},
     "output_type": "execute_result"
    }
   ],
   "execution_count": 29
  },
  {
   "metadata": {
    "ExecuteTime": {
     "end_time": "2024-07-30T05:32:42.603011Z",
     "start_time": "2024-07-30T05:32:42.449141Z"
    }
   },
   "cell_type": "code",
   "source": [
    "plt.plot(steps_b5, values_b5)\n",
    "plt.grid()\n",
    "plt.title(\"T=10\")\n",
    "plt.legend([\"b=5\"])\n",
    "#plt.savefig('../images/check_for_scheduling_convergence_properties_noisy_linear_regression.png')"
   ],
   "id": "faae4c3ed0e06f3d",
   "outputs": [
    {
     "data": {
      "text/plain": [
       "<matplotlib.legend.Legend at 0x1d1649665e0>"
      ]
     },
     "execution_count": 12,
     "metadata": {},
     "output_type": "execute_result"
    },
    {
     "data": {
      "text/plain": [
       "<Figure size 640x480 with 1 Axes>"
      ],
      "image/png": "[encoded data removed]"
     },
     "metadata": {},
     "output_type": "display_data"
    }
   ],
   "execution_count": 12
  }
 ],
 "metadata": {
  "kernelspec": {
   "display_name": "Python 3",
   "language": "python",
   "name": "python3"
  },
  "language_info": {
   "codemirror_mode": {
    "name": "ipython",
    "version": 2
   },
   "file_extension": ".py",
   "mimetype": "text/x-python",
   "name": "python",
   "nbconvert_exporter": "python",
   "pygments_lexer": "ipython2",
   "version": "2.7.6"
  }
 },
 "nbformat": 4,
 "nbformat_minor": 5
}
