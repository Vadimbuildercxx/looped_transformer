{
 "cells": [
  {
   "metadata": {
    "ExecuteTime": {
     "end_time": "2024-07-30T08:11:55.884261Z",
     "start_time": "2024-07-30T08:11:55.855906Z"
    }
   },
   "cell_type": "code",
   "source": [
    "import matplotlib.pyplot as plt\n",
    "\n",
    "from models import TransformerModelLooped, TransformerModelLoopedFirstNTokens\n",
    "from curriculum import CurriculumSimple\n",
    "from train import train_without_config, validate_model\n",
    "\n",
    "n_dims = 10"
   ],
   "id": "cf3d1436559409c9",
   "outputs": [],
   "execution_count": 16
  },
  {
   "metadata": {
    "ExecuteTime": {
     "end_time": "2024-07-30T08:30:04.160080Z",
     "start_time": "2024-07-30T08:13:41.929870Z"
    }
   },
   "cell_type": "code",
   "source": [
    "model_loop_b5_n_1 = TransformerModelLoopedFirstNTokens(\n",
    "    n_dims=n_dims,\n",
    "    n_positions=101,\n",
    "    n_embd=256,\n",
    "    n_layer=1,\n",
    "    n_head=4,\n",
    "    pred_type=\"regression\",\n",
    "    n=1\n",
    ").cuda()\n",
    "\n",
    "cirriculum_b5_n_1  = CurriculumSimple(n_dims, 31, 5, [5000, n_dims, 0], [5000, 31, 0], [5000, 5, 0])\n",
    "\n",
    "metrics_l1_b5_n_1  = train_without_config(\n",
    "    model_loop_b5_n_1, cirriculum_b5_n_1,\n",
    "    model_n_dims=n_dims, log_every_steps=10, train_steps=15000, family=\"gpt2_loop\", do_wandb_log=False)"
   ],
   "id": "69d531f7c23c62c8",
   "outputs": [
    {
     "name": "stdout",
     "output_type": "stream",
     "text": [
      "number of parameters: 0.79M\n"
     ]
    },
    {
     "name": "stderr",
     "output_type": "stream",
     "text": [
      "  0%|          | 0/15000 [00:00<?, ?it/s]"
     ]
    },
    {
     "name": "stdout",
     "output_type": "stream",
     "text": [
      "0\n"
     ]
    },
    {
     "name": "stderr",
     "output_type": "stream",
     "text": [
      "loss 8.89684772491455: 100%|██████████| 15000/15000 [16:22<00:00, 15.27it/s]  \n"
     ]
    }
   ],
   "execution_count": 18
  },
  {
   "metadata": {
    "jupyter": {
     "is_executing": true
    },
    "ExecuteTime": {
     "start_time": "2024-07-30T08:30:04.163080Z"
    }
   },
   "cell_type": "code",
   "source": [
    "model_loop_b5_n_30 = TransformerModelLoopedLastNTokens(\n",
    "    n_dims=n_dims,\n",
    "    n_positions=101,\n",
    "    n_embd=256,\n",
    "    n_layer=1,\n",
    "    n_head=4,\n",
    "    pred_type=\"regression\",\n",
    "    n=5\n",
    ").cuda()\n",
    "\n",
    "cirriculum_b5_n_30 = CurriculumSimple(n_dims, 31, 5, [5000, n_dims, 0], [5000, 31, 0], [5000, 5, 0])\n",
    "\n",
    "metrics_l1_b5_n_30 = train_without_config(\n",
    "    model_loop_b5_n_30, cirriculum_b5_n_30,\n",
    "    model_n_dims=n_dims, log_every_steps=10, train_steps=15000, family=\"gpt2_loop\", do_wandb_log=False)"
   ],
   "id": "4a1413e05a57e3d1",
   "outputs": [
    {
     "name": "stdout",
     "output_type": "stream",
     "text": [
      "number of parameters: 0.79M\n"
     ]
    },
    {
     "name": "stderr",
     "output_type": "stream",
     "text": [
      "loss 9.596034049987793:   0%|          | 2/15000 [00:00<18:30, 13.50it/s]"
     ]
    },
    {
     "name": "stdout",
     "output_type": "stream",
     "text": [
      "0\n"
     ]
    },
    {
     "name": "stderr",
     "output_type": "stream",
     "text": [
      "loss 10.277716636657715:  66%|██████▌   | 9904/15000 [10:35<05:37, 15.10it/s]"
     ]
    }
   ],
   "execution_count": null
  },
  {
   "metadata": {
    "ExecuteTime": {
     "end_time": "2024-07-28T09:38:40.718080Z",
     "start_time": "2024-07-28T08:43:12.782490Z"
    }
   },
   "cell_type": "code",
   "source": [
    "model_loop_b5_n_31 = TransformerModelLoopedLastNTokens(\n",
    "    n_dims=n_dims,\n",
    "    n_positions=101,\n",
    "    n_embd=256,\n",
    "    n_layer=1,\n",
    "    n_head=4,\n",
    "    pred_type=\"regression\",\n",
    "    n=31\n",
    ").cuda()\n",
    "\n",
    "cirriculum_b5_n_31 = CurriculumSimple(n_dims, 31, 5, [5000, n_dims, 0], [5000, 31, 0], [5000, 5, 0])\n",
    "\n",
    "metrics_l1_b5_n_31 = train_without_config(\n",
    "    model_loop_b5_n_31, cirriculum_b5_n_31, \n",
    "    model_n_dims=n_dims, log_every_steps=10, train_steps=15000, family=\"gpt2_loop\", do_wandb_log=False)"
   ],
   "id": "d8a0d5abcd59140f",
   "execution_count": 4,
   "outputs": []
  },
  {
   "metadata": {
    "ExecuteTime": {
     "end_time": "2024-07-28T10:11:26.754611Z",
     "start_time": "2024-07-28T10:08:02.518268Z"
    }
   },
   "cell_type": "code",
   "source": [
    "def calculate_by_loop(model):\n",
    "    val_by_loop = []\n",
    "    loop_steps = []\n",
    "    for i in range(1, 60):\n",
    "        val_loss = validate_model(model, n_dims_truncated=10, n_loops=i, model_n_dims=10, n_points=31, family=\"gpt2_loop\")\n",
    "        val_by_loop.append(val_loss / n_dims)\n",
    "        loop_steps.append(i)\n",
    "    return loop_steps, val_by_loop \n",
    "steps_b5_n_10, values_b5_n_10 = calculate_by_loop(model_loop_b5_n_10)\n",
    "steps_b5_n_30, values_b5_n_30 = calculate_by_loop(model_loop_b5_n_30)\n",
    "steps_b5_n_31, values_b5_n_31 = calculate_by_loop(model_loop_b5_n_31)"
   ],
   "id": "9fcd1d2e29f9d8ea",
   "execution_count": 12,
   "outputs": []
  },
  {
   "metadata": {},
   "cell_type": "code",
   "outputs": [],
   "execution_count": null,
   "source": [
    "def calculate_by_n_points(model, n_loops=5):\n",
    "    vals = []\n",
    "    loop_steps = []\n",
    "    for i in range(1, 60):\n",
    "        val_loss = validate_model(model, n_dims_truncated=10, n_loops=n_loops, model_n_dims=10, n_points=i, family=\"gpt2_loop\")\n",
    "        vals.append(val_loss / n_dims)\n",
    "        loop_steps.append(i)\n",
    "    return loop_steps, vals\n",
    "\n",
    "steps_points_b5_n_10, values_points_b5_n_10 = calculate_by_n_points(model_loop_b5_n_10)\n",
    "steps_points_b5_n_30, values_points_b5_n_30 = calculate_by_n_points(model_loop_b5_n_30)\n",
    "steps_points_b5_n_31, values_points_b5_n_31 = calculate_by_n_points(model_loop_b5_n_31)"
   ],
   "id": "f4e11ebc5e36833e"
  },
  {
   "metadata": {
    "ExecuteTime": {
     "end_time": "2024-07-28T10:13:14.634622Z",
     "start_time": "2024-07-28T10:13:14.451367Z"
    }
   },
   "cell_type": "code",
   "source": [
    "plt.plot(steps_b5_n_10, values_b5_n_10)\n",
    "plt.plot(steps_b5_n_30, values_b5_n_30)\n",
    "plt.plot(steps_b5_n_31, values_b5_n_31)\n",
    "plt.legend([\"n=10\", \"n=30\", \"n=31\"])\n",
    "plt.savefig('../images/check_for_convergence_properties.png')"
   ],
   "id": "faae4c3ed0e06f3d",
   "execution_count": 14,
   "outputs": []
  }
 ],
 "metadata": {
  "kernelspec": {
   "display_name": "Python 3",
   "language": "python",
   "name": "python3"
  },
  "language_info": {
   "codemirror_mode": {
    "name": "ipython",
    "version": 2
   },
   "file_extension": ".py",
   "mimetype": "text/x-python",
   "name": "python",
   "nbconvert_exporter": "python",
   "pygments_lexer": "ipython2",
   "version": "2.7.6"
  }
 },
 "nbformat": 4,
 "nbformat_minor": 5
}
