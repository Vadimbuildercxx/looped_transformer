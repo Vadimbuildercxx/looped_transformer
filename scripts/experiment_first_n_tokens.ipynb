{
 "cells": [
  {
   "metadata": {
    "ExecuteTime": {
     "end_time": "2024-07-31T04:36:31.999699Z",
     "start_time": "2024-07-31T04:36:28.353958Z"
    }
   },
   "cell_type": "code",
   "source": [
    "import matplotlib.pyplot as plt\n",
    "\n",
    "from models import TransformerModelLoopedFirstNTokens\n",
    "from train import validate_model\n",
    "\n",
    "n_dims = 10"
   ],
   "id": "cf3d1436559409c9",
   "execution_count": 1,
   "outputs": []
  },
  {
   "metadata": {
    "ExecuteTime": {
     "end_time": "2024-07-31T04:36:33.886054Z",
     "start_time": "2024-07-31T04:36:33.670688Z"
    }
   },
   "cell_type": "code",
   "source": [
    "import torch\n",
    "## Random seed, trained not locally\n",
    "model_b5 = TransformerModelLoopedFirstNTokens(n_dims=10,\n",
    "                                             n_positions=101,\n",
    "                                             n_embd=256,\n",
    "                                             n_layer=1,\n",
    "                                             n_head=4,\n",
    "                                             pred_type=\"regression\",\n",
    "                                             n=None).cuda()\n",
    "\n",
    "model_b5.load_state_dict(\n",
    "    torch.load(\"../scripts/scripts/models/noisy_linear_regression/model_b5.pt\")[\"model_state_dict\"])\n",
    "\n",
    "model_b10 = TransformerModelLoopedFirstNTokens(n_dims=10,\n",
    "                                              n_positions=101,\n",
    "                                              n_embd=256,\n",
    "                                              n_layer=1,\n",
    "                                              n_head=4,\n",
    "                                              pred_type=\"regression\",\n",
    "                                              n=None).cuda()\n",
    "\n",
    "model_b10.load_state_dict(\n",
    "    torch.load(\"../scripts/scripts/models/noisy_linear_regression/model_b10.pt\")[\"model_state_dict\"])\n",
    "\n",
    "model_b20 = TransformerModelLoopedFirstNTokens(n_dims=10,\n",
    "                                              n_positions=101,\n",
    "                                              n_embd=256,\n",
    "                                              n_layer=1,\n",
    "                                              n_head=4,\n",
    "                                              pred_type=\"regression\",\n",
    "                                              n=None).cuda()\n",
    "\n",
    "model_b20.load_state_dict(\n",
    "    torch.load(\"../scripts/scripts/models/noisy_linear_regression/model_b10.pt\")[\"model_state_dict\"])"
   ],
   "id": "d8a0d5abcd59140f",
   "execution_count": 2,
   "outputs": []
  },
  {
   "metadata": {
    "ExecuteTime": {
     "end_time": "2024-07-31T04:36:38.287666Z",
     "start_time": "2024-07-31T04:36:38.168462Z"
    }
   },
   "cell_type": "code",
   "source": [
    "## Random seed, trained not locally\n",
    "model_b5_t10 = TransformerModelLoopedFirstNTokens(n_dims=10,\n",
    "                                                 n_positions=101,\n",
    "                                                 n_embd=256,\n",
    "                                                 n_layer=1,\n",
    "                                                 n_head=4,\n",
    "                                                 pred_type=\"regression\",\n",
    "                                                 n=None).cuda()\n",
    "\n",
    "model_b5_t10.load_state_dict(\n",
    "    torch.load(\"../scripts/scripts/models/noisy_linear_regression/model_b5_t10.pt\")[\"model_state_dict\"])\n",
    "\n",
    "model_b10_t10 = TransformerModelLoopedFirstNTokens(n_dims=10,\n",
    "                                                  n_positions=101,\n",
    "                                                  n_embd=256,\n",
    "                                                  n_layer=1,\n",
    "                                                  n_head=4,\n",
    "                                                  pred_type=\"regression\",\n",
    "                                                  n=None).cuda()\n",
    "\n",
    "model_b10_t10.load_state_dict(\n",
    "    torch.load(\"../scripts/scripts/models/noisy_linear_regression/model_b10_t10.pt\")[\"model_state_dict\"])\n",
    "\n",
    "model_b20_t10 = TransformerModelLoopedFirstNTokens(n_dims=10,\n",
    "                                                  n_positions=101,\n",
    "                                                  n_embd=256,\n",
    "                                                  n_layer=1,\n",
    "                                                  n_head=4,\n",
    "                                                  pred_type=\"regression\",\n",
    "                                                  n=None).cuda()\n",
    "\n",
    "model_b20_t10.load_state_dict(\n",
    "    torch.load(\"../scripts/scripts/models/noisy_linear_regression/model_b20_t10.pt\")[\"model_state_dict\"])"
   ],
   "id": "aa38f52e5752d3fa",
   "execution_count": 3,
   "outputs": []
  },
  {
   "metadata": {
    "ExecuteTime": {
     "end_time": "2024-07-31T04:36:42.403356Z",
     "start_time": "2024-07-31T04:36:42.383789Z"
    }
   },
   "cell_type": "code",
   "source": [
    "# Function for model validation \n",
    "def calculate_by_n_points(model, max_n_points, n_loops=5):\n",
    "    vals = []\n",
    "    loop_steps = []\n",
    "    model.eval()\n",
    "    for i in range(0, max_n_points+1):\n",
    "        model.n = i\n",
    "        val_loss = validate_model(model, n_dims_truncated=10, n_loops=n_loops, model_n_dims=10, family=\"gpt2_loop\", n_points=max_n_points)\n",
    "        vals.append(val_loss / n_dims)\n",
    "        loop_steps.append(i)\n",
    "    return loop_steps, vals"
   ],
   "id": "9fcd1d2e29f9d8ea",
   "execution_count": 4,
   "outputs": []
  },
  {
   "metadata": {
    "ExecuteTime": {
     "end_time": "2024-07-31T04:38:02.235204Z",
     "start_time": "2024-07-31T04:36:45.417319Z"
    }
   },
   "cell_type": "code",
   "source": [
    "steps_points_b5_, values_points_b5_ = calculate_by_n_points(model_b5, max_n_points=31, n_loops=5)\n",
    "steps_points_b10_, values_points_b10_ = calculate_by_n_points(model_b10, max_n_points=31, n_loops=10)\n",
    "steps_points_b20_, values_points_b20_ = calculate_by_n_points(model_b20, max_n_points=31, n_loops=20)"
   ],
   "id": "f4e11ebc5e36833e",
   "execution_count": 5,
   "outputs": []
  },
  {
   "metadata": {
    "ExecuteTime": {
     "end_time": "2024-07-31T04:40:33.825880Z",
     "start_time": "2024-07-31T04:38:02.237430Z"
    }
   },
   "cell_type": "code",
   "source": [
    "steps_points_b5_x2, values_points_b5_x2 = calculate_by_n_points(model_b5, max_n_points=31, n_loops=5 * 2)\n",
    "steps_points_b10_x2, values_points_b10_x2 = calculate_by_n_points(model_b10, max_n_points=31, n_loops=10 * 2)\n",
    "steps_points_b20_x2, values_points_b20_x2 = calculate_by_n_points(model_b20, max_n_points=31, n_loops=20 * 2)"
   ],
   "id": "715b531bbe5f6cda",
   "execution_count": 6,
   "outputs": []
  },
  {
   "metadata": {
    "ExecuteTime": {
     "end_time": "2024-07-31T04:44:22.884099Z",
     "start_time": "2024-07-31T04:40:33.828355Z"
    }
   },
   "cell_type": "code",
   "source": [
    "steps_points_b5_t10_, values_points_b5_t10_ = calculate_by_n_points(model_b5_t10, max_n_points=31, n_loops=5)\n",
    "steps_points_b10_t10_, values_points_b10_t10_ = calculate_by_n_points(model_b10_t10, max_n_points=31, n_loops=10)\n",
    "steps_points_b20_t10_, values_points_b20_t10_ = calculate_by_n_points(model_b20_t10, max_n_points=31, n_loops=20)\n",
    "steps_points_b5_t10_x2, values_points_b5_t10_x2 = calculate_by_n_points(model_b5_t10, max_n_points=31, n_loops=5 * 2)\n",
    "steps_points_b10_t10_x2, values_points_b10_t10_x2 = calculate_by_n_points(model_b10_t10, max_n_points=31, n_loops=10 * 2)\n",
    "steps_points_b20_t10_x2, values_points_b20_t10_x2 = calculate_by_n_points(model_b20_t10, max_n_points=31, n_loops=20 * 2)"
   ],
   "id": "867d139041d49b6",
   "execution_count": 7,
   "outputs": []
  },
  {
   "metadata": {
    "ExecuteTime": {
     "end_time": "2024-07-31T04:54:10.824537Z",
     "start_time": "2024-07-31T04:46:32.455019Z"
    }
   },
   "cell_type": "code",
   "source": [
    "steps_points_b5_x3, values_points_b5_x3 = calculate_by_n_points(model_b5, max_n_points=31, n_loops=5 * 3)\n",
    "steps_points_b10_x3, values_points_b10_x3 = calculate_by_n_points(model_b10, max_n_points=31, n_loops=10 * 3)\n",
    "steps_points_b20_x3, values_points_b20_x3 = calculate_by_n_points(model_b20, max_n_points=31, n_loops=20 * 3)\n",
    "steps_points_b5_t10_x3, values_points_b5_t10_x3 = calculate_by_n_points(model_b5_t10, max_n_points=31, n_loops=5 * 3)\n",
    "steps_points_b10_t10_x3, values_points_b10_t10_x3 = calculate_by_n_points(model_b10_t10, max_n_points=31, n_loops=10 * 3)\n",
    "steps_points_b20_t10_x3, values_points_b20_t10_x3 = calculate_by_n_points(model_b20_t10, max_n_points=31, n_loops=20 * 3)"
   ],
   "id": "17bc10ec543032dd",
   "execution_count": 9,
   "outputs": []
  },
  {
   "metadata": {
    "ExecuteTime": {
     "end_time": "2024-07-31T05:00:13.684808Z",
     "start_time": "2024-07-31T05:00:12.547768Z"
    }
   },
   "cell_type": "code",
   "source": [
    "fig, axs = plt.subplots(2, 3, figsize=(14,6))\n",
    "\n",
    "fig.suptitle('Remove $ n $ first tokens', fontsize=16)\n",
    "axs[0, 0].set_ylabel(\"T = 20\")\n",
    "axs[0, 0].set_title(\"Standard loop\")\n",
    "axs[0, 0].plot(steps_points_b5_, values_points_b5_ )\n",
    "axs[0, 0].plot(steps_points_b10_, values_points_b10_)\n",
    "axs[0, 0].plot(steps_points_b20_, values_points_b20_)\n",
    "axs[0, 0].set_ylim([0, 0.4])\n",
    "axs[0, 0].grid()\n",
    "axs[0, 0].axvline(x = 31, color = 'orange', label = 'axvline - full height', linestyle='dashed')\n",
    "axs[0, 0].legend([\"b=5\", \"b=10\", \"b=20\"])\n",
    "\n",
    "axs[0, 1].set_title(\"Doubled loop\")\n",
    "axs[0, 1].plot(steps_points_b5_x2, values_points_b5_x2 , linestyle='dashed')\n",
    "axs[0, 1].plot(steps_points_b10_x2, values_points_b10_x2, linestyle='dashed')\n",
    "axs[0, 1].plot(steps_points_b20_x2, values_points_b20_x2, linestyle='dashed')\n",
    "axs[0, 1].set_ylim([0, 0.4])\n",
    "axs[0, 1].grid()\n",
    "axs[0, 1].axvline(x = 31, color = 'orange', label = 'axvline - full height')\n",
    "axs[0, 1].legend([\"b=5\", \"b=10\", \"b=20\"])\n",
    "\n",
    "axs[0, 2].set_title(\"Tripled loop\")\n",
    "axs[0, 2].plot(steps_points_b5_x3, values_points_b5_x3 , linestyle='dashdot')\n",
    "axs[0, 2].plot(steps_points_b10_x3, values_points_b10_x3, linestyle='dashdot')\n",
    "axs[0, 2].plot(steps_points_b20_x3, values_points_b20_x3, linestyle='dashdot')\n",
    "axs[0, 2].set_ylim([0, 0.4])\n",
    "axs[0, 2].grid()\n",
    "axs[0, 2].axvline(x = 31, color = 'orange', label = 'axvline - full height')\n",
    "axs[0, 2].legend([\"b=5\", \"b=10\", \"b=20\"])\n",
    "\n",
    "axs[1, 0].set_ylabel(\"T = 10\")\n",
    "axs[1, 0].plot(steps_points_b5_t10_, values_points_b5_t10_ )\n",
    "axs[1, 0].plot(steps_points_b10_t10_, values_points_b10_t10_)\n",
    "axs[1, 0].plot(steps_points_b20_t10_, values_points_b20_t10_)\n",
    "axs[1, 0].set_ylim([0, 0.4])\n",
    "axs[1, 0].grid()\n",
    "axs[1, 0].axvline(x = 31, color = 'orange', label = 'axvline - full height', linestyle='dashed')\n",
    "axs[1, 0].legend([\"b=5\", \"b=10\", \"b=20\"])\n",
    "\n",
    "axs[1, 1].plot(steps_points_b5_t10_x2, values_points_b5_t10_x2 , linestyle='dashed')\n",
    "axs[1, 1].plot(steps_points_b10_t10_x2, values_points_b10_t10_x2, linestyle='dashed')\n",
    "axs[1, 1].plot(steps_points_b20_t10_x2, values_points_b20_t10_x2, linestyle='dashed')\n",
    "axs[1, 1].set_ylim([0, 0.4])\n",
    "axs[1, 1].grid()\n",
    "axs[1, 1].axvline(x = 31, color = 'orange', label = 'axvline - full height')\n",
    "axs[1, 1].legend([\"b=5\", \"b=10\", \"b=20\"])\n",
    "\n",
    "axs[1, 2].plot(steps_points_b5_t10_x3, values_points_b5_t10_x3 , linestyle='dashdot')\n",
    "axs[1, 2].plot(steps_points_b10_t10_x3, values_points_b10_t10_x3, linestyle='dashdot')\n",
    "axs[1, 2].plot(steps_points_b20_t10_x3, values_points_b20_t10_x3, linestyle='dashdot')\n",
    "axs[1, 2].set_ylim([0, 0.4])\n",
    "axs[1, 2].grid()\n",
    "axs[1, 2].axvline(x = 31, color = 'orange', label = 'axvline - full height')\n",
    "axs[1, 2].legend([\"b=5\", \"b=10\", \"b=20\"])\n",
    "\n",
    "fig.savefig('../images/check_first_n_tokens_quality.png')"
   ],
   "id": "faae4c3ed0e06f3d",
   "execution_count": 12,
   "outputs": []
  }
 ],
 "metadata": {
  "kernelspec": {
   "display_name": "Python 3",
   "language": "python",
   "name": "python3"
  },
  "language_info": {
   "codemirror_mode": {
    "name": "ipython",
    "version": 2
   },
   "file_extension": ".py",
   "mimetype": "text/x-python",
   "name": "python",
   "nbconvert_exporter": "python",
   "pygments_lexer": "ipython2",
   "version": "2.7.6"
  }
 },
 "nbformat": 4,
 "nbformat_minor": 5
}
