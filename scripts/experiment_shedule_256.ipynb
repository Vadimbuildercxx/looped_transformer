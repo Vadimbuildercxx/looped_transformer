{
 "cells": [
  {
   "metadata": {
    "ExecuteTime": {
     "end_time": "2024-08-04T08:15:05.101371Z",
     "start_time": "2024-08-04T08:15:00.789698Z"
    }
   },
   "cell_type": "code",
   "source": [
    "import matplotlib.pyplot as plt\n",
    "\n",
    "from models import TransformerModelLooped\n",
    "from curriculum import CurriculumSimple\n",
    "from train import train_without_config, validate_model\n",
    "\n",
    "n_dims = 10"
   ],
   "id": "cf3d1436559409c9",
   "outputs": [],
   "execution_count": 1
  },
  {
   "metadata": {
    "ExecuteTime": {
     "end_time": "2024-08-04T08:48:33.450382Z",
     "start_time": "2024-08-04T08:15:23.466852Z"
    }
   },
   "cell_type": "code",
   "source": [
    "model_loop_b5_b15 = TransformerModelLooped(\n",
    "    n_dims=n_dims,\n",
    "    n_positions=101,\n",
    "    n_embd=256,\n",
    "    n_layer=1,\n",
    "    n_head=4,\n",
    "    pred_type=\"regression\",\n",
    ").cuda()\n",
    "\n",
    "cirriculum_b5_b15 = CurriculumSimple(n_dims, 31, 5, [5000, n_dims, 0], [5000, 31, 0], [1000, 15, 1])\n",
    "\n",
    "metrics_l1_b5_b15_d10 = train_without_config(\n",
    "    model_loop_b5_b15, cirriculum_b5_b15, model_n_dims=n_dims, \n",
    "    log_every_steps=10, train_steps=15000, family=\"gpt2_loop\", \n",
    "    do_wandb_log=False, seed=None, task_name=\"noisy_linear_regression\")"
   ],
   "id": "69d531f7c23c62c8",
   "outputs": [
    {
     "name": "stdout",
     "output_type": "stream",
     "text": [
      "number of parameters: 0.79M\n"
     ]
    },
    {
     "name": "stderr",
     "output_type": "stream",
     "text": [
      "  0%|          | 0/15000 [00:00<?, ?it/s]C:\\Users\\Vadim_K\\DataspellProjects\\looped_transformer\\scripts\\nano_gpt.py:79: UserWarning: 1Torch was not compiled with flash attention. (Triggered internally at C:\\actions-runner\\_work\\pytorch\\pytorch\\builder\\windows\\pytorch\\aten\\src\\ATen\\native\\transformers\\cuda\\sdp_utils.cpp:263.)\n",
      "  y = torch.nn.functional.scaled_dot_product_attention(\n",
      "loss 10.3147554397583:   0%|          | 1/15000 [00:00<2:14:38,  1.86it/s]"
     ]
    },
    {
     "name": "stdout",
     "output_type": "stream",
     "text": [
      "0\n"
     ]
    },
    {
     "name": "stderr",
     "output_type": "stream",
     "text": [
      "loss 2.5612874031066895: 100%|██████████| 15000/15000 [33:07<00:00,  7.55it/s]\n"
     ]
    }
   ],
   "execution_count": 2
  },
  {
   "metadata": {
    "ExecuteTime": {
     "end_time": "2024-08-04T09:04:51.214173Z",
     "start_time": "2024-08-04T08:48:33.454920Z"
    }
   },
   "cell_type": "code",
   "source": [
    "model_loop_b5 = TransformerModelLooped(\n",
    "    n_dims=n_dims,\n",
    "    n_positions=101,\n",
    "    n_embd=256,\n",
    "    n_layer=1,\n",
    "    n_head=4,\n",
    "    pred_type=\"regression\",\n",
    ").cuda()\n",
    "\n",
    "cirriculum_b5 = CurriculumSimple(n_dims, 31, 5, [5000, n_dims, 0], [5000, 31, 0], [1000, 5, 0])\n",
    "\n",
    "metrics_l1_b5_d10 = train_without_config(\n",
    "    model_loop_b5, cirriculum_b5, model_n_dims=n_dims,\n",
    "    log_every_steps=10, train_steps=15000, family=\"gpt2_loop\",\n",
    "    do_wandb_log=False, seed=None, task_name=\"noisy_linear_regression\")"
   ],
   "id": "4a1413e05a57e3d1",
   "outputs": [
    {
     "name": "stdout",
     "output_type": "stream",
     "text": [
      "number of parameters: 0.79M\n"
     ]
    },
    {
     "name": "stderr",
     "output_type": "stream",
     "text": [
      "loss 10.780412673950195:   0%|          | 2/15000 [00:00<18:11, 13.74it/s]"
     ]
    },
    {
     "name": "stdout",
     "output_type": "stream",
     "text": [
      "0\n"
     ]
    },
    {
     "name": "stderr",
     "output_type": "stream",
     "text": [
      "loss 3.3746883869171143: 100%|██████████| 15000/15000 [16:17<00:00, 15.34it/s]\n"
     ]
    }
   ],
   "execution_count": 3
  },
  {
   "metadata": {
    "ExecuteTime": {
     "end_time": "2024-08-04T09:33:51.471415Z",
     "start_time": "2024-08-04T09:04:51.216177Z"
    }
   },
   "cell_type": "code",
   "source": [
    "model_loop_b10 = TransformerModelLooped(\n",
    "    n_dims=n_dims,\n",
    "    n_positions=101,\n",
    "    n_embd=256,\n",
    "    n_layer=1,\n",
    "    n_head=4,\n",
    "    pred_type=\"regression\",\n",
    ").cuda()\n",
    "\n",
    "cirriculum_b10 = CurriculumSimple(n_dims, 31, 10, [5000, n_dims, 0], [5000, 31, 0], [5000, 10, 0])\n",
    "\n",
    "metrics_l1_b10_d10 = train_without_config(model_loop_b10, cirriculum_b10, model_n_dims=n_dims,\n",
    "                                          log_every_steps=10, train_steps=15000, family=\"gpt2_loop\",\n",
    "                                          do_wandb_log=False, seed=None, task_name=\"noisy_linear_regression\")"
   ],
   "id": "d8a0d5abcd59140f",
   "outputs": [
    {
     "name": "stdout",
     "output_type": "stream",
     "text": [
      "number of parameters: 0.79M\n"
     ]
    },
    {
     "name": "stderr",
     "output_type": "stream",
     "text": [
      "loss 9.931717872619629:   0%|          | 1/15000 [00:00<37:10,  6.72it/s]"
     ]
    },
    {
     "name": "stdout",
     "output_type": "stream",
     "text": [
      "0\n"
     ]
    },
    {
     "name": "stderr",
     "output_type": "stream",
     "text": [
      "loss 3.0334038734436035: 100%|██████████| 15000/15000 [29:00<00:00,  8.62it/s]\n"
     ]
    }
   ],
   "execution_count": 4
  },
  {
   "metadata": {
    "ExecuteTime": {
     "end_time": "2024-08-04T10:17:10.186673Z",
     "start_time": "2024-08-04T09:33:51.474413Z"
    }
   },
   "cell_type": "code",
   "source": [
    "model_loop_b15 = TransformerModelLooped(\n",
    "    n_dims=n_dims,\n",
    "    n_positions=101,\n",
    "    n_embd=256,\n",
    "    n_layer=1,\n",
    "    n_head=4,\n",
    "    pred_type=\"regression\",\n",
    ").cuda()\n",
    "\n",
    "cirriculum_b15 = CurriculumSimple(n_dims, 31, 15, [5000, n_dims, 0], [5000, 31, 0], [5000, 15, 0])\n",
    "\n",
    "metrics_l1_b15_d10 = train_without_config(model_loop_b15, cirriculum_b15, model_n_dims=n_dims,\n",
    "                                          log_every_steps=10, train_steps=15000, family=\"gpt2_loop\",\n",
    "                                          do_wandb_log=False, seed=None, task_name=\"noisy_linear_regression\")"
   ],
   "id": "67cb702e3b95e3a7",
   "outputs": [
    {
     "name": "stdout",
     "output_type": "stream",
     "text": [
      "number of parameters: 0.79M\n"
     ]
    },
    {
     "name": "stderr",
     "output_type": "stream",
     "text": [
      "loss 9.732242584228516:   0%|          | 0/15000 [00:00<?, ?it/s]"
     ]
    },
    {
     "name": "stdout",
     "output_type": "stream",
     "text": [
      "0\n"
     ]
    },
    {
     "name": "stderr",
     "output_type": "stream",
     "text": [
      "loss 2.745236396789551: 100%|██████████| 15000/15000 [43:18<00:00,  5.77it/s] \n"
     ]
    }
   ],
   "execution_count": 5
  },
  {
   "metadata": {
    "ExecuteTime": {
     "end_time": "2024-08-04T10:41:14.375390Z",
     "start_time": "2024-08-04T10:17:10.189856Z"
    }
   },
   "cell_type": "code",
   "source": [
    "model_loop_b5_b10 = TransformerModelLooped(\n",
    "    n_dims=n_dims,\n",
    "    n_positions=101,\n",
    "    n_embd=256,\n",
    "    n_layer=1,\n",
    "    n_head=4,\n",
    "    pred_type=\"regression\",\n",
    ").cuda()\n",
    "\n",
    "cirriculum_b5_b10 = CurriculumSimple(n_dims, 31, 5, [5000, n_dims, 0], [5000, 31, 0], [2000, 10, 1])\n",
    "\n",
    "metrics_l1_b5_b10_d10 = train_without_config(\n",
    "    model_loop_b5_b10, cirriculum_b5_b10, model_n_dims=n_dims,\n",
    "    log_every_steps=10, train_steps=15000, family=\"gpt2_loop\",\n",
    "    do_wandb_log=False, seed=None, task_name=\"noisy_linear_regression\")"
   ],
   "id": "2d527d76f55eaae0",
   "outputs": [
    {
     "name": "stdout",
     "output_type": "stream",
     "text": [
      "number of parameters: 0.79M\n"
     ]
    },
    {
     "name": "stderr",
     "output_type": "stream",
     "text": [
      "loss 10.90749454498291:   0%|          | 2/15000 [00:00<18:47, 13.30it/s]"
     ]
    },
    {
     "name": "stdout",
     "output_type": "stream",
     "text": [
      "0\n"
     ]
    },
    {
     "name": "stderr",
     "output_type": "stream",
     "text": [
      "loss 2.768103837966919: 100%|██████████| 15000/15000 [24:04<00:00, 10.39it/s] \n"
     ]
    }
   ],
   "execution_count": 6
  },
  {
   "metadata": {
    "ExecuteTime": {
     "end_time": "2024-08-04T11:42:25.393437Z",
     "start_time": "2024-08-04T10:46:56.298256Z"
    }
   },
   "cell_type": "code",
   "source": [
    "from tqdm import tqdm\n",
    "def calculate_by_loop(model):\n",
    "    val_by_loop = []\n",
    "    loop_steps = []\n",
    "    for i in tqdm(range(1, 150)):\n",
    "        val_loss = validate_model(model, n_dims_truncated=10, n_loops=i, model_n_dims=10, n_points=31, family=\"gpt2_loop\", task_name=\"noisy_linear_regression\")\n",
    "        val_by_loop.append(val_loss / n_dims)\n",
    "        loop_steps.append(i)\n",
    "    return loop_steps, val_by_loop\n",
    "\n",
    "steps_b10, values_b10 = calculate_by_loop(model_loop_b10)\n",
    "steps_b5, values_b5 = calculate_by_loop(model_loop_b5)\n",
    "steps_b5_b15, values_b5_b15 = calculate_by_loop(model_loop_b5_b15)\n",
    "steps_b15, values_b15 = calculate_by_loop(model_loop_b15)\n",
    "steps_b5_b10, values_b5_b10 = calculate_by_loop(model_loop_b5_b10)"
   ],
   "id": "9fcd1d2e29f9d8ea",
   "outputs": [
    {
     "name": "stderr",
     "output_type": "stream",
     "text": [
      "100%|██████████| 149/149 [10:56<00:00,  4.41s/it]\n",
      "100%|██████████| 149/149 [11:11<00:00,  4.51s/it]\n",
      "100%|██████████| 149/149 [11:12<00:00,  4.51s/it]\n",
      "100%|██████████| 149/149 [11:03<00:00,  4.45s/it]\n",
      "100%|██████████| 149/149 [11:05<00:00,  4.46s/it]\n"
     ]
    }
   ],
   "execution_count": 7
  },
  {
   "metadata": {
    "ExecuteTime": {
     "end_time": "2024-08-04T11:56:33.795523Z",
     "start_time": "2024-08-04T11:56:33.537814Z"
    }
   },
   "cell_type": "code",
   "source": [
    "plt.plot(steps_b5, values_b5)\n",
    "plt.plot(steps_b10, values_b10)\n",
    "plt.plot(steps_b15, values_b15)\n",
    "plt.plot(steps_b5_b10, values_b5_b10)\n",
    "plt.plot(steps_b5_b15, values_b5_b15)\n",
    "plt.grid()\n",
    "plt.title(\"T=20; embs dims=256\")\n",
    "plt.legend([\"b=5\", \"b=10\", \"b=15\", \"b=5-10\", \"b=5-15\", ])\n",
    "plt.savefig('../images/check_for_scheduling_convergence_properties_noisy_linear_regression_256.png')"
   ],
   "id": "faae4c3ed0e06f3d",
   "outputs": [
    {
     "data": {
      "text/plain": [
       "<Figure size 640x480 with 1 Axes>"
      ],
      "image/png": "[encoded data removed]"
     },
     "metadata": {},
     "output_type": "display_data"
    }
   ],
   "execution_count": 11
  }
 ],
 "metadata": {
  "kernelspec": {
   "display_name": "Python 3",
   "language": "python",
   "name": "python3"
  },
  "language_info": {
   "codemirror_mode": {
    "name": "ipython",
    "version": 2
   },
   "file_extension": ".py",
   "mimetype": "text/x-python",
   "name": "python",
   "nbconvert_exporter": "python",
   "pygments_lexer": "ipython2",
   "version": "2.7.6"
  }
 },
 "nbformat": 4,
 "nbformat_minor": 5
}
