{
 "cells": [
  {
   "cell_type": "code",
   "id": "initial_id",
   "metadata": {
    "collapsed": true,
    "ExecuteTime": {
     "end_time": "2024-08-03T08:39:13.519452Z",
     "start_time": "2024-08-03T08:39:13.505918Z"
    }
   },
   "source": [
    "import torch\n",
    "\n",
    "from models import MambaModel\n",
    "from models import TransformerModelLooped\n",
    "from curriculum import CurriculumSimple\n",
    "from train import train_without_config, validate_model\n",
    "\n",
    "n_dims = 10"
   ],
   "outputs": [],
   "execution_count": 2
  },
  {
   "metadata": {
    "ExecuteTime": {
     "end_time": "2024-08-03T08:40:55.714697Z",
     "start_time": "2024-08-03T08:39:15.965819Z"
    }
   },
   "cell_type": "code",
   "source": [
    "model_ssm = MambaModel(n_dims=n_dims,\n",
    "                       n_positions=101,\n",
    "                       n_embd=256,\n",
    "                       n_layer=1,\n",
    "                       pred_type=\"regression\").cuda()\n",
    "\n",
    "cirriculum_ssm = CurriculumSimple(n_dims, 31, 5, [5000, n_dims, 0], [5000, 31, 0], [1000, 5, 1])\n",
    "\n",
    "metrics_l1_ssm = train_without_config(\n",
    "    model_ssm, cirriculum_ssm, model_n_dims=n_dims,\n",
    "    log_every_steps=10, train_steps=100, family=\"ssm_gpt2\",\n",
    "    do_wandb_log=False, seed=None, task_name=\"linear_regression\", device=\"cuda\")"
   ],
   "id": "4d0a62b0577759f9",
   "outputs": [
    {
     "name": "stdout",
     "output_type": "stream",
     "text": [
      "number of parameters: 0.44M\n"
     ]
    },
    {
     "name": "stderr",
     "output_type": "stream",
     "text": [
      "loss 9.946172714233398: 100%|██████████| 100/100 [01:38<00:00,  1.02it/s]\n"
     ]
    }
   ],
   "execution_count": 3
  }
 ],
 "metadata": {
  "kernelspec": {
   "display_name": "Python 3",
   "language": "python",
   "name": "python3"
  },
  "language_info": {
   "codemirror_mode": {
    "name": "ipython",
    "version": 2
   },
   "file_extension": ".py",
   "mimetype": "text/x-python",
   "name": "python",
   "nbconvert_exporter": "python",
   "pygments_lexer": "ipython2",
   "version": "2.7.6"
  }
 },
 "nbformat": 4,
 "nbformat_minor": 5
}
