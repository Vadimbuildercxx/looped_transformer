{
 "cells": [
  {
   "cell_type": "code",
   "id": "initial_id",
   "metadata": {
    "collapsed": true,
    "ExecuteTime": {
     "end_time": "2024-08-05T08:41:59.077647Z",
     "start_time": "2024-08-05T08:41:59.062720Z"
    }
   },
   "source": [
    "import torch\n",
    "from tqdm import tqdm\n",
    "import matplotlib.pyplot as plt\n",
    "\n",
    "from models import MambaModel, MambaModelLooped, TransformerModelLooped\n",
    "from curriculum import CurriculumSimple\n",
    "from train import train_without_config, validate_model\n",
    "\n",
    "n_dims = 10"
   ],
   "outputs": [],
   "execution_count": 18
  },
  {
   "metadata": {
    "ExecuteTime": {
     "end_time": "2024-08-05T08:00:04.758603Z",
     "start_time": "2024-08-05T08:00:04.650457Z"
    }
   },
   "cell_type": "code",
   "source": [
    "mamba_base_l2 = MambaModel(\n",
    "    n_dims=n_dims,\n",
    "    n_positions=101,\n",
    "    n_embd=256,\n",
    "    n_layer=2,\n",
    "    pred_type=\"regression\",\n",
    ").cuda()\n",
    "\n",
    "mamba_base_l2.load_state_dict(\n",
    "    torch.load(\"scripts/models/mamba/model_mamba_base_L2.pt\")[\"model_state_dict\"])"
   ],
   "id": "7a9eb5c31439f46",
   "outputs": [
    {
     "name": "stdout",
     "output_type": "stream",
     "text": [
      "number of parameters: 0.88M\n"
     ]
    },
    {
     "data": {
      "text/plain": [
       "<All keys matched successfully>"
      ]
     },
     "execution_count": 5,
     "metadata": {},
     "output_type": "execute_result"
    }
   ],
   "execution_count": 5
  },
  {
   "metadata": {
    "ExecuteTime": {
     "end_time": "2024-08-05T09:35:50.976677Z",
     "start_time": "2024-08-05T09:35:50.911247Z"
    }
   },
   "cell_type": "code",
   "source": [
    "mamba_loop_b5 = MambaModelLooped(\n",
    "    n_dims=n_dims,\n",
    "    n_positions=101,\n",
    "    n_embd=256,\n",
    "    n_layer=1,\n",
    "    pred_type=\"regression\",\n",
    ").cuda()\n",
    "\n",
    "mamba_loop_b5.load_state_dict(\n",
    "    torch.load(\"scripts/models/mamba/model_mamba_looped_L1_b5.pt\")[\"model_state_dict\"])"
   ],
   "id": "46793a3fc725c4ff",
   "outputs": [
    {
     "name": "stdout",
     "output_type": "stream",
     "text": [
      "number of parameters: 0.44M\n"
     ]
    },
    {
     "data": {
      "text/plain": [
       "<All keys matched successfully>"
      ]
     },
     "execution_count": 38,
     "metadata": {},
     "output_type": "execute_result"
    }
   ],
   "execution_count": 38
  },
  {
   "metadata": {
    "ExecuteTime": {
     "end_time": "2024-08-05T08:09:30.885611Z",
     "start_time": "2024-08-05T08:09:30.803783Z"
    }
   },
   "cell_type": "code",
   "source": [
    "mamba_loop_b10 = MambaModelLooped(\n",
    "    n_dims=n_dims,\n",
    "    n_positions=101,\n",
    "    n_embd=256,\n",
    "    n_layer=1,\n",
    "    pred_type=\"regression\",\n",
    ").cuda()\n",
    "\n",
    "mamba_loop_b10.load_state_dict(\n",
    "    torch.load(\"scripts/models/mamba/model_mamba_looped_L1_b10.pt\")[\"model_state_dict\"])"
   ],
   "id": "f047a4807df3250",
   "outputs": [
    {
     "name": "stdout",
     "output_type": "stream",
     "text": [
      "number of parameters: 0.44M\n"
     ]
    },
    {
     "data": {
      "text/plain": [
       "<All keys matched successfully>"
      ]
     },
     "execution_count": 9,
     "metadata": {},
     "output_type": "execute_result"
    }
   ],
   "execution_count": 9
  },
  {
   "metadata": {
    "ExecuteTime": {
     "end_time": "2024-08-05T08:55:01.990278Z",
     "start_time": "2024-08-05T08:55:01.866182Z"
    }
   },
   "cell_type": "code",
   "source": [
    "base_loop_b5 = TransformerModelLooped(\n",
    "    n_dims=n_dims,\n",
    "    n_positions=101,\n",
    "    n_embd=256,\n",
    "    n_layer=1,\n",
    "    pred_type=\"regression\",\n",
    ").cuda()\n",
    "\n",
    "base_loop_b5.load_state_dict(\n",
    "    torch.load(\"scripts/models/mamba/base_loop_b5_L1.pt\")[\"model_state_dict\"])"
   ],
   "id": "c833f377905a9321",
   "outputs": [
    {
     "name": "stdout",
     "output_type": "stream",
     "text": [
      "number of parameters: 0.79M\n"
     ]
    },
    {
     "data": {
      "text/plain": [
       "<All keys matched successfully>"
      ]
     },
     "execution_count": 21,
     "metadata": {},
     "output_type": "execute_result"
    }
   ],
   "execution_count": 21
  },
  {
   "metadata": {
    "ExecuteTime": {
     "end_time": "2024-08-05T09:10:58.965126Z",
     "start_time": "2024-08-05T09:10:58.860480Z"
    }
   },
   "cell_type": "code",
   "source": [
    "base_loop_b10 = TransformerModelLooped(\n",
    "    n_dims=n_dims,\n",
    "    n_positions=101,\n",
    "    n_embd=256,\n",
    "    n_layer=1,\n",
    "    pred_type=\"regression\",\n",
    ").cuda()\n",
    "\n",
    "base_loop_b10.load_state_dict(\n",
    "    torch.load(\"scripts/models/mamba/base_loop_b10_L1.pt\")[\"model_state_dict\"])"
   ],
   "id": "a33c21da248c41b9",
   "outputs": [
    {
     "name": "stdout",
     "output_type": "stream",
     "text": [
      "number of parameters: 0.79M\n"
     ]
    },
    {
     "data": {
      "text/plain": [
       "<All keys matched successfully>"
      ]
     },
     "execution_count": 22,
     "metadata": {},
     "output_type": "execute_result"
    }
   ],
   "execution_count": 22
  },
  {
   "metadata": {
    "ExecuteTime": {
     "end_time": "2024-08-05T09:41:53.820773Z",
     "start_time": "2024-08-05T09:35:55.562685Z"
    }
   },
   "cell_type": "code",
   "source": [
    "def calculate_by_loop(model):\n",
    "    val_by_loop = []\n",
    "    loop_steps = []\n",
    "    for i in tqdm(range(1, 40)):\n",
    "        # pass gpt_loop because gpt_loop and mamba_loop have same validation technic\n",
    "        val_loss = validate_model(model, n_dims_truncated=10, n_loops=i, model_n_dims=10, n_points=31, family=\"gpt2_loop\", task_name=\"linear_regression\")\n",
    "        val_by_loop.append(val_loss / n_dims)\n",
    "        loop_steps.append(i)\n",
    "    return loop_steps, val_by_loop\n",
    "\n",
    "steps_b5, values_b5 = calculate_by_loop(mamba_loop_b5)\n",
    "steps_b10, values_b10 = calculate_by_loop(mamba_loop_b10)"
   ],
   "id": "eb185d46963f608f",
   "outputs": [
    {
     "name": "stderr",
     "output_type": "stream",
     "text": [
      "  0%|          | 0/39 [00:00<?, ?it/s]"
     ]
    },
    {
     "name": "stdout",
     "output_type": "stream",
     "text": [
      "0\n"
     ]
    },
    {
     "name": "stderr",
     "output_type": "stream",
     "text": [
      "100%|██████████| 39/39 [02:56<00:00,  4.53s/it]\n",
      "100%|██████████| 39/39 [03:01<00:00,  4.66s/it]\n"
     ]
    }
   ],
   "execution_count": 39
  },
  {
   "metadata": {
    "ExecuteTime": {
     "end_time": "2024-08-05T09:30:55.507186Z",
     "start_time": "2024-08-05T09:29:13.033873Z"
    }
   },
   "cell_type": "code",
   "source": [
    "steps_base_b5, values_base_b5 = calculate_by_loop(base_loop_b5)\n",
    "steps_base_b10, values_base_b10 = calculate_by_loop(base_loop_b10)"
   ],
   "id": "5bcca959de0d832d",
   "outputs": [
    {
     "name": "stderr",
     "output_type": "stream",
     "text": [
      "100%|██████████| 39/39 [00:51<00:00,  1.31s/it]\n",
      "100%|██████████| 39/39 [00:51<00:00,  1.32s/it]\n"
     ]
    }
   ],
   "execution_count": 34
  },
  {
   "metadata": {
    "ExecuteTime": {
     "end_time": "2024-08-05T09:41:58.786383Z",
     "start_time": "2024-08-05T09:41:57.893586Z"
    }
   },
   "cell_type": "code",
   "source": [
    "fig, axs = plt.subplots(1, 2, figsize=(10,5))\n",
    "\n",
    "fig.suptitle('Looped Mamba vs. Looped TF', fontsize=16)\n",
    "\n",
    "axs[0].set_title('b=5')\n",
    "axs[0].plot(steps_b5, values_b5)\n",
    "axs[0].plot(steps_base_b5, values_base_b5)\n",
    "axs[0].set_ylim([0, 0.15])\n",
    "axs[0].grid()\n",
    "axs[0].legend([\"Looped Mamba\", \"Looped TF\"])\n",
    "\n",
    "axs[1].set_title('b=10')\n",
    "axs[1].plot(steps_b10, values_b10)\n",
    "axs[1].plot(steps_base_b10, values_base_b10)\n",
    "axs[1].set_ylim([0, 0.15])\n",
    "axs[1].grid()\n",
    "axs[1].legend([\"Looped Mamba\", \"Looped TF\"])\n",
    "fig.savefig(\"../images/looped_mamba_vs_looped_tf.png\")"
   ],
   "id": "aa13648274c41bf1",
   "outputs": [
    {
     "data": {
      "text/plain": [
       "<Figure size 1000x500 with 2 Axes>"
      ],
      "image/png": "[encoded data removed]"
     },
     "metadata": {},
     "output_type": "display_data"
    }
   ],
   "execution_count": 40
  }
 ],
 "metadata": {
  "kernelspec": {
   "display_name": "Python 3",
   "language": "python",
   "name": "python3"
  },
  "language_info": {
   "codemirror_mode": {
    "name": "ipython",
    "version": 2
   },
   "file_extension": ".py",
   "mimetype": "text/x-python",
   "name": "python",
   "nbconvert_exporter": "python",
   "pygments_lexer": "ipython2",
   "version": "2.7.6"
  }
 },
 "nbformat": 4,
 "nbformat_minor": 5
}
