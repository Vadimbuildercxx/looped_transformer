{
 "cells": [
  {
   "cell_type": "code",
   "id": "initial_id",
   "metadata": {
    "collapsed": true,
    "ExecuteTime": {
     "end_time": "2024-08-01T05:12:06.839055Z",
     "start_time": "2024-08-01T05:12:06.832396Z"
    }
   },
   "source": [
    "import torch\n",
    "\n",
    "from ssm_models import SelectiveScanModelLooped\n",
    "from models import TransformerModelLooped\n",
    "from curriculum import CurriculumSimple\n",
    "from train import train_without_config, validate_model"
   ],
   "execution_count": 6,
   "outputs": []
  },
  {
   "metadata": {
    "ExecuteTime": {
     "end_time": "2024-08-01T05:04:00.435485Z",
     "start_time": "2024-08-01T05:04:00.421976Z"
    }
   },
   "cell_type": "code",
   "source": "n_dims = 10",
   "id": "10314302ec6743b2",
   "execution_count": 2,
   "outputs": []
  },
  {
   "metadata": {
    "ExecuteTime": {
     "end_time": "2024-08-01T05:12:17.389425Z",
     "start_time": "2024-08-01T05:12:08.384564Z"
    }
   },
   "cell_type": "code",
   "source": [
    "model_ssm_b5 = TransformerModelLooped(n_dims=n_dims,\n",
    "                                 n_positions=101,\n",
    "                                 n_embd=256,\n",
    "                                 n_layer=1,\n",
    "                                 n_head=4,\n",
    "                                 pred_type=\"regression\").cuda()\n",
    "\n",
    "cirriculum_ssm_b5 = CurriculumSimple(n_dims, 31, 5, [5000, n_dims, 0], [5000, 31, 0], [1000, 5, 1])\n",
    "\n",
    "metrics_l1_b5_d10 = train_without_config(\n",
    "    model_ssm_b5, cirriculum_ssm_b5, model_n_dims=n_dims,\n",
    "    log_every_steps=10, train_steps=15000, family=\"ssm_gpt2_loop\",\n",
    "    do_wandb_log=False, seed=None, task_name=\"linear_regression\")"
   ],
   "id": "4d0a62b0577759f9",
   "execution_count": 7,
   "outputs": []
  },
  {
   "metadata": {
    "ExecuteTime": {
     "end_time": "2024-08-01T05:07:13.349938Z",
     "start_time": "2024-08-01T05:06:57.235200Z"
    }
   },
   "cell_type": "code",
   "source": [
    "from scripts.tasks import get_task_sampler\n",
    "\n",
    "model = SelectiveScanModelLooped(n_dims=10,\n",
    "                                 n_positions=101,\n",
    "                                 n_embd=256,\n",
    "                                 n_layer=1,\n",
    "                                 n_head=4,\n",
    "                                 pred_type=\"regression\").cuda()\n",
    "\n",
    "task_sampler = get_task_sampler(\n",
    "    task_name=\"linear_regression\",\n",
    "    batch_size=64,\n",
    "    n_points=31,\n",
    "    n_dims=10,\n",
    "    n_dims_truncated=10,\n",
    "    device=\"cuda\",\n",
    ")\n",
    "\n",
    "real_task = task_sampler()\n",
    "xs, ys = real_task.xs.float(), real_task.ys.float()\n",
    "\n",
    "horizon_start = max(0, 5 - 20)\n",
    "model(xs, ys, horizon_start, 5)"
   ],
   "id": "db8cc4a2433cd5b5",
   "execution_count": 5,
   "outputs": []
  }
 ],
 "metadata": {
  "kernelspec": {
   "display_name": "Python 3",
   "language": "python",
   "name": "python3"
  },
  "language_info": {
   "codemirror_mode": {
    "name": "ipython",
    "version": 2
   },
   "file_extension": ".py",
   "mimetype": "text/x-python",
   "name": "python",
   "nbconvert_exporter": "python",
   "pygments_lexer": "ipython2",
   "version": "2.7.6"
  }
 },
 "nbformat": 4,
 "nbformat_minor": 5
}
