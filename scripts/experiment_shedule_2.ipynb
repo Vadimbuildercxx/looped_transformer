{
 "cells": [
  {
   "metadata": {
    "ExecuteTime": {
     "end_time": "2024-07-29T09:32:56.555192Z",
     "start_time": "2024-07-29T09:32:56.539656Z"
    }
   },
   "cell_type": "code",
   "source": [
    "import matplotlib.pyplot as plt\n",
    "\n",
    "from models import TransformerModelLooped\n",
    "from curriculum import CurriculumSimple\n",
    "from train import train_without_config, validate_model\n",
    "\n",
    "n_dims = 10\n",
    "train_steps=10000\n",
    "task_name = \"linear_regression\""
   ],
   "id": "cf3d1436559409c9",
   "execution_count": 7,
   "outputs": []
  },
  {
   "metadata": {
    "ExecuteTime": {
     "end_time": "2024-07-29T09:43:22.743Z",
     "start_time": "2024-07-29T09:32:56.557389Z"
    }
   },
   "cell_type": "code",
   "source": [
    "model_loop_b5_b15 = TransformerModelLooped(\n",
    "    n_dims=n_dims,\n",
    "    n_positions=101,\n",
    "    n_embd=128,\n",
    "    n_layer=1,\n",
    "    n_head=4,\n",
    "    pred_type=\"regression\",\n",
    ").cuda()\n",
    "\n",
    "cirriculum_b5_b15 = CurriculumSimple(n_dims, 31, 5, [5000, n_dims, 0], [5000, 31, 0], [1000, 15, 1])\n",
    "\n",
    "metrics_l1_b5_b15_d10 = train_without_config(\n",
    "    model_loop_b5_b15, cirriculum_b5_b15, model_n_dims=n_dims, \n",
    "    log_every_steps=10, train_steps=train_steps, family=\"gpt2_loop\", \n",
    "    do_wandb_log=False, seed=None, task_name=task_name)"
   ],
   "id": "69d531f7c23c62c8",
   "execution_count": 8,
   "outputs": []
  },
  {
   "metadata": {
    "ExecuteTime": {
     "end_time": "2024-07-29T09:56:02.235706Z",
     "start_time": "2024-07-29T09:43:22.745451Z"
    }
   },
   "cell_type": "code",
   "source": [
    "model_loop_b5 = TransformerModelLooped(\n",
    "    n_dims=n_dims,\n",
    "    n_positions=101,\n",
    "    n_embd=128,\n",
    "    n_layer=1,\n",
    "    n_head=4,\n",
    "    pred_type=\"regression\",\n",
    ").cuda()\n",
    "\n",
    "cirriculum_b5 = CurriculumSimple(n_dims, 31, 5, [5000, n_dims, 0], [5000, 31, 0], [1000, 5, 0])\n",
    "\n",
    "metrics_l1_b5_d10 = train_without_config(\n",
    "    model_loop_b5, cirriculum_b5, model_n_dims=n_dims,\n",
    "    log_every_steps=10, train_steps=train_steps, family=\"gpt2_loop\",\n",
    "    do_wandb_log=False, seed=None, task_name=task_name)"
   ],
   "id": "4a1413e05a57e3d1",
   "execution_count": 9,
   "outputs": []
  },
  {
   "metadata": {
    "ExecuteTime": {
     "end_time": "2024-07-29T10:19:47.035132Z",
     "start_time": "2024-07-29T09:56:02.237957Z"
    }
   },
   "cell_type": "code",
   "source": [
    "model_loop_b10 = TransformerModelLooped(\n",
    "    n_dims=n_dims,\n",
    "    n_positions=101,\n",
    "    n_embd=128,\n",
    "    n_layer=1,\n",
    "    n_head=4,\n",
    "    pred_type=\"regression\",\n",
    ").cuda()\n",
    "\n",
    "cirriculum_b10 = CurriculumSimple(n_dims, 31, 10, [5000, n_dims, 0], [5000, 31, 0], [5000, 10, 0])\n",
    "\n",
    "metrics_l1_b10_d10 = train_without_config(model_loop_b10, cirriculum_b10, model_n_dims=n_dims,\n",
    "                                          log_every_steps=10, train_steps=train_steps, family=\"gpt2_loop\",\n",
    "                                          do_wandb_log=False, seed=None, task_name=task_name)"
   ],
   "id": "d8a0d5abcd59140f",
   "execution_count": 10,
   "outputs": []
  },
  {
   "metadata": {
    "ExecuteTime": {
     "end_time": "2024-07-29T11:13:54.242113Z",
     "start_time": "2024-07-29T10:19:47.038137Z"
    }
   },
   "cell_type": "code",
   "source": [
    "model_loop_b15 = TransformerModelLooped(\n",
    "    n_dims=n_dims,\n",
    "    n_positions=101,\n",
    "    n_embd=128,\n",
    "    n_layer=1,\n",
    "    n_head=4,\n",
    "    pred_type=\"regression\",\n",
    ").cuda()\n",
    "\n",
    "cirriculum_b15 = CurriculumSimple(n_dims, 31, 15, [5000, n_dims, 0], [5000, 31, 0], [5000, 15, 0])\n",
    "\n",
    "metrics_l1_b15_d10 = train_without_config(model_loop_b15, cirriculum_b15, model_n_dims=n_dims,\n",
    "                                          log_every_steps=10, train_steps=train_steps, family=\"gpt2_loop\",\n",
    "                                          do_wandb_log=False, seed=None, task_name=task_name)"
   ],
   "id": "67cb702e3b95e3a7",
   "execution_count": 11,
   "outputs": []
  },
  {
   "metadata": {
    "ExecuteTime": {
     "end_time": "2024-07-29T12:07:17.563150Z",
     "start_time": "2024-07-29T11:13:54.249852Z"
    }
   },
   "cell_type": "code",
   "source": [
    "model_loop_b5_b10 = TransformerModelLooped(\n",
    "    n_dims=n_dims,\n",
    "    n_positions=101,\n",
    "    n_embd=128,\n",
    "    n_layer=1,\n",
    "    n_head=4,\n",
    "    pred_type=\"regression\",\n",
    ").cuda()\n",
    "\n",
    "cirriculum_b5_b10 = CurriculumSimple(n_dims, 31, 5, [5000, n_dims, 0], [5000, 31, 0], [2000, 10, 1])\n",
    "\n",
    "metrics_l1_b5_b10_d10 = train_without_config(\n",
    "    model_loop_b5_b10, cirriculum_b5_b10, model_n_dims=n_dims,\n",
    "    log_every_steps=10, train_steps=train_steps, family=\"gpt2_loop\",\n",
    "    do_wandb_log=False, seed=None, task_name=task_name)"
   ],
   "id": "2d527d76f55eaae0",
   "execution_count": 12,
   "outputs": []
  },
  {
   "metadata": {
    "ExecuteTime": {
     "end_time": "2024-07-29T13:33:44.624104Z",
     "start_time": "2024-07-29T12:07:17.565592Z"
    }
   },
   "cell_type": "code",
   "source": [
    "def calculate_by_loop(model):\n",
    "    val_by_loop = []\n",
    "    loop_steps = []\n",
    "    for i in range(1, 150):\n",
    "        val_loss = validate_model(model, n_dims_truncated=10, n_loops=i, model_n_dims=10, n_points=21, family=\"gpt2_loop\", task_name=task_name)\n",
    "        val_by_loop.append(val_loss / n_dims)\n",
    "        loop_steps.append(i)\n",
    "    return loop_steps, val_by_loop\n",
    "\n",
    "steps_b10, values_b10 = calculate_by_loop(model_loop_b10)\n",
    "steps_b5, values_b5 = calculate_by_loop(model_loop_b5)\n",
    "steps_b5_b15, values_b5_b15 = calculate_by_loop(model_loop_b5_b15)\n",
    "steps_b15, values_b15 = calculate_by_loop(model_loop_b15)\n",
    "steps_b5_b10, values_b5_b10 = calculate_by_loop(model_loop_b5_b10)"
   ],
   "id": "9fcd1d2e29f9d8ea",
   "execution_count": 13,
   "outputs": []
  },
  {
   "metadata": {
    "ExecuteTime": {
     "end_time": "2024-07-30T07:41:18.140719Z",
     "start_time": "2024-07-30T07:41:17.706633Z"
    }
   },
   "cell_type": "code",
   "source": [
    "plt.plot(steps_b5_b15, values_b5_b15)\n",
    "plt.plot(steps_b5, values_b5)\n",
    "plt.plot(steps_b10, values_b10)\n",
    "plt.plot(steps_b15, values_b15)\n",
    "plt.plot(steps_b5_b10, values_b5_b10)\n",
    "plt.grid()\n",
    "plt.title(\"T=10\")\n",
    "plt.legend([\"b=5-15\", \"b=5\", \"b=10\", \"b=15\", \"b=5-10\"])\n",
    "plt.savefig('../images/check_for_scheduling_convergence_properties_train_steps_10000.png')"
   ],
   "id": "faae4c3ed0e06f3d",
   "execution_count": 15,
   "outputs": []
  }
 ],
 "metadata": {
  "kernelspec": {
   "display_name": "Python 3",
   "language": "python",
   "name": "python3"
  },
  "language_info": {
   "codemirror_mode": {
    "name": "ipython",
    "version": 2
   },
   "file_extension": ".py",
   "mimetype": "text/x-python",
   "name": "python",
   "nbconvert_exporter": "python",
   "pygments_lexer": "ipython2",
   "version": "2.7.6"
  }
 },
 "nbformat": 4,
 "nbformat_minor": 5
}
