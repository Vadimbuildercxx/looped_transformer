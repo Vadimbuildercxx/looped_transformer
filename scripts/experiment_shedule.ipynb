{
 "cells": [
  {
   "metadata": {
    "ExecuteTime": {
     "end_time": "2024-08-04T12:33:21.125777Z",
     "start_time": "2024-08-04T12:33:17.738481Z"
    }
   },
   "cell_type": "code",
   "source": [
    "import matplotlib.pyplot as plt\n",
    "\n",
    "from models import TransformerModelLooped\n",
    "from curriculum import CurriculumSimple\n",
    "from train import train_without_config, validate_model\n",
    "\n",
    "n_dims = 10"
   ],
   "id": "cf3d1436559409c9",
   "outputs": [],
   "execution_count": 1
  },
  {
   "metadata": {
    "ExecuteTime": {
     "end_time": "2024-08-04T12:52:06.661608Z",
     "start_time": "2024-08-04T12:34:19.061691Z"
    }
   },
   "cell_type": "code",
   "source": [
    "model_loop_b5_b15 = TransformerModelLooped(\n",
    "    n_dims=n_dims,\n",
    "    n_positions=101,\n",
    "    n_embd=128,\n",
    "    n_layer=1,\n",
    "    n_head=4,\n",
    "    pred_type=\"regression\",\n",
    ").cuda()\n",
    "\n",
    "cirriculum_b5_b15 = CurriculumSimple(n_dims, 31, 5, [5000, n_dims, 0], [5000, 31, 0], [1000, 15, 1])\n",
    "\n",
    "metrics_l1_b5_b15_d10 = train_without_config(\n",
    "    model_loop_b5_b15, cirriculum_b5_b15, model_n_dims=n_dims, \n",
    "    log_every_steps=10, train_steps=15000, family=\"gpt2_loop\", \n",
    "    do_wandb_log=False, seed=None, task_name=\"noisy_linear_regression\")"
   ],
   "id": "69d531f7c23c62c8",
   "outputs": [
    {
     "name": "stdout",
     "output_type": "stream",
     "text": [
      "number of parameters: 0.20M\n"
     ]
    },
    {
     "name": "stderr",
     "output_type": "stream",
     "text": [
      "  0%|          | 0/15000 [00:00<?, ?it/s]"
     ]
    },
    {
     "name": "stdout",
     "output_type": "stream",
     "text": [
      "0\n"
     ]
    },
    {
     "name": "stderr",
     "output_type": "stream",
     "text": [
      "loss 3.6659064292907715: 100%|██████████| 15000/15000 [17:47<00:00, 14.05it/s]\n"
     ]
    }
   ],
   "execution_count": 4
  },
  {
   "metadata": {
    "ExecuteTime": {
     "end_time": "2024-08-04T12:34:15.220271Z",
     "start_time": "2024-08-04T12:33:50.219876Z"
    }
   },
   "cell_type": "code",
   "source": [
    "model_loop_b5 = TransformerModelLooped(\n",
    "    n_dims=n_dims,\n",
    "    n_positions=101,\n",
    "    n_embd=128,\n",
    "    n_layer=1,\n",
    "    n_head=4,\n",
    "    pred_type=\"regression\",\n",
    ").cuda()\n",
    "\n",
    "cirriculum_b5 = CurriculumSimple(n_dims, 31, 5, [5000, n_dims, 0], [5000, 31, 0], [1000, 5, 0])\n",
    "\n",
    "metrics_l1_b5_d10 = train_without_config(\n",
    "    model_loop_b5, cirriculum_b5, model_n_dims=n_dims,\n",
    "    log_every_steps=10, train_steps=15000, family=\"gpt2_loop\",\n",
    "    do_wandb_log=False, seed=None, task_name=\"noisy_linear_regression\")"
   ],
   "id": "4a1413e05a57e3d1",
   "outputs": [
    {
     "name": "stdout",
     "output_type": "stream",
     "text": [
      "number of parameters: 0.20M\n"
     ]
    },
    {
     "name": "stderr",
     "output_type": "stream",
     "text": [
      "  0%|          | 0/15000 [00:00<?, ?it/s]"
     ]
    },
    {
     "name": "stdout",
     "output_type": "stream",
     "text": [
      "0\n"
     ]
    },
    {
     "name": "stderr",
     "output_type": "stream",
     "text": [
      "loss 10.217330932617188:   5%|▍         | 699/15000 [00:24<08:14, 28.91it/s]\n"
     ]
    },
    {
     "ename": "KeyboardInterrupt",
     "evalue": "",
     "output_type": "error",
     "traceback": [
      "\u001B[1;31m---------------------------------------------------------------------------\u001B[0m",
      "\u001B[1;31mKeyboardInterrupt\u001B[0m                         Traceback (most recent call last)",
      "Cell \u001B[1;32mIn[3], line 12\u001B[0m\n\u001B[0;32m      1\u001B[0m model_loop_b5 \u001B[38;5;241m=\u001B[39m TransformerModelLooped(\n\u001B[0;32m      2\u001B[0m     n_dims\u001B[38;5;241m=\u001B[39mn_dims,\n\u001B[0;32m      3\u001B[0m     n_positions\u001B[38;5;241m=\u001B[39m\u001B[38;5;241m101\u001B[39m,\n\u001B[1;32m   (...)\u001B[0m\n\u001B[0;32m      7\u001B[0m     pred_type\u001B[38;5;241m=\u001B[39m\u001B[38;5;124m\"\u001B[39m\u001B[38;5;124mregression\u001B[39m\u001B[38;5;124m\"\u001B[39m,\n\u001B[0;32m      8\u001B[0m )\u001B[38;5;241m.\u001B[39mcuda()\n\u001B[0;32m     10\u001B[0m cirriculum_b5 \u001B[38;5;241m=\u001B[39m CurriculumSimple(n_dims, \u001B[38;5;241m31\u001B[39m, \u001B[38;5;241m5\u001B[39m, [\u001B[38;5;241m5000\u001B[39m, n_dims, \u001B[38;5;241m0\u001B[39m], [\u001B[38;5;241m5000\u001B[39m, \u001B[38;5;241m31\u001B[39m, \u001B[38;5;241m0\u001B[39m], [\u001B[38;5;241m1000\u001B[39m, \u001B[38;5;241m5\u001B[39m, \u001B[38;5;241m0\u001B[39m])\n\u001B[1;32m---> 12\u001B[0m metrics_l1_b5_d10 \u001B[38;5;241m=\u001B[39m \u001B[43mtrain_without_config\u001B[49m\u001B[43m(\u001B[49m\n\u001B[0;32m     13\u001B[0m \u001B[43m    \u001B[49m\u001B[43mmodel_loop_b5\u001B[49m\u001B[43m,\u001B[49m\u001B[43m \u001B[49m\u001B[43mcirriculum_b5\u001B[49m\u001B[43m,\u001B[49m\u001B[43m \u001B[49m\u001B[43mmodel_n_dims\u001B[49m\u001B[38;5;241;43m=\u001B[39;49m\u001B[43mn_dims\u001B[49m\u001B[43m,\u001B[49m\n\u001B[0;32m     14\u001B[0m \u001B[43m    \u001B[49m\u001B[43mlog_every_steps\u001B[49m\u001B[38;5;241;43m=\u001B[39;49m\u001B[38;5;241;43m10\u001B[39;49m\u001B[43m,\u001B[49m\u001B[43m \u001B[49m\u001B[43mtrain_steps\u001B[49m\u001B[38;5;241;43m=\u001B[39;49m\u001B[38;5;241;43m15000\u001B[39;49m\u001B[43m,\u001B[49m\u001B[43m \u001B[49m\u001B[43mfamily\u001B[49m\u001B[38;5;241;43m=\u001B[39;49m\u001B[38;5;124;43m\"\u001B[39;49m\u001B[38;5;124;43mgpt2_loop\u001B[39;49m\u001B[38;5;124;43m\"\u001B[39;49m\u001B[43m,\u001B[49m\n\u001B[0;32m     15\u001B[0m \u001B[43m    \u001B[49m\u001B[43mdo_wandb_log\u001B[49m\u001B[38;5;241;43m=\u001B[39;49m\u001B[38;5;28;43;01mFalse\u001B[39;49;00m\u001B[43m,\u001B[49m\u001B[43m \u001B[49m\u001B[43mseed\u001B[49m\u001B[38;5;241;43m=\u001B[39;49m\u001B[38;5;28;43;01mNone\u001B[39;49;00m\u001B[43m,\u001B[49m\u001B[43m \u001B[49m\u001B[43mtask_name\u001B[49m\u001B[38;5;241;43m=\u001B[39;49m\u001B[38;5;124;43m\"\u001B[39;49m\u001B[38;5;124;43mnoisy_linear_regression\u001B[39;49m\u001B[38;5;124;43m\"\u001B[39;49m\u001B[43m)\u001B[49m\n",
      "File \u001B[1;32m~\\DataspellProjects\\looped_transformer\\scripts\\train_core.py:221\u001B[0m, in \u001B[0;36mtrain_without_config\u001B[1;34m(model, curriculum, lr, add_inputs_embeds, task_name, batch_size, n_loop_window, model_n_dims, train_steps, family, experiment_name, out_dir, do_wandb_log, log_every_steps, use_ctx, project_name, project_notes, seed, weight_decay, sparsity, save_every_steps, device, callback)\u001B[0m\n\u001B[0;32m    217\u001B[0m         callback(model, loss\u001B[38;5;241m.\u001B[39mitem() \u001B[38;5;241m/\u001B[39m curriculum\u001B[38;5;241m.\u001B[39mn_dims_truncated)\n\u001B[0;32m    219\u001B[0m curriculum\u001B[38;5;241m.\u001B[39mupdate()\n\u001B[1;32m--> 221\u001B[0m \u001B[43mpbar\u001B[49m\u001B[38;5;241;43m.\u001B[39;49m\u001B[43mset_description\u001B[49m\u001B[43m(\u001B[49m\u001B[38;5;124;43mf\u001B[39;49m\u001B[38;5;124;43m\"\u001B[39;49m\u001B[38;5;124;43mloss \u001B[39;49m\u001B[38;5;132;43;01m{\u001B[39;49;00m\u001B[43mloss\u001B[49m\u001B[38;5;132;43;01m}\u001B[39;49;00m\u001B[38;5;124;43m\"\u001B[39;49m\u001B[43m)\u001B[49m\n\u001B[0;32m    222\u001B[0m \u001B[38;5;28;01mif\u001B[39;00m i \u001B[38;5;241m%\u001B[39m save_every_steps \u001B[38;5;241m==\u001B[39m \u001B[38;5;241m0\u001B[39m:\n\u001B[0;32m    223\u001B[0m     training_state \u001B[38;5;241m=\u001B[39m {\n\u001B[0;32m    224\u001B[0m         \u001B[38;5;124m\"\u001B[39m\u001B[38;5;124mmodel_state_dict\u001B[39m\u001B[38;5;124m\"\u001B[39m: model\u001B[38;5;241m.\u001B[39mstate_dict(),\n\u001B[0;32m    225\u001B[0m         \u001B[38;5;124m\"\u001B[39m\u001B[38;5;124moptimizer_state_dict\u001B[39m\u001B[38;5;124m\"\u001B[39m: optimizer\u001B[38;5;241m.\u001B[39mstate_dict(),\n\u001B[0;32m    226\u001B[0m         \u001B[38;5;124m\"\u001B[39m\u001B[38;5;124mtrain_step\u001B[39m\u001B[38;5;124m\"\u001B[39m: i,\n\u001B[0;32m    227\u001B[0m     }\n",
      "File \u001B[1;32m~\\miniconda3\\envs\\looped_tf\\lib\\site-packages\\tqdm\\std.py:1394\u001B[0m, in \u001B[0;36mtqdm.set_description\u001B[1;34m(self, desc, refresh)\u001B[0m\n\u001B[0;32m   1392\u001B[0m \u001B[38;5;28mself\u001B[39m\u001B[38;5;241m.\u001B[39mdesc \u001B[38;5;241m=\u001B[39m desc \u001B[38;5;241m+\u001B[39m \u001B[38;5;124m'\u001B[39m\u001B[38;5;124m: \u001B[39m\u001B[38;5;124m'\u001B[39m \u001B[38;5;28;01mif\u001B[39;00m desc \u001B[38;5;28;01melse\u001B[39;00m \u001B[38;5;124m'\u001B[39m\u001B[38;5;124m'\u001B[39m\n\u001B[0;32m   1393\u001B[0m \u001B[38;5;28;01mif\u001B[39;00m refresh:\n\u001B[1;32m-> 1394\u001B[0m     \u001B[38;5;28;43mself\u001B[39;49m\u001B[38;5;241;43m.\u001B[39;49m\u001B[43mrefresh\u001B[49m\u001B[43m(\u001B[49m\u001B[43m)\u001B[49m\n",
      "File \u001B[1;32m~\\miniconda3\\envs\\looped_tf\\lib\\site-packages\\tqdm\\std.py:1347\u001B[0m, in \u001B[0;36mtqdm.refresh\u001B[1;34m(self, nolock, lock_args)\u001B[0m\n\u001B[0;32m   1345\u001B[0m     \u001B[38;5;28;01melse\u001B[39;00m:\n\u001B[0;32m   1346\u001B[0m         \u001B[38;5;28mself\u001B[39m\u001B[38;5;241m.\u001B[39m_lock\u001B[38;5;241m.\u001B[39macquire()\n\u001B[1;32m-> 1347\u001B[0m \u001B[38;5;28;43mself\u001B[39;49m\u001B[38;5;241;43m.\u001B[39;49m\u001B[43mdisplay\u001B[49m\u001B[43m(\u001B[49m\u001B[43m)\u001B[49m\n\u001B[0;32m   1348\u001B[0m \u001B[38;5;28;01mif\u001B[39;00m \u001B[38;5;129;01mnot\u001B[39;00m nolock:\n\u001B[0;32m   1349\u001B[0m     \u001B[38;5;28mself\u001B[39m\u001B[38;5;241m.\u001B[39m_lock\u001B[38;5;241m.\u001B[39mrelease()\n",
      "File \u001B[1;32m~\\miniconda3\\envs\\looped_tf\\lib\\site-packages\\tqdm\\std.py:1495\u001B[0m, in \u001B[0;36mtqdm.display\u001B[1;34m(self, msg, pos)\u001B[0m\n\u001B[0;32m   1493\u001B[0m \u001B[38;5;28;01mif\u001B[39;00m pos:\n\u001B[0;32m   1494\u001B[0m     \u001B[38;5;28mself\u001B[39m\u001B[38;5;241m.\u001B[39mmoveto(pos)\n\u001B[1;32m-> 1495\u001B[0m \u001B[38;5;28;43mself\u001B[39;49m\u001B[38;5;241;43m.\u001B[39;49m\u001B[43msp\u001B[49m\u001B[43m(\u001B[49m\u001B[38;5;28;43mself\u001B[39;49m\u001B[38;5;241;43m.\u001B[39;49m\u001B[38;5;21;43m__str__\u001B[39;49m\u001B[43m(\u001B[49m\u001B[43m)\u001B[49m\u001B[43m \u001B[49m\u001B[38;5;28;43;01mif\u001B[39;49;00m\u001B[43m \u001B[49m\u001B[43mmsg\u001B[49m\u001B[43m \u001B[49m\u001B[38;5;129;43;01mis\u001B[39;49;00m\u001B[43m \u001B[49m\u001B[38;5;28;43;01mNone\u001B[39;49;00m\u001B[43m \u001B[49m\u001B[38;5;28;43;01melse\u001B[39;49;00m\u001B[43m \u001B[49m\u001B[43mmsg\u001B[49m\u001B[43m)\u001B[49m\n\u001B[0;32m   1496\u001B[0m \u001B[38;5;28;01mif\u001B[39;00m pos:\n\u001B[0;32m   1497\u001B[0m     \u001B[38;5;28mself\u001B[39m\u001B[38;5;241m.\u001B[39mmoveto(\u001B[38;5;241m-\u001B[39mpos)\n",
      "File \u001B[1;32m~\\miniconda3\\envs\\looped_tf\\lib\\site-packages\\tqdm\\std.py:459\u001B[0m, in \u001B[0;36mtqdm.status_printer.<locals>.print_status\u001B[1;34m(s)\u001B[0m\n\u001B[0;32m    457\u001B[0m \u001B[38;5;28;01mdef\u001B[39;00m \u001B[38;5;21mprint_status\u001B[39m(s):\n\u001B[0;32m    458\u001B[0m     len_s \u001B[38;5;241m=\u001B[39m disp_len(s)\n\u001B[1;32m--> 459\u001B[0m     \u001B[43mfp_write\u001B[49m\u001B[43m(\u001B[49m\u001B[38;5;124;43m'\u001B[39;49m\u001B[38;5;130;43;01m\\r\u001B[39;49;00m\u001B[38;5;124;43m'\u001B[39;49m\u001B[43m \u001B[49m\u001B[38;5;241;43m+\u001B[39;49m\u001B[43m \u001B[49m\u001B[43ms\u001B[49m\u001B[43m \u001B[49m\u001B[38;5;241;43m+\u001B[39;49m\u001B[43m \u001B[49m\u001B[43m(\u001B[49m\u001B[38;5;124;43m'\u001B[39;49m\u001B[38;5;124;43m \u001B[39;49m\u001B[38;5;124;43m'\u001B[39;49m\u001B[43m \u001B[49m\u001B[38;5;241;43m*\u001B[39;49m\u001B[43m \u001B[49m\u001B[38;5;28;43mmax\u001B[39;49m\u001B[43m(\u001B[49m\u001B[43mlast_len\u001B[49m\u001B[43m[\u001B[49m\u001B[38;5;241;43m0\u001B[39;49m\u001B[43m]\u001B[49m\u001B[43m \u001B[49m\u001B[38;5;241;43m-\u001B[39;49m\u001B[43m \u001B[49m\u001B[43mlen_s\u001B[49m\u001B[43m,\u001B[49m\u001B[43m \u001B[49m\u001B[38;5;241;43m0\u001B[39;49m\u001B[43m)\u001B[49m\u001B[43m)\u001B[49m\u001B[43m)\u001B[49m\n\u001B[0;32m    460\u001B[0m     last_len[\u001B[38;5;241m0\u001B[39m] \u001B[38;5;241m=\u001B[39m len_s\n",
      "File \u001B[1;32m~\\miniconda3\\envs\\looped_tf\\lib\\site-packages\\tqdm\\std.py:452\u001B[0m, in \u001B[0;36mtqdm.status_printer.<locals>.fp_write\u001B[1;34m(s)\u001B[0m\n\u001B[0;32m    451\u001B[0m \u001B[38;5;28;01mdef\u001B[39;00m \u001B[38;5;21mfp_write\u001B[39m(s):\n\u001B[1;32m--> 452\u001B[0m     \u001B[43mfp\u001B[49m\u001B[38;5;241;43m.\u001B[39;49m\u001B[43mwrite\u001B[49m\u001B[43m(\u001B[49m\u001B[38;5;28;43mstr\u001B[39;49m\u001B[43m(\u001B[49m\u001B[43ms\u001B[49m\u001B[43m)\u001B[49m\u001B[43m)\u001B[49m\n\u001B[0;32m    453\u001B[0m     fp_flush()\n",
      "File \u001B[1;32m~\\miniconda3\\envs\\looped_tf\\lib\\site-packages\\tqdm\\utils.py:196\u001B[0m, in \u001B[0;36mDisableOnWriteError.disable_on_exception.<locals>.inner\u001B[1;34m(*args, **kwargs)\u001B[0m\n\u001B[0;32m    194\u001B[0m \u001B[38;5;28;01mdef\u001B[39;00m \u001B[38;5;21minner\u001B[39m(\u001B[38;5;241m*\u001B[39margs, \u001B[38;5;241m*\u001B[39m\u001B[38;5;241m*\u001B[39mkwargs):\n\u001B[0;32m    195\u001B[0m     \u001B[38;5;28;01mtry\u001B[39;00m:\n\u001B[1;32m--> 196\u001B[0m         \u001B[38;5;28;01mreturn\u001B[39;00m \u001B[43mfunc\u001B[49m\u001B[43m(\u001B[49m\u001B[38;5;241;43m*\u001B[39;49m\u001B[43margs\u001B[49m\u001B[43m,\u001B[49m\u001B[43m \u001B[49m\u001B[38;5;241;43m*\u001B[39;49m\u001B[38;5;241;43m*\u001B[39;49m\u001B[43mkwargs\u001B[49m\u001B[43m)\u001B[49m\n\u001B[0;32m    197\u001B[0m     \u001B[38;5;28;01mexcept\u001B[39;00m \u001B[38;5;167;01mOSError\u001B[39;00m \u001B[38;5;28;01mas\u001B[39;00m e:\n\u001B[0;32m    198\u001B[0m         \u001B[38;5;28;01mif\u001B[39;00m e\u001B[38;5;241m.\u001B[39merrno \u001B[38;5;241m!=\u001B[39m \u001B[38;5;241m5\u001B[39m:\n",
      "File \u001B[1;32m~\\miniconda3\\envs\\looped_tf\\lib\\site-packages\\ipykernel\\iostream.py:662\u001B[0m, in \u001B[0;36mOutStream.write\u001B[1;34m(self, string)\u001B[0m\n\u001B[0;32m    660\u001B[0m     \u001B[38;5;28mself\u001B[39m\u001B[38;5;241m.\u001B[39mpub_thread\u001B[38;5;241m.\u001B[39mschedule(\u001B[38;5;28mself\u001B[39m\u001B[38;5;241m.\u001B[39m_flush)\n\u001B[0;32m    661\u001B[0m \u001B[38;5;28;01melse\u001B[39;00m:\n\u001B[1;32m--> 662\u001B[0m     \u001B[38;5;28;43mself\u001B[39;49m\u001B[38;5;241;43m.\u001B[39;49m\u001B[43m_schedule_flush\u001B[49m\u001B[43m(\u001B[49m\u001B[43m)\u001B[49m\n\u001B[0;32m    664\u001B[0m \u001B[38;5;28;01mreturn\u001B[39;00m \u001B[38;5;28mlen\u001B[39m(string)\n",
      "File \u001B[1;32m~\\miniconda3\\envs\\looped_tf\\lib\\site-packages\\ipykernel\\iostream.py:559\u001B[0m, in \u001B[0;36mOutStream._schedule_flush\u001B[1;34m(self)\u001B[0m\n\u001B[0;32m    556\u001B[0m \u001B[38;5;28;01mdef\u001B[39;00m \u001B[38;5;21m_schedule_in_thread\u001B[39m():\n\u001B[0;32m    557\u001B[0m     \u001B[38;5;28mself\u001B[39m\u001B[38;5;241m.\u001B[39m_io_loop\u001B[38;5;241m.\u001B[39mcall_later(\u001B[38;5;28mself\u001B[39m\u001B[38;5;241m.\u001B[39mflush_interval, \u001B[38;5;28mself\u001B[39m\u001B[38;5;241m.\u001B[39m_flush)\n\u001B[1;32m--> 559\u001B[0m \u001B[38;5;28;43mself\u001B[39;49m\u001B[38;5;241;43m.\u001B[39;49m\u001B[43mpub_thread\u001B[49m\u001B[38;5;241;43m.\u001B[39;49m\u001B[43mschedule\u001B[49m\u001B[43m(\u001B[49m\u001B[43m_schedule_in_thread\u001B[49m\u001B[43m)\u001B[49m\n",
      "File \u001B[1;32m~\\miniconda3\\envs\\looped_tf\\lib\\site-packages\\ipykernel\\iostream.py:266\u001B[0m, in \u001B[0;36mIOPubThread.schedule\u001B[1;34m(self, f)\u001B[0m\n\u001B[0;32m    264\u001B[0m     \u001B[38;5;28mself\u001B[39m\u001B[38;5;241m.\u001B[39m_events\u001B[38;5;241m.\u001B[39mappend(f)\n\u001B[0;32m    265\u001B[0m     \u001B[38;5;66;03m# wake event thread (message content is ignored)\u001B[39;00m\n\u001B[1;32m--> 266\u001B[0m     \u001B[38;5;28;43mself\u001B[39;49m\u001B[38;5;241;43m.\u001B[39;49m\u001B[43m_event_pipe\u001B[49m\u001B[38;5;241;43m.\u001B[39;49m\u001B[43msend\u001B[49m\u001B[43m(\u001B[49m\u001B[38;5;124;43mb\u001B[39;49m\u001B[38;5;124;43m\"\u001B[39;49m\u001B[38;5;124;43m\"\u001B[39;49m\u001B[43m)\u001B[49m\n\u001B[0;32m    267\u001B[0m \u001B[38;5;28;01melse\u001B[39;00m:\n\u001B[0;32m    268\u001B[0m     f()\n",
      "File \u001B[1;32m~\\miniconda3\\envs\\looped_tf\\lib\\site-packages\\zmq\\sugar\\socket.py:696\u001B[0m, in \u001B[0;36mSocket.send\u001B[1;34m(self, data, flags, copy, track, routing_id, group)\u001B[0m\n\u001B[0;32m    689\u001B[0m         data \u001B[38;5;241m=\u001B[39m zmq\u001B[38;5;241m.\u001B[39mFrame(\n\u001B[0;32m    690\u001B[0m             data,\n\u001B[0;32m    691\u001B[0m             track\u001B[38;5;241m=\u001B[39mtrack,\n\u001B[0;32m    692\u001B[0m             copy\u001B[38;5;241m=\u001B[39mcopy \u001B[38;5;129;01mor\u001B[39;00m \u001B[38;5;28;01mNone\u001B[39;00m,\n\u001B[0;32m    693\u001B[0m             copy_threshold\u001B[38;5;241m=\u001B[39m\u001B[38;5;28mself\u001B[39m\u001B[38;5;241m.\u001B[39mcopy_threshold,\n\u001B[0;32m    694\u001B[0m         )\n\u001B[0;32m    695\u001B[0m     data\u001B[38;5;241m.\u001B[39mgroup \u001B[38;5;241m=\u001B[39m group\n\u001B[1;32m--> 696\u001B[0m \u001B[38;5;28;01mreturn\u001B[39;00m \u001B[38;5;28;43msuper\u001B[39;49m\u001B[43m(\u001B[49m\u001B[43m)\u001B[49m\u001B[38;5;241;43m.\u001B[39;49m\u001B[43msend\u001B[49m\u001B[43m(\u001B[49m\u001B[43mdata\u001B[49m\u001B[43m,\u001B[49m\u001B[43m \u001B[49m\u001B[43mflags\u001B[49m\u001B[38;5;241;43m=\u001B[39;49m\u001B[43mflags\u001B[49m\u001B[43m,\u001B[49m\u001B[43m \u001B[49m\u001B[43mcopy\u001B[49m\u001B[38;5;241;43m=\u001B[39;49m\u001B[43mcopy\u001B[49m\u001B[43m,\u001B[49m\u001B[43m \u001B[49m\u001B[43mtrack\u001B[49m\u001B[38;5;241;43m=\u001B[39;49m\u001B[43mtrack\u001B[49m\u001B[43m)\u001B[49m\n",
      "File \u001B[1;32mzmq\\\\backend\\\\cython\\\\socket.pyx:742\u001B[0m, in \u001B[0;36mzmq.backend.cython.socket.Socket.send\u001B[1;34m()\u001B[0m\n",
      "File \u001B[1;32mzmq\\\\backend\\\\cython\\\\socket.pyx:789\u001B[0m, in \u001B[0;36mzmq.backend.cython.socket.Socket.send\u001B[1;34m()\u001B[0m\n",
      "File \u001B[1;32mzmq\\\\backend\\\\cython\\\\socket.pyx:250\u001B[0m, in \u001B[0;36mzmq.backend.cython.socket._send_copy\u001B[1;34m()\u001B[0m\n",
      "File \u001B[1;32m~\\miniconda3\\envs\\looped_tf\\lib\\site-packages\\zmq\\backend\\cython\\checkrc.pxd:13\u001B[0m, in \u001B[0;36mzmq.backend.cython.checkrc._check_rc\u001B[1;34m()\u001B[0m\n",
      "\u001B[1;31mKeyboardInterrupt\u001B[0m: "
     ]
    }
   ],
   "execution_count": 3
  },
  {
   "metadata": {
    "ExecuteTime": {
     "end_time": "2024-07-29T07:47:24.192128Z",
     "start_time": "2024-07-29T07:32:33.188356Z"
    }
   },
   "cell_type": "code",
   "source": [
    "model_loop_b10 = TransformerModelLooped(\n",
    "    n_dims=n_dims,\n",
    "    n_positions=101,\n",
    "    n_embd=128,\n",
    "    n_layer=1,\n",
    "    n_head=4,\n",
    "    pred_type=\"regression\",\n",
    ").cuda()\n",
    "\n",
    "cirriculum_b10 = CurriculumSimple(n_dims, 31, 10, [5000, n_dims, 0], [5000, 31, 0], [5000, 10, 0])\n",
    "\n",
    "metrics_l1_b10_d10 = train_without_config(model_loop_b10, cirriculum_b10, model_n_dims=n_dims,\n",
    "                                          log_every_steps=10, train_steps=15000, family=\"gpt2_loop\",\n",
    "                                          do_wandb_log=False, seed=None, task_name=\"noisy_linear_regression\")"
   ],
   "id": "d8a0d5abcd59140f",
   "execution_count": 20,
   "outputs": []
  },
  {
   "metadata": {
    "ExecuteTime": {
     "end_time": "2024-07-29T08:13:43.744376Z",
     "start_time": "2024-07-29T07:52:26.194316Z"
    }
   },
   "cell_type": "code",
   "source": [
    "model_loop_b15 = TransformerModelLooped(\n",
    "    n_dims=n_dims,\n",
    "    n_positions=101,\n",
    "    n_embd=128,\n",
    "    n_layer=1,\n",
    "    n_head=4,\n",
    "    pred_type=\"regression\",\n",
    ").cuda()\n",
    "\n",
    "cirriculum_b15 = CurriculumSimple(n_dims, 31, 15, [5000, n_dims, 0], [5000, 31, 0], [5000, 15, 0])\n",
    "\n",
    "metrics_l1_b15_d10 = train_without_config(model_loop_b15, cirriculum_b15, model_n_dims=n_dims,\n",
    "                                          log_every_steps=10, train_steps=15000, family=\"gpt2_loop\",\n",
    "                                          do_wandb_log=False, seed=None, task_name=\"noisy_linear_regression\")"
   ],
   "id": "67cb702e3b95e3a7",
   "execution_count": 24,
   "outputs": []
  },
  {
   "metadata": {
    "ExecuteTime": {
     "end_time": "2024-08-04T13:05:17.806726Z",
     "start_time": "2024-08-04T12:52:06.664795Z"
    }
   },
   "cell_type": "code",
   "source": [
    "model_loop_b5_b10 = TransformerModelLooped(\n",
    "    n_dims=n_dims,\n",
    "    n_positions=101,\n",
    "    n_embd=128,\n",
    "    n_layer=1,\n",
    "    n_head=4,\n",
    "    pred_type=\"regression\",\n",
    ").cuda()\n",
    "\n",
    "cirriculum_b5_b10 = CurriculumSimple(n_dims, 31, 5, [5000, n_dims, 0], [5000, 31, 0], [2000, 10, 1])\n",
    "\n",
    "metrics_l1_b5_b10_d10 = train_without_config(\n",
    "    model_loop_b5_b10, cirriculum_b5_b10, model_n_dims=n_dims,\n",
    "    log_every_steps=10, train_steps=15000, family=\"gpt2_loop\",\n",
    "    do_wandb_log=False, seed=None, task_name=\"noisy_linear_regression\")"
   ],
   "id": "2d527d76f55eaae0",
   "outputs": [
    {
     "name": "stdout",
     "output_type": "stream",
     "text": [
      "number of parameters: 0.20M\n"
     ]
    },
    {
     "name": "stderr",
     "output_type": "stream",
     "text": [
      "loss 10.921560287475586:   0%|          | 3/15000 [00:00<10:30, 23.79it/s]"
     ]
    },
    {
     "name": "stdout",
     "output_type": "stream",
     "text": [
      "0\n"
     ]
    },
    {
     "name": "stderr",
     "output_type": "stream",
     "text": [
      "loss 3.8144404888153076: 100%|██████████| 15000/15000 [13:11<00:00, 18.96it/s]\n"
     ]
    }
   ],
   "execution_count": 5
  },
  {
   "metadata": {
    "ExecuteTime": {
     "end_time": "2024-07-29T08:50:33.797651Z",
     "start_time": "2024-07-29T08:32:48.474716Z"
    }
   },
   "cell_type": "code",
   "source": [
    "def calculate_by_loop(model):\n",
    "    val_by_loop = []\n",
    "    loop_steps = []\n",
    "    for i in range(1, 150):\n",
    "        val_loss = validate_model(model, n_dims_truncated=10, n_loops=i, model_n_dims=10, n_points=31, family=\"gpt2_loop\", task_name=\"noisy_linear_regression\")\n",
    "        val_by_loop.append(val_loss / n_dims)\n",
    "        loop_steps.append(i)\n",
    "    return loop_steps, val_by_loop\n",
    "\n",
    "steps_b10, values_b10 = calculate_by_loop(model_loop_b10)\n",
    "steps_b5, values_b5 = calculate_by_loop(model_loop_b5)\n",
    "steps_b5_b15, values_b5_b15 = calculate_by_loop(model_loop_b5_b15)\n",
    "steps_b15, values_b15 = calculate_by_loop(model_loop_b15)\n",
    "steps_b5_b10, values_b5_b10 = calculate_by_loop(model_loop_b5_b10)"
   ],
   "id": "9fcd1d2e29f9d8ea",
   "execution_count": 30,
   "outputs": []
  },
  {
   "metadata": {},
   "cell_type": "code",
   "source": [
    "plt.plot(steps_b5, values_b5)\n",
    "plt.plot(steps_b10, values_b10)\n",
    "plt.plot(steps_b15, values_b15)\n",
    "plt.plot(steps_b5_b10, values_b5_b10)\n",
    "plt.plot(steps_b5_b15, values_b5_b15)\n",
    "plt.grid()\n",
    "plt.title(\"T=20\")\n",
    "plt.legend([\"b=5\", \"b=10\", \"b=15\", \"b=5-10\", \"b=5-15\", ])\n",
    "plt.savefig('../images/check_for_scheduling_convergence_properties_noisy_linear_regression.png')"
   ],
   "id": "faae4c3ed0e06f3d",
   "execution_count": null,
   "outputs": []
  }
 ],
 "metadata": {
  "kernelspec": {
   "display_name": "Python 3",
   "language": "python",
   "name": "python3"
  },
  "language_info": {
   "codemirror_mode": {
    "name": "ipython",
    "version": 2
   },
   "file_extension": ".py",
   "mimetype": "text/x-python",
   "name": "python",
   "nbconvert_exporter": "python",
   "pygments_lexer": "ipython2",
   "version": "2.7.6"
  }
 },
 "nbformat": 4,
 "nbformat_minor": 5
}
