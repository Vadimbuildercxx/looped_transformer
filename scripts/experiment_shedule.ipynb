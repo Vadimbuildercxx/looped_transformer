{
 "cells": [
  {
   "metadata": {
    "ExecuteTime": {
     "end_time": "2024-07-30T07:53:27.244500Z",
     "start_time": "2024-07-30T07:53:23.047533Z"
    }
   },
   "cell_type": "code",
   "source": [
    "import matplotlib.pyplot as plt\n",
    "\n",
    "from models import TransformerModelLooped\n",
    "from curriculum import CurriculumSimple\n",
    "from train import train_without_config, validate_model\n",
    "\n",
    "n_dims = 10"
   ],
   "id": "cf3d1436559409c9",
   "outputs": [],
   "execution_count": 1
  },
  {
   "metadata": {
    "ExecuteTime": {
     "end_time": "2024-07-29T06:55:39.131379Z",
     "start_time": "2024-07-29T06:39:53.042268Z"
    }
   },
   "cell_type": "code",
   "source": [
    "model_loop_b5_b15 = TransformerModelLooped(\n",
    "    n_dims=n_dims,\n",
    "    n_positions=101,\n",
    "    n_embd=128,\n",
    "    n_layer=1,\n",
    "    n_head=4,\n",
    "    pred_type=\"regression\",\n",
    ").cuda()\n",
    "\n",
    "cirriculum_b5_b15 = CurriculumSimple(n_dims, 31, 5, [5000, n_dims, 0], [5000, 31, 0], [1000, 15, 1])\n",
    "\n",
    "metrics_l1_b5_b15_d10 = train_without_config(\n",
    "    model_loop_b5_b15, cirriculum_b5_b15, model_n_dims=n_dims, \n",
    "    log_every_steps=10, train_steps=15000, family=\"gpt2_loop\", \n",
    "    do_wandb_log=False, seed=None, task_name=\"noisy_linear_regression\")"
   ],
   "id": "69d531f7c23c62c8",
   "outputs": [
    {
     "name": "stdout",
     "output_type": "stream",
     "text": [
      "number of parameters: 0.20M\n"
     ]
    },
    {
     "name": "stderr",
     "output_type": "stream",
     "text": [
      "  0%|          | 0/15000 [00:00<?, ?it/s]"
     ]
    },
    {
     "name": "stdout",
     "output_type": "stream",
     "text": [
      "0\n"
     ]
    },
    {
     "name": "stderr",
     "output_type": "stream",
     "text": [
      "loss 2.9466633796691895: 100%|██████████| 15000/15000 [15:46<00:00, 15.86it/s]\n"
     ]
    }
   ],
   "execution_count": 11
  },
  {
   "metadata": {
    "ExecuteTime": {
     "end_time": "2024-07-29T07:27:19.673916Z",
     "start_time": "2024-07-29T07:19:16.189258Z"
    }
   },
   "cell_type": "code",
   "source": [
    "model_loop_b5 = TransformerModelLooped(\n",
    "    n_dims=n_dims,\n",
    "    n_positions=101,\n",
    "    n_embd=128,\n",
    "    n_layer=1,\n",
    "    n_head=4,\n",
    "    pred_type=\"regression\",\n",
    ").cuda()\n",
    "\n",
    "cirriculum_b5 = CurriculumSimple(n_dims, 31, 5, [5000, n_dims, 0], [5000, 31, 0], [1000, 5, 0])\n",
    "\n",
    "metrics_l1_b5_d10 = train_without_config(\n",
    "    model_loop_b5, cirriculum_b5, model_n_dims=n_dims,\n",
    "    log_every_steps=10, train_steps=15000, family=\"gpt2_loop\",\n",
    "    do_wandb_log=False, seed=None, task_name=\"noisy_linear_regression\")"
   ],
   "id": "4a1413e05a57e3d1",
   "outputs": [
    {
     "name": "stdout",
     "output_type": "stream",
     "text": [
      "number of parameters: 0.20M\n"
     ]
    },
    {
     "name": "stderr",
     "output_type": "stream",
     "text": [
      "  0%|          | 0/15000 [00:00<?, ?it/s]"
     ]
    },
    {
     "name": "stdout",
     "output_type": "stream",
     "text": [
      "0\n"
     ]
    },
    {
     "name": "stderr",
     "output_type": "stream",
     "text": [
      "loss 4.829997539520264: 100%|██████████| 15000/15000 [08:03<00:00, 31.03it/s] \n"
     ]
    }
   ],
   "execution_count": 17
  },
  {
   "metadata": {
    "ExecuteTime": {
     "end_time": "2024-07-29T07:47:24.192128Z",
     "start_time": "2024-07-29T07:32:33.188356Z"
    }
   },
   "cell_type": "code",
   "source": [
    "model_loop_b10 = TransformerModelLooped(\n",
    "    n_dims=n_dims,\n",
    "    n_positions=101,\n",
    "    n_embd=128,\n",
    "    n_layer=1,\n",
    "    n_head=4,\n",
    "    pred_type=\"regression\",\n",
    ").cuda()\n",
    "\n",
    "cirriculum_b10 = CurriculumSimple(n_dims, 31, 10, [5000, n_dims, 0], [5000, 31, 0], [5000, 10, 0])\n",
    "\n",
    "metrics_l1_b10_d10 = train_without_config(model_loop_b10, cirriculum_b10, model_n_dims=n_dims,\n",
    "                                          log_every_steps=10, train_steps=15000, family=\"gpt2_loop\",\n",
    "                                          do_wandb_log=False, seed=None, task_name=\"noisy_linear_regression\")"
   ],
   "id": "d8a0d5abcd59140f",
   "outputs": [
    {
     "name": "stdout",
     "output_type": "stream",
     "text": [
      "number of parameters: 0.20M\n"
     ]
    },
    {
     "name": "stderr",
     "output_type": "stream",
     "text": [
      "  0%|          | 0/15000 [00:00<?, ?it/s]"
     ]
    },
    {
     "name": "stdout",
     "output_type": "stream",
     "text": [
      "0\n"
     ]
    },
    {
     "name": "stderr",
     "output_type": "stream",
     "text": [
      "loss 3.8679158687591553: 100%|██████████| 15000/15000 [14:50<00:00, 16.84it/s]\n"
     ]
    }
   ],
   "execution_count": 20
  },
  {
   "metadata": {
    "ExecuteTime": {
     "end_time": "2024-07-29T08:13:43.744376Z",
     "start_time": "2024-07-29T07:52:26.194316Z"
    }
   },
   "cell_type": "code",
   "source": [
    "model_loop_b15 = TransformerModelLooped(\n",
    "    n_dims=n_dims,\n",
    "    n_positions=101,\n",
    "    n_embd=128,\n",
    "    n_layer=1,\n",
    "    n_head=4,\n",
    "    pred_type=\"regression\",\n",
    ").cuda()\n",
    "\n",
    "cirriculum_b15 = CurriculumSimple(n_dims, 31, 15, [5000, n_dims, 0], [5000, 31, 0], [5000, 15, 0])\n",
    "\n",
    "metrics_l1_b15_d10 = train_without_config(model_loop_b15, cirriculum_b15, model_n_dims=n_dims,\n",
    "                                          log_every_steps=10, train_steps=15000, family=\"gpt2_loop\",\n",
    "                                          do_wandb_log=False, seed=None, task_name=\"noisy_linear_regression\")"
   ],
   "id": "67cb702e3b95e3a7",
   "outputs": [
    {
     "name": "stdout",
     "output_type": "stream",
     "text": [
      "number of parameters: 0.20M\n"
     ]
    },
    {
     "name": "stderr",
     "output_type": "stream",
     "text": [
      "  0%|          | 0/15000 [00:00<?, ?it/s]"
     ]
    },
    {
     "name": "stdout",
     "output_type": "stream",
     "text": [
      "0\n"
     ]
    },
    {
     "name": "stderr",
     "output_type": "stream",
     "text": [
      "loss 3.1161487102508545: 100%|██████████| 15000/15000 [21:17<00:00, 11.74it/s]\n"
     ]
    }
   ],
   "execution_count": 24
  },
  {
   "metadata": {
    "ExecuteTime": {
     "end_time": "2024-07-29T08:31:02.178011Z",
     "start_time": "2024-07-29T08:18:31.477158Z"
    }
   },
   "cell_type": "code",
   "source": [
    "model_loop_b5_b10 = TransformerModelLooped(\n",
    "    n_dims=n_dims,\n",
    "    n_positions=101,\n",
    "    n_embd=128,\n",
    "    n_layer=1,\n",
    "    n_head=4,\n",
    "    pred_type=\"regression\",\n",
    ").cuda()\n",
    "\n",
    "cirriculum_b5_b10 = CurriculumSimple(n_dims, 31, 5, [5000, n_dims, 0], [5000, 31, 0], [2000, 10, 1])\n",
    "\n",
    "metrics_l1_b5_b10_d10 = train_without_config(\n",
    "    model_loop_b5_b10, cirriculum_b5_b10, model_n_dims=n_dims,\n",
    "    log_every_steps=10, train_steps=15000, family=\"gpt2_loop\",\n",
    "    do_wandb_log=False, seed=None, task_name=\"noisy_linear_regression\")"
   ],
   "id": "2d527d76f55eaae0",
   "outputs": [
    {
     "name": "stdout",
     "output_type": "stream",
     "text": [
      "number of parameters: 0.20M\n"
     ]
    },
    {
     "name": "stderr",
     "output_type": "stream",
     "text": [
      "  0%|          | 0/15000 [00:00<?, ?it/s]"
     ]
    },
    {
     "name": "stdout",
     "output_type": "stream",
     "text": [
      "0\n"
     ]
    },
    {
     "name": "stderr",
     "output_type": "stream",
     "text": [
      "loss 4.429057598114014: 100%|██████████| 15000/15000 [12:30<00:00, 19.98it/s] \n"
     ]
    }
   ],
   "execution_count": 27
  },
  {
   "metadata": {
    "ExecuteTime": {
     "end_time": "2024-07-30T07:53:59.450563Z",
     "start_time": "2024-07-30T07:53:35.086155Z"
    }
   },
   "cell_type": "code",
   "source": [
    "model_loop_b30 = TransformerModelLooped(\n",
    "    n_dims=n_dims,\n",
    "    n_positions=101,\n",
    "    n_embd=128,\n",
    "    n_layer=1,\n",
    "    n_head=4,\n",
    "    pred_type=\"regression\",\n",
    ").cuda()\n",
    "\n",
    "cirriculum_b30 = CurriculumSimple(n_dims, 31, 30, [5000, n_dims, 0], [5000, 31, 0], [1000, 30, 0])\n",
    "\n",
    "metrics_l1_b30_d10 = train_without_config(\n",
    "    model_loop_b30, cirriculum_b30, model_n_dims=n_dims,\n",
    "    log_every_steps=10, train_steps=15000, family=\"gpt2_loop\",\n",
    "    do_wandb_log=False, seed=None, task_name=\"noisy_linear_regression\")"
   ],
   "id": "c819e617ec43d0e3",
   "outputs": [
    {
     "name": "stdout",
     "output_type": "stream",
     "text": [
      "number of parameters: 0.20M\n"
     ]
    },
    {
     "name": "stderr",
     "output_type": "stream",
     "text": [
      "  0%|          | 0/15000 [00:00<?, ?it/s]C:\\Users\\Vadim_K\\DataspellProjects\\looped_transformer\\scripts\\nano_gpt.py:79: UserWarning: 1Torch was not compiled with flash attention. (Triggered internally at C:\\actions-runner\\_work\\pytorch\\pytorch\\builder\\windows\\pytorch\\aten\\src\\ATen\\native\\transformers\\cuda\\sdp_utils.cpp:555.)\n",
      "  y = torch.nn.functional.scaled_dot_product_attention(\n"
     ]
    },
    {
     "name": "stdout",
     "output_type": "stream",
     "text": [
      "0\n"
     ]
    },
    {
     "name": "stderr",
     "output_type": "stream",
     "text": [
      "loss 10.304277420043945:   0%|          | 34/15000 [00:22<2:46:35,  1.50it/s]\n"
     ]
    },
    {
     "ename": "KeyboardInterrupt",
     "evalue": "",
     "output_type": "error",
     "traceback": [
      "\u001B[1;31m---------------------------------------------------------------------------\u001B[0m",
      "\u001B[1;31mKeyboardInterrupt\u001B[0m                         Traceback (most recent call last)",
      "Cell \u001B[1;32mIn[2], line 12\u001B[0m\n\u001B[0;32m      1\u001B[0m model_loop_b30 \u001B[38;5;241m=\u001B[39m TransformerModelLooped(\n\u001B[0;32m      2\u001B[0m     n_dims\u001B[38;5;241m=\u001B[39mn_dims,\n\u001B[0;32m      3\u001B[0m     n_positions\u001B[38;5;241m=\u001B[39m\u001B[38;5;241m101\u001B[39m,\n\u001B[1;32m   (...)\u001B[0m\n\u001B[0;32m      7\u001B[0m     pred_type\u001B[38;5;241m=\u001B[39m\u001B[38;5;124m\"\u001B[39m\u001B[38;5;124mregression\u001B[39m\u001B[38;5;124m\"\u001B[39m,\n\u001B[0;32m      8\u001B[0m )\u001B[38;5;241m.\u001B[39mcuda()\n\u001B[0;32m     10\u001B[0m cirriculum_b30 \u001B[38;5;241m=\u001B[39m CurriculumSimple(n_dims, \u001B[38;5;241m31\u001B[39m, \u001B[38;5;241m30\u001B[39m, [\u001B[38;5;241m5000\u001B[39m, n_dims, \u001B[38;5;241m0\u001B[39m], [\u001B[38;5;241m5000\u001B[39m, \u001B[38;5;241m31\u001B[39m, \u001B[38;5;241m0\u001B[39m], [\u001B[38;5;241m1000\u001B[39m, \u001B[38;5;241m30\u001B[39m, \u001B[38;5;241m0\u001B[39m])\n\u001B[1;32m---> 12\u001B[0m metrics_l1_b30_d10 \u001B[38;5;241m=\u001B[39m \u001B[43mtrain_without_config\u001B[49m\u001B[43m(\u001B[49m\n\u001B[0;32m     13\u001B[0m \u001B[43m    \u001B[49m\u001B[43mmodel_loop_b30\u001B[49m\u001B[43m,\u001B[49m\u001B[43m \u001B[49m\u001B[43mcirriculum_b30\u001B[49m\u001B[43m,\u001B[49m\u001B[43m \u001B[49m\u001B[43mmodel_n_dims\u001B[49m\u001B[38;5;241;43m=\u001B[39;49m\u001B[43mn_dims\u001B[49m\u001B[43m,\u001B[49m\n\u001B[0;32m     14\u001B[0m \u001B[43m    \u001B[49m\u001B[43mlog_every_steps\u001B[49m\u001B[38;5;241;43m=\u001B[39;49m\u001B[38;5;241;43m10\u001B[39;49m\u001B[43m,\u001B[49m\u001B[43m \u001B[49m\u001B[43mtrain_steps\u001B[49m\u001B[38;5;241;43m=\u001B[39;49m\u001B[38;5;241;43m15000\u001B[39;49m\u001B[43m,\u001B[49m\u001B[43m \u001B[49m\u001B[43mfamily\u001B[49m\u001B[38;5;241;43m=\u001B[39;49m\u001B[38;5;124;43m\"\u001B[39;49m\u001B[38;5;124;43mgpt2_loop\u001B[39;49m\u001B[38;5;124;43m\"\u001B[39;49m\u001B[43m,\u001B[49m\n\u001B[0;32m     15\u001B[0m \u001B[43m    \u001B[49m\u001B[43mdo_wandb_log\u001B[49m\u001B[38;5;241;43m=\u001B[39;49m\u001B[38;5;28;43;01mFalse\u001B[39;49;00m\u001B[43m,\u001B[49m\u001B[43m \u001B[49m\u001B[43mseed\u001B[49m\u001B[38;5;241;43m=\u001B[39;49m\u001B[38;5;28;43;01mNone\u001B[39;49;00m\u001B[43m,\u001B[49m\u001B[43m \u001B[49m\u001B[43mtask_name\u001B[49m\u001B[38;5;241;43m=\u001B[39;49m\u001B[38;5;124;43m\"\u001B[39;49m\u001B[38;5;124;43mnoisy_linear_regression\u001B[39;49m\u001B[38;5;124;43m\"\u001B[39;49m\u001B[43m)\u001B[49m\n",
      "File \u001B[1;32m~\\DataspellProjects\\looped_transformer\\scripts\\train.py:209\u001B[0m, in \u001B[0;36mtrain_without_config\u001B[1;34m(model, curriculum, lr, add_inputs_embeds, task_name, batch_size, n_loop_window, model_n_dims, train_steps, family, experiment_name, out_dir, do_wandb_log, log_every_steps, use_ctx, project_name, project_notes, seed, weight_decay, sparsity, save_every_steps, device)\u001B[0m\n\u001B[0;32m    206\u001B[0m real_task \u001B[38;5;241m=\u001B[39m task_sampler()\n\u001B[0;32m    207\u001B[0m xs, ys \u001B[38;5;241m=\u001B[39m real_task\u001B[38;5;241m.\u001B[39mxs\u001B[38;5;241m.\u001B[39mfloat(), real_task\u001B[38;5;241m.\u001B[39mys\u001B[38;5;241m.\u001B[39mfloat()\n\u001B[1;32m--> 209\u001B[0m loss, output, total_norm, grad_norm_dict \u001B[38;5;241m=\u001B[39m \u001B[43mtrain_step\u001B[49m\u001B[43m(\u001B[49m\u001B[43mcurriculum\u001B[49m\u001B[43m,\u001B[49m\u001B[43m \u001B[49m\u001B[43mmodel\u001B[49m\u001B[43m,\u001B[49m\u001B[43m \u001B[49m\u001B[43mxs\u001B[49m\u001B[43m,\u001B[49m\u001B[43m \u001B[49m\u001B[43mys\u001B[49m\u001B[43m,\u001B[49m\u001B[43m \u001B[49m\u001B[43moptimizer\u001B[49m\u001B[43m,\u001B[49m\u001B[43m \u001B[49m\u001B[43mctx\u001B[49m\u001B[43m,\u001B[49m\u001B[43m \u001B[49m\u001B[43mscaler\u001B[49m\u001B[43m,\u001B[49m\n\u001B[0;32m    210\u001B[0m \u001B[43m                                                      \u001B[49m\u001B[43madd_inputs_embeds\u001B[49m\u001B[43m,\u001B[49m\u001B[43m \u001B[49m\u001B[43mfamily\u001B[49m\u001B[38;5;241;43m=\u001B[39;49m\u001B[43mfamily\u001B[49m\u001B[43m,\u001B[49m\u001B[43m \u001B[49m\u001B[43muse_ctx\u001B[49m\u001B[38;5;241;43m=\u001B[39;49m\u001B[43muse_ctx\u001B[49m\u001B[43m,\u001B[49m\u001B[43m \u001B[49m\u001B[43mn_loop_window\u001B[49m\u001B[38;5;241;43m=\u001B[39;49m\u001B[43mn_loop_window\u001B[49m\u001B[43m)\u001B[49m\n\u001B[0;32m    212\u001B[0m \u001B[38;5;66;03m# EVALUATION ======================================\u001B[39;00m\n\u001B[0;32m    213\u001B[0m point_wise_tags \u001B[38;5;241m=\u001B[39m \u001B[38;5;28mlist\u001B[39m(\u001B[38;5;28mrange\u001B[39m(curriculum\u001B[38;5;241m.\u001B[39mn_points))  \u001B[38;5;66;03m# [0, 1, 2, ..., n-1]\u001B[39;00m\n",
      "File \u001B[1;32m~\\DataspellProjects\\looped_transformer\\scripts\\train.py:115\u001B[0m, in \u001B[0;36mtrain_step\u001B[1;34m(curriculum, model, xs, ys, optimizer, ctx, scaler, add_inputs_embeds, use_ctx, n_loop_window, family)\u001B[0m\n\u001B[0;32m    113\u001B[0m     loss\u001B[38;5;241m.\u001B[39mbackward()\n\u001B[0;32m    114\u001B[0m     optimizer\u001B[38;5;241m.\u001B[39mstep()\n\u001B[1;32m--> 115\u001B[0m norm_dict, total_norm \u001B[38;5;241m=\u001B[39m \u001B[43mcalculate_gradient_norm\u001B[49m\u001B[43m(\u001B[49m\u001B[43mmodel\u001B[49m\u001B[43m)\u001B[49m\n\u001B[0;32m    116\u001B[0m optimizer\u001B[38;5;241m.\u001B[39mzero_grad(set_to_none\u001B[38;5;241m=\u001B[39m\u001B[38;5;28;01mTrue\u001B[39;00m)\n\u001B[0;32m    117\u001B[0m \u001B[38;5;28;01mreturn\u001B[39;00m loss\u001B[38;5;241m.\u001B[39mdetach(), y_pred\u001B[38;5;241m.\u001B[39mdetach(), total_norm, norm_dict\n",
      "File \u001B[1;32m~\\DataspellProjects\\looped_transformer\\scripts\\train.py:72\u001B[0m, in \u001B[0;36mcalculate_gradient_norm\u001B[1;34m(model)\u001B[0m\n\u001B[0;32m     70\u001B[0m \u001B[38;5;28;01mfor\u001B[39;00m n, p \u001B[38;5;129;01min\u001B[39;00m model\u001B[38;5;241m.\u001B[39mnamed_parameters():\n\u001B[0;32m     71\u001B[0m     param_norm \u001B[38;5;241m=\u001B[39m p\u001B[38;5;241m.\u001B[39mgrad\u001B[38;5;241m.\u001B[39mdata\u001B[38;5;241m.\u001B[39mnorm(\u001B[38;5;241m2\u001B[39m)\n\u001B[1;32m---> 72\u001B[0m     total_norm \u001B[38;5;241m+\u001B[39m\u001B[38;5;241m=\u001B[39m \u001B[43mparam_norm\u001B[49m\u001B[38;5;241;43m.\u001B[39;49m\u001B[43mitem\u001B[49m\u001B[43m(\u001B[49m\u001B[43m)\u001B[49m \u001B[38;5;241m*\u001B[39m\u001B[38;5;241m*\u001B[39m \u001B[38;5;241m2\u001B[39m\n\u001B[0;32m     73\u001B[0m     norm_dict[n] \u001B[38;5;241m=\u001B[39m param_norm\n\u001B[0;32m     74\u001B[0m total_norm \u001B[38;5;241m=\u001B[39m total_norm \u001B[38;5;241m*\u001B[39m\u001B[38;5;241m*\u001B[39m (\u001B[38;5;241m1.\u001B[39m \u001B[38;5;241m/\u001B[39m \u001B[38;5;241m2\u001B[39m)\n",
      "\u001B[1;31mKeyboardInterrupt\u001B[0m: "
     ]
    }
   ],
   "execution_count": 2
  },
  {
   "metadata": {
    "ExecuteTime": {
     "end_time": "2024-07-30T07:52:55.259513Z",
     "start_time": "2024-07-30T07:52:55.103981Z"
    }
   },
   "cell_type": "code",
   "source": [
    "model_path = torch.load(\"../scripts/scripts/models/noisy_linear_regression/model_loop_b5.pt\")\n",
    "_model_loop_b5 = TransformerModelLooped(**model_path[\"model_params\"])\n",
    "_model_loop_b5.load_state_dict(model_path[\"model_state_dict\"])\n",
    "\n",
    "model_path = torch.load(\"../scripts/scripts/models/noisy_linear_regression/model_loop_b5_b15.pt\")\n",
    "_model_loop_b5_b15 = TransformerModelLooped(**model_path[\"model_params\"])\n",
    "_model_loop_b5_b15.load_state_dict(model_path[\"model_state_dict\"])\n",
    "\n",
    "model_path = torch.load(\"../scripts/scripts/models/noisy_linear_regression/model_loop_b10.pt\")\n",
    "_model_loop_b10 = TransformerModelLooped(**model_path[\"model_params\"])\n",
    "_model_loop_b10.load_state_dict(model_path[\"model_state_dict\"])\n",
    "\n",
    "model_path = torch.load(\"../scripts/scripts/models/noisy_linear_regression/model_loop_b15.pt\")\n",
    "_model_loop_b15 = TransformerModelLooped(**model_path[\"model_params\"])\n",
    "_model_loop_b15.load_state_dict(model_path[\"model_state_dict\"])\n",
    "\n",
    "model_path = torch.load(\"../scripts/scripts/models/noisy_linear_regression/model_loop_b5_b10.pt\")\n",
    "_model_loop_b5_b10 = TransformerModelLooped(**torch.load(\"../scripts/scripts/models/noisy_linear_regression/model_loop_b15.pt\")[\"model_params\"])\n",
    "_model_loop_b5_b10.load_state_dict(model_path)"
   ],
   "id": "1d4bafcdef53ff6f",
   "outputs": [
    {
     "name": "stdout",
     "output_type": "stream",
     "text": [
      "number of parameters: 0.20M\n",
      "number of parameters: 0.20M\n",
      "number of parameters: 0.20M\n",
      "number of parameters: 0.20M\n",
      "number of parameters: 0.20M\n"
     ]
    },
    {
     "name": "stderr",
     "output_type": "stream",
     "text": [
      "C:\\Users\\Vadim_K\\AppData\\Local\\Temp\\ipykernel_8700\\3442046268.py:1: FutureWarning: You are using `torch.load` with `weights_only=False` (the current default value), which uses the default pickle module implicitly. It is possible to construct malicious pickle data which will execute arbitrary code during unpickling (See https://github.com/pytorch/pytorch/blob/main/SECURITY.md#untrusted-models for more details). In a future release, the default value for `weights_only` will be flipped to `True`. This limits the functions that could be executed during unpickling. Arbitrary objects will no longer be allowed to be loaded via this mode unless they are explicitly allowlisted by the user via `torch.serialization.add_safe_globals`. We recommend you start setting `weights_only=True` for any use case where you don't have full control of the loaded file. Please open an issue on GitHub for any issues related to this experimental feature.\n",
      "  model_path = torch.load(\"../scripts/scripts/models/noisy_linear_regression/model_loop_b5.pt\")\n",
      "C:\\Users\\Vadim_K\\AppData\\Local\\Temp\\ipykernel_8700\\3442046268.py:5: FutureWarning: You are using `torch.load` with `weights_only=False` (the current default value), which uses the default pickle module implicitly. It is possible to construct malicious pickle data which will execute arbitrary code during unpickling (See https://github.com/pytorch/pytorch/blob/main/SECURITY.md#untrusted-models for more details). In a future release, the default value for `weights_only` will be flipped to `True`. This limits the functions that could be executed during unpickling. Arbitrary objects will no longer be allowed to be loaded via this mode unless they are explicitly allowlisted by the user via `torch.serialization.add_safe_globals`. We recommend you start setting `weights_only=True` for any use case where you don't have full control of the loaded file. Please open an issue on GitHub for any issues related to this experimental feature.\n",
      "  model_path = torch.load(\"../scripts/scripts/models/noisy_linear_regression/model_loop_b5_b15.pt\")\n",
      "C:\\Users\\Vadim_K\\AppData\\Local\\Temp\\ipykernel_8700\\3442046268.py:9: FutureWarning: You are using `torch.load` with `weights_only=False` (the current default value), which uses the default pickle module implicitly. It is possible to construct malicious pickle data which will execute arbitrary code during unpickling (See https://github.com/pytorch/pytorch/blob/main/SECURITY.md#untrusted-models for more details). In a future release, the default value for `weights_only` will be flipped to `True`. This limits the functions that could be executed during unpickling. Arbitrary objects will no longer be allowed to be loaded via this mode unless they are explicitly allowlisted by the user via `torch.serialization.add_safe_globals`. We recommend you start setting `weights_only=True` for any use case where you don't have full control of the loaded file. Please open an issue on GitHub for any issues related to this experimental feature.\n",
      "  model_path = torch.load(\"../scripts/scripts/models/noisy_linear_regression/model_loop_b10.pt\")\n",
      "C:\\Users\\Vadim_K\\AppData\\Local\\Temp\\ipykernel_8700\\3442046268.py:13: FutureWarning: You are using `torch.load` with `weights_only=False` (the current default value), which uses the default pickle module implicitly. It is possible to construct malicious pickle data which will execute arbitrary code during unpickling (See https://github.com/pytorch/pytorch/blob/main/SECURITY.md#untrusted-models for more details). In a future release, the default value for `weights_only` will be flipped to `True`. This limits the functions that could be executed during unpickling. Arbitrary objects will no longer be allowed to be loaded via this mode unless they are explicitly allowlisted by the user via `torch.serialization.add_safe_globals`. We recommend you start setting `weights_only=True` for any use case where you don't have full control of the loaded file. Please open an issue on GitHub for any issues related to this experimental feature.\n",
      "  model_path = torch.load(\"../scripts/scripts/models/noisy_linear_regression/model_loop_b15.pt\")\n",
      "C:\\Users\\Vadim_K\\AppData\\Local\\Temp\\ipykernel_8700\\3442046268.py:17: FutureWarning: You are using `torch.load` with `weights_only=False` (the current default value), which uses the default pickle module implicitly. It is possible to construct malicious pickle data which will execute arbitrary code during unpickling (See https://github.com/pytorch/pytorch/blob/main/SECURITY.md#untrusted-models for more details). In a future release, the default value for `weights_only` will be flipped to `True`. This limits the functions that could be executed during unpickling. Arbitrary objects will no longer be allowed to be loaded via this mode unless they are explicitly allowlisted by the user via `torch.serialization.add_safe_globals`. We recommend you start setting `weights_only=True` for any use case where you don't have full control of the loaded file. Please open an issue on GitHub for any issues related to this experimental feature.\n",
      "  model_path = torch.load(\"../scripts/scripts/models/noisy_linear_regression/model_loop_b5_b10.pt\")\n",
      "C:\\Users\\Vadim_K\\AppData\\Local\\Temp\\ipykernel_8700\\3442046268.py:18: FutureWarning: You are using `torch.load` with `weights_only=False` (the current default value), which uses the default pickle module implicitly. It is possible to construct malicious pickle data which will execute arbitrary code during unpickling (See https://github.com/pytorch/pytorch/blob/main/SECURITY.md#untrusted-models for more details). In a future release, the default value for `weights_only` will be flipped to `True`. This limits the functions that could be executed during unpickling. Arbitrary objects will no longer be allowed to be loaded via this mode unless they are explicitly allowlisted by the user via `torch.serialization.add_safe_globals`. We recommend you start setting `weights_only=True` for any use case where you don't have full control of the loaded file. Please open an issue on GitHub for any issues related to this experimental feature.\n",
      "  _model_loop_b5_b10 = TransformerModelLooped(**torch.load(\"../scripts/scripts/models/noisy_linear_regression/model_loop_b15.pt\")[\"model_params\"])\n"
     ]
    },
    {
     "data": {
      "text/plain": [
       "<All keys matched successfully>"
      ]
     },
     "execution_count": 68,
     "metadata": {},
     "output_type": "execute_result"
    }
   ],
   "execution_count": 68
  },
  {
   "metadata": {
    "ExecuteTime": {
     "end_time": "2024-07-29T08:50:33.797651Z",
     "start_time": "2024-07-29T08:32:48.474716Z"
    }
   },
   "cell_type": "code",
   "source": [
    "def calculate_by_loop(model):\n",
    "    val_by_loop = []\n",
    "    loop_steps = []\n",
    "    for i in range(1, 150):\n",
    "        val_loss = validate_model(model, n_dims_truncated=10, n_loops=i, model_n_dims=10, n_points=21, family=\"gpt2_loop\", task_name=\"noisy_linear_regression\")\n",
    "        val_by_loop.append(val_loss / n_dims)\n",
    "        loop_steps.append(i)\n",
    "    return loop_steps, val_by_loop\n",
    "\n",
    "steps_b10, values_b10 = calculate_by_loop(model_loop_b10)\n",
    "steps_b5, values_b5 = calculate_by_loop(model_loop_b5)\n",
    "steps_b5_b15, values_b5_b15 = calculate_by_loop(model_loop_b5_b15)\n",
    "steps_b15, values_b15 = calculate_by_loop(model_loop_b15)\n",
    "steps_b5_b10, values_b5_b10 = calculate_by_loop(model_loop_b5_b10)"
   ],
   "id": "9fcd1d2e29f9d8ea",
   "outputs": [],
   "execution_count": 30
  },
  {
   "metadata": {
    "ExecuteTime": {
     "end_time": "2024-07-30T07:43:47.421971Z",
     "start_time": "2024-07-30T07:43:47.421971Z"
    }
   },
   "cell_type": "code",
   "source": "steps_b30, values_b30 = calculate_by_loop(model_loop_b30)",
   "id": "52af9aa5ea475464",
   "outputs": [],
   "execution_count": null
  },
  {
   "metadata": {},
   "cell_type": "code",
   "source": [
    "plt.plot(steps_b5, values_b5)\n",
    "plt.plot(steps_b10, values_b10)\n",
    "plt.plot(steps_b15, values_b15)\n",
    "plt.plot(steps_b30, values_b30)\n",
    "plt.plot(steps_b5_b10, values_b5_b10)\n",
    "plt.plot(steps_b5_b15, values_b5_b15)\n",
    "plt.grid()\n",
    "plt.title(\"T=20\")\n",
    "plt.legend([\"b=5\", \"b=10\", \"b=15\", \"b=30\", \"b=5-10\", \"b=5-15\", ])\n",
    "plt.savefig('../images/check_for_scheduling_convergence_properties_noisy_linear_regression.png')"
   ],
   "id": "faae4c3ed0e06f3d",
   "outputs": [],
   "execution_count": null
  },
  {
   "metadata": {
    "ExecuteTime": {
     "end_time": "2024-07-30T07:49:02.646909Z",
     "start_time": "2024-07-30T07:49:02.621969Z"
    }
   },
   "cell_type": "code",
   "source": "# Model class must be defined somewhere\n",
   "id": "5925b1a069d87665",
   "outputs": [
    {
     "name": "stdout",
     "output_type": "stream",
     "text": [
      "number of parameters: 0.20M\n"
     ]
    },
    {
     "name": "stderr",
     "output_type": "stream",
     "text": [
      "C:\\Users\\Vadim_K\\AppData\\Local\\Temp\\ipykernel_8700\\284951482.py:2: FutureWarning: You are using `torch.load` with `weights_only=False` (the current default value), which uses the default pickle module implicitly. It is possible to construct malicious pickle data which will execute arbitrary code during unpickling (See https://github.com/pytorch/pytorch/blob/main/SECURITY.md#untrusted-models for more details). In a future release, the default value for `weights_only` will be flipped to `True`. This limits the functions that could be executed during unpickling. Arbitrary objects will no longer be allowed to be loaded via this mode unless they are explicitly allowlisted by the user via `torch.serialization.add_safe_globals`. We recommend you start setting `weights_only=True` for any use case where you don't have full control of the loaded file. Please open an issue on GitHub for any issues related to this experimental feature.\n",
      "  model_path = torch.load(\"../scripts/scripts/models/noisy_linear_regression/model_loop_b5.pt\")\n"
     ]
    },
    {
     "data": {
      "text/plain": [
       "<All keys matched successfully>"
      ]
     },
     "execution_count": 64,
     "metadata": {},
     "output_type": "execute_result"
    }
   ],
   "execution_count": 64
  }
 ],
 "metadata": {
  "kernelspec": {
   "display_name": "Python 3",
   "language": "python",
   "name": "python3"
  },
  "language_info": {
   "codemirror_mode": {
    "name": "ipython",
    "version": 2
   },
   "file_extension": ".py",
   "mimetype": "text/x-python",
   "name": "python",
   "nbconvert_exporter": "python",
   "pygments_lexer": "ipython2",
   "version": "2.7.6"
  }
 },
 "nbformat": 4,
 "nbformat_minor": 5
}
