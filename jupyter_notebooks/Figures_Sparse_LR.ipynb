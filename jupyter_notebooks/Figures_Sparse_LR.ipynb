{
 "cells": [
  {
   "cell_type": "code",
   "execution_count": 11,
   "id": "263658b8",
   "metadata": {},
   "source": [
    "import os\n",
    "import json\n",
    "import numpy as np\n",
    "from quinine import QuinineArgumentParser\n",
    "import matplotlib.pyplot as plt\n",
    "import torch\n",
    "import torch.nn as nn\n",
    "import copy\n",
    "import matplotlib.pyplot as plt\n",
    "import torch.nn.functional as F\n",
    "\n",
    "import sys\n",
    "sys.path.append('../scripts')\n",
    "from nano_gpt import GPT2Model, GPT2Config\n",
    "\n",
    "from utils import aggregate_metrics, eval_unlooped_model, eval_looped_model, get_model"
   ],
   "outputs": []
  },
  {
   "cell_type": "code",
   "execution_count": 12,
   "id": "3c7c1083",
   "metadata": {},
   "source": [
    "fig_hparam = {\n",
    "    'figsize': (8, 5),\n",
    "    'labelsize': 28,\n",
    "    'ticksize': 20,\n",
    "    'linewidth': 5,\n",
    "    'fontsize': 15,\n",
    "    'titlesize': 20,\n",
    "    'markersize': 15\n",
    "}\n",
    "\n",
    "# font specification\n",
    "fontdict = {'family': 'serif',\n",
    "         'size': fig_hparam['fontsize'],\n",
    "         }"
   ],
   "outputs": []
  },
  {
   "cell_type": "code",
   "execution_count": 13,
   "id": "d9209dd4",
   "metadata": {},
   "source": [
    "device = torch.device('cuda:0')"
   ],
   "outputs": []
  },
  {
   "cell_type": "code",
   "execution_count": null,
   "id": "66cc5398",
   "metadata": {},
   "source": [],
   "outputs": []
  },
  {
   "cell_type": "markdown",
   "id": "45d838ab",
   "metadata": {},
   "source": [
    "## Get dataset"
   ]
  },
  {
   "cell_type": "code",
   "execution_count": 14,
   "id": "23c274b5",
   "metadata": {},
   "source": [
    "class SparseLinearRegression():\n",
    "    def __init__(self, batch_size, n_points, n_dims, n_dims_truncated, device, w_star=None, sparsity=3):\n",
    "        super(SparseLinearRegression, self).__init__()\n",
    "        self.device = device\n",
    "        self.xs = torch.randn(batch_size, n_points, n_dims).to(device)\n",
    "        self.xs[..., n_dims_truncated:] = 0\n",
    "        w_b = torch.randn(batch_size, n_dims, 1) if w_star is None else w_star.to(device)  # [B, d, 1]\n",
    "        w_b[:, n_dims_truncated:] = 0\n",
    "        self.w_b = w_b.to(device)\n",
    "        \n",
    "        self.sparsity = sparsity\n",
    "        valid_coords = n_dims\n",
    "        for i, w in enumerate(self.w_b):  # [B, d, 1]\n",
    "            mask = torch.ones(n_dims).bool()  # [d]\n",
    "            perm = torch.randperm(valid_coords)\n",
    "            mask[perm[:sparsity]] = False\n",
    "            w[mask] = 0  # w shape [d, 1]\n",
    "\n",
    "        self.ys = (self.xs @ self.w_b).sum(-1)  # [B, n]\n",
    "        \n",
    "        \n",
    "        \n",
    "sample_size = 1280\n",
    "batch_size = 128\n",
    "n_points = 41\n",
    "n_dims_truncated = 20\n",
    "n_dims = 20\n",
    "\n",
    "real_task = SparseLinearRegression(sample_size, n_points, n_dims, n_dims_truncated, device)\n",
    "xs, ys, w_b = real_task.xs, real_task.ys, real_task.w_b"
   ],
   "outputs": []
  },
  {
   "cell_type": "markdown",
   "id": "d5709d71",
   "metadata": {},
   "source": [
    "## load model"
   ]
  },
  {
   "cell_type": "code",
   "execution_count": 44,
   "id": "ac4a3793",
   "metadata": {},
   "source": [
    "result_dir = '../results2/sparse_LR_baseline'\n",
    "run_id = '0623214332-SparseLR_baseline-60a2'\n",
    "\n",
    "from models import TransformerModel\n",
    "\n",
    "n_positions = 101\n",
    "n_embd = 256\n",
    "n_layer = 12\n",
    "n_head = 8\n",
    "\n",
    "model = TransformerModel(n_dims, n_positions, n_embd, n_layer, n_head)\n",
    "step = -1\n",
    "model = get_model(model, result_dir, run_id, step)\n",
    "model = model.to(device)\n",
    "\n",
    "err, y_pred_total = eval_unlooped_model(model, xs, ys)\n"
   ],
   "outputs": []
  },
  {
   "cell_type": "code",
   "execution_count": 45,
   "id": "f8d86401",
   "metadata": {},
   "source": [
    "result_errs = {}\n",
    "result_errs['Transformer'] = err"
   ],
   "outputs": []
  },
  {
   "cell_type": "markdown",
   "id": "9157409d",
   "metadata": {},
   "source": [
    "## Load looped transformer"
   ]
  },
  {
   "cell_type": "code",
   "execution_count": 46,
   "id": "478aefbe",
   "metadata": {},
   "source": [
    "from models import TransformerModelLooped\n",
    "\n",
    "result_dir = '../results2/sparse_LR_loop'\n",
    "run_id = '0706234720-SparseLR_loop_L1_ends{20}_T{10}_all-8969'\n",
    "\n",
    "n_positions = 101\n",
    "n_embd = 256\n",
    "n_head = 8\n",
    "T = 500\n",
    "n_layer = 1\n",
    "\n",
    "model = TransformerModelLooped(n_dims, n_positions, n_embd, n_layer, n_head)\n",
    "step = -1\n",
    "model = get_model(model, result_dir, run_id, step)\n",
    "model = model.to(device)\n",
    "\n",
    "err, loop_err = eval_looped_model(model, xs, ys, loop_max=T)\n",
    "\n",
    "result_errs['Looped Transformer'] = err"
   ],
   "outputs": []
  },
  {
   "cell_type": "markdown",
   "id": "488e3496",
   "metadata": {},
   "source": [
    "### Also get the \"weak\" baseline"
   ]
  },
  {
   "cell_type": "code",
   "execution_count": 47,
   "id": "1bbe4df3",
   "metadata": {},
   "source": [
    "from utils import get_relevant_baselines\n",
    "from utils import LeastSquaresModel, NNModel, AveragingModel, LassoModel\n",
    "\n",
    "baselines = get_relevant_baselines(\"sparse_linear_regression\")\n",
    "baselines = [\n",
    "    (LeastSquaresModel, {}),\n",
    "    (NNModel, {\"n_neighbors\": 3}),\n",
    "    (AveragingModel, {}),\n",
    "] + [\n",
    "#     (LassoModel, {\"alpha\": alpha}) for alpha in [1, 0.3, 0.1, 0.03, 0.01, 0.003, 0.001, 0.0003, 0.0001]\n",
    "    (LassoModel, {\"alpha\": alpha}) for alpha in [0.01]\n",
    "]\n",
    "baseline_models = [model_cls(**kwargs) for model_cls, kwargs in baselines]\n",
    "baseline_errs = {}\n",
    "for baseline_model in baseline_models:\n",
    "    y_pred = baseline_model(xs, ys)\n",
    "    err = (y_pred.cpu() - ys.cpu()).square()\n",
    "    result_errs[baseline_model.name] = err"
   ],
   "outputs": []
  },
  {
   "cell_type": "code",
   "execution_count": null,
   "id": "69614a28",
   "metadata": {},
   "source": [],
   "outputs": []
  },
  {
   "cell_type": "code",
   "execution_count": 48,
   "id": "a7c4e109",
   "metadata": {},
   "source": [
    "result_errs_agg = aggregate_metrics(result_errs, 3)"
   ],
   "outputs": []
  },
  {
   "cell_type": "code",
   "execution_count": 49,
   "id": "4fe85609",
   "metadata": {},
   "source": [
    "result_errs_agg"
   ],
   "outputs": []
  },
  {
   "cell_type": "code",
   "execution_count": 33,
   "id": "2ba1b14c",
   "metadata": {},
   "source": [
    "result_errs_agg.keys()"
   ],
   "outputs": []
  },
  {
   "cell_type": "code",
   "execution_count": 36,
   "id": "5b9b9c53",
   "metadata": {},
   "source": [
    "import matplotlib.pyplot as plt\n",
    "import matplotlib\n",
    "\n",
    "fig, ax = plt.subplots(1, figsize=fig_hparam['figsize'])\n",
    "\n",
    "err_result_dict_agg = result_errs_agg\n",
    "\n",
    "cmap = matplotlib.cm.get_cmap(\"coolwarm\")\n",
    "result_name_list = ['Transformer', 'Least Squares', 'Averaging', 'Lasso (alpha=0.01)', 'Looped Transformer']  # \n",
    "colors = cmap(np.linspace(0, 1, len(result_name_list)))\n",
    "for idx, model_name in enumerate(result_name_list):\n",
    "    err = err_result_dict_agg[model_name][\"mean\"]\n",
    "    if \"Lasso\" in model_name:\n",
    "        label_name = \"Lasso\"\n",
    "    else:\n",
    "        label_name = model_name\n",
    "    ax.plot(err, color=colors[idx], lw=fig_hparam['linewidth'], label=label_name)\n",
    "    low = err_result_dict_agg[model_name][\"bootstrap_low\"]\n",
    "    high = err_result_dict_agg[model_name][\"bootstrap_high\"]\n",
    "    ax.fill_between(range(len(low)), low, high, alpha=0.3, color=colors[idx])\n",
    "\n",
    "ax.tick_params(axis='both', labelsize=fig_hparam['ticksize'])\n",
    "ax.axhline(1, color='k', ls='--', lw=fig_hparam['linewidth'])\n",
    "ax.set_ylim(-0.1, 1.2)\n",
    "# plt.xticks(np.arange(0, n_points))\n",
    "plt.rc('font', family='serif')\n",
    "ax.set_xlabel(\"in-context examples\", fontsize=fig_hparam['labelsize'])\n",
    "y_label = ax.set_ylabel(\"squared error\", fontsize=fig_hparam['labelsize'])\n",
    "legend = plt.legend(loc='center left', bbox_to_anchor=(1, 0.5), fontsize=fig_hparam['fontsize'])\n",
    "\n",
    "\n",
    "plt.savefig(\"result_folder/Figures/SparseLR_err.pdf\", format='pdf', dpi=600, bbox_inches='tight')"
   ],
   "outputs": []
  },
  {
   "cell_type": "code",
   "execution_count": null,
   "id": "3446a3db",
   "metadata": {},
   "source": [],
   "outputs": []
  }
 ],
 "metadata": {
  "kernelspec": {
   "display_name": "Python 3 (ipykernel)",
   "language": "python",
   "name": "python3"
  },
  "language_info": {
   "codemirror_mode": {
    "name": "ipython",
    "version": 3
   },
   "file_extension": ".py",
   "mimetype": "text/x-python",
   "name": "python",
   "nbconvert_exporter": "python",
   "pygments_lexer": "ipython3",
   "version": "3.8.12"
  }
 },
 "nbformat": 4,
 "nbformat_minor": 5
}
