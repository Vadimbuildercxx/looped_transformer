{
 "cells": [
  {
   "cell_type": "code",
   "execution_count": 1,
   "id": "263658b8",
   "metadata": {},
   "source": [
    "import os\n",
    "import json\n",
    "import numpy as np\n",
    "from quinine import QuinineArgumentParser\n",
    "import matplotlib.pyplot as plt\n",
    "import torch\n",
    "import torch.nn as nn\n",
    "import copy\n",
    "import matplotlib.pyplot as plt\n",
    "import torch.nn.functional as F\n",
    "\n",
    "import sys\n",
    "sys.path.append('../scripts')\n",
    "from nano_gpt import GPT2Model, GPT2Config\n",
    "\n",
    "from utils import aggregate_metrics, get_model, eval_unlooped_model, eval_looped_model"
   ],
   "outputs": []
  },
  {
   "cell_type": "code",
   "execution_count": 2,
   "id": "d9209dd4",
   "metadata": {},
   "source": [
    "device = torch.device('cuda:0')"
   ],
   "outputs": []
  },
  {
   "cell_type": "code",
   "execution_count": 3,
   "id": "66cc5398",
   "metadata": {},
   "source": [
    "fig_hparam = {\n",
    "    'figsize': (8, 5),\n",
    "    'labelsize': 28,\n",
    "    'ticksize': 20,\n",
    "    'linewidth': 5,\n",
    "    'fontsize': 15,\n",
    "    'titlesize': 20,\n",
    "    'markersize': 15\n",
    "}\n",
    "\n",
    "# font specification\n",
    "fontdict = {'family': 'serif',\n",
    "         'size': fig_hparam['fontsize'],\n",
    "         }"
   ],
   "outputs": []
  },
  {
   "cell_type": "markdown",
   "id": "45d838ab",
   "metadata": {},
   "source": [
    "## Get dataset"
   ]
  },
  {
   "cell_type": "code",
   "execution_count": 4,
   "id": "23c274b5",
   "metadata": {},
   "source": [
    "class DecisionTree():\n",
    "    def __init__(self, batch_size, n_points, n_dims, n_dims_truncated, device, depth=4):\n",
    "        self.n_dims = n_dims\n",
    "        self.n_dims_truncated = n_dims_truncated\n",
    "        self.b_size = batch_size\n",
    "        self.n_points = n_points\n",
    "        self.depth = depth\n",
    "\n",
    "        # We represent the tree using an array (tensor). Root node is at index 0, its 2 children at index 1 and 2...\n",
    "        # dt_tensor stores the coordinate used at each node of the decision tree.\n",
    "        # Only indices corresponding to non-leaf nodes are relevant\n",
    "        self.dt_tensor = torch.randint(\n",
    "            low=0, high=n_dims, size=(batch_size, 2 ** (depth + 1) - 1)\n",
    "        )\n",
    "\n",
    "        # Target value at the leaf nodes.\n",
    "        # Only indices corresponding to leaf nodes are relevant.\n",
    "        self.target_tensor = torch.randn(self.dt_tensor.shape)\n",
    "\n",
    "        self.xs = torch.randn(batch_size, n_points, n_dims).to(device)  # [B, n, d]\n",
    "        self.ys = self.evaluate(self.xs)\n",
    "\n",
    "    def evaluate(self, xs_b):\n",
    "        dt_tensor = self.dt_tensor.to(xs_b.device)\n",
    "        target_tensor = self.target_tensor.to(xs_b.device)\n",
    "        ys_b = torch.zeros(xs_b.shape[0], xs_b.shape[1], device=xs_b.device)\n",
    "        for i in range(xs_b.shape[0]):\n",
    "            xs_bool = xs_b[i] > 0\n",
    "            # If a single decision tree present, use it for all the xs in the batch.\n",
    "            if self.b_size == 1:\n",
    "                dt = dt_tensor[0]\n",
    "                target = target_tensor[0]\n",
    "            else:\n",
    "                dt = dt_tensor[i]\n",
    "                target = target_tensor[i]\n",
    "\n",
    "            cur_nodes = torch.zeros(xs_b.shape[1], device=xs_b.device).long()\n",
    "            for j in range(self.depth):\n",
    "                cur_coords = dt[cur_nodes]\n",
    "                cur_decisions = xs_bool[torch.arange(xs_bool.shape[0]), cur_coords]\n",
    "                cur_nodes = 2 * cur_nodes + 1 + cur_decisions\n",
    "\n",
    "            ys_b[i] = target[cur_nodes]\n",
    "\n",
    "        return ys_b\n",
    "        \n",
    "        \n",
    "        \n",
    "sample_size = 1280\n",
    "batch_size = 32\n",
    "n_points = 101\n",
    "n_dims_truncated = 20\n",
    "n_dims = 20\n",
    "\n",
    "torch.manual_seed(42)\n",
    "real_task = DecisionTree(sample_size, n_points, n_dims, n_dims_truncated, device)\n",
    "xs, ys = real_task.xs, real_task.ys"
   ],
   "outputs": []
  },
  {
   "cell_type": "markdown",
   "id": "d5709d71",
   "metadata": {},
   "source": [
    "## load model"
   ]
  },
  {
   "cell_type": "code",
   "execution_count": 5,
   "id": "ac4a3793",
   "metadata": {},
   "source": [
    "result_dir = '../results2/decision_tree_baseline'\n",
    "run_id = '0623214332-DT_baseline-3505'\n",
    "\n",
    "from models import TransformerModel\n",
    "\n",
    "n_positions = 101\n",
    "n_embd = 256\n",
    "n_layer = 12\n",
    "n_head = 8\n",
    "\n",
    "model = TransformerModel(n_dims, n_positions, n_embd, n_layer, n_head)\n",
    "step = -1\n",
    "model = get_model(model, result_dir, run_id, step)\n",
    "model = model.to(device)\n",
    "\n",
    "err, y_pred_total = eval_unlooped_model(model, xs, ys)\n"
   ],
   "outputs": []
  },
  {
   "cell_type": "code",
   "execution_count": 6,
   "id": "f8d86401",
   "metadata": {},
   "source": [
    "result_errs = {}\n",
    "result_errs['Transformer'] = err"
   ],
   "outputs": []
  },
  {
   "cell_type": "markdown",
   "id": "0dfa8906",
   "metadata": {},
   "source": [
    "## Load looped transformer"
   ]
  },
  {
   "cell_type": "code",
   "execution_count": 8,
   "id": "478aefbe",
   "metadata": {},
   "source": [
    "from models import TransformerModelLooped\n",
    "\n",
    "result_dir = '../results2/decision_tree_loop'\n",
    "run_id = '0710121808-DT_loop_L1_ends{70}_T{15}_all-f22d'\n",
    "\n",
    "n_positions = 101\n",
    "n_embd = 256\n",
    "n_head = 8\n",
    "T = 200\n",
    "n_layer = 1\n",
    "\n",
    "model = TransformerModelLooped(n_dims, n_positions, n_embd, n_layer, n_head)\n",
    "step = -1\n",
    "model = get_model(model, result_dir, run_id, step)\n",
    "model = model.to(device)\n",
    "    \n",
    "with torch.no_grad():\n",
    "    y_pred_total = torch.zeros(sample_size, n_points)  # [N, n]\n",
    "    y_pred_last = torch.zeros(sample_size, T)  # [N, T]\n",
    "    for batch_idx in range(sample_size // batch_size):\n",
    "        xs_train = xs[batch_idx * batch_size : (batch_idx + 1) * batch_size]\n",
    "        ys_train = ys[batch_idx * batch_size : (batch_idx + 1) * batch_size]\n",
    "        y_pred_list = model(xs_train, ys_train, 0, T)  # list of [B, n], length T\n",
    "        y_pred_total[batch_idx * batch_size : (batch_idx + 1) * batch_size] = y_pred_list[-1].detach()\n",
    "        tmp_list = [y_pred[:, [-1]] for y_pred in y_pred_list]  # list of [B, 1], length T\n",
    "        tmp_arry = torch.cat(tmp_list, dim=1)  # [B, T]\n",
    "        y_pred_last[batch_idx * batch_size : (batch_idx + 1) * batch_size] = tmp_arry\n",
    "    err = (y_pred_total - ys.cpu()).square()  # [n,]\n",
    "    loop_err = (y_pred_last - ys.cpu()[:, [-1]]).square()  # [N, T] - [N, 1]\n",
    "\n",
    "\n",
    "result_errs['Looped Transformer'] = err"
   ],
   "outputs": []
  },
  {
   "cell_type": "markdown",
   "id": "488e3496",
   "metadata": {},
   "source": [
    "### Also get the \"weak\" baseline"
   ]
  },
  {
   "cell_type": "code",
   "execution_count": 14,
   "id": "1bbe4df3",
   "metadata": {},
   "source": [
    "from utils import get_relevant_baselines\n",
    "\n",
    "# baselines = get_relevant_baselines(\"decision_tree\")\n",
    "# baseline_errs = {}\n",
    "from utils import LeastSquaresModel, NNModel, AveragingModel, GDModel, DecisionTreeModel, XGBoostModel\n",
    "# baselines = get_relevant_baselines(\"relu_2nn_regression\")\n",
    "baselines = [\n",
    "    (LeastSquaresModel, {}),\n",
    "    (NNModel, {\"n_neighbors\": 3}),\n",
    "    (DecisionTreeModel, {\"max_depth\": None}),\n",
    "    (AveragingModel, {}),\n",
    "]\n",
    "dt_baseline = []\n",
    "for depth in [2]:\n",
    "    dt_baseline.append((DecisionTreeModel, {\"max_depth\": depth}))\n",
    "baselines += dt_baseline\n",
    "\n",
    "xgb_baselines = []\n",
    "for lr in [0.1]:\n",
    "    for max_depth in [4]:\n",
    "        for n_estimators in [50]:\n",
    "            xgb_args = {\n",
    "                \"max_depth\": max_depth, \n",
    "                \"learning_rate\": lr, \n",
    "                \"n_estimators\": n_estimators\n",
    "            }\n",
    "            xgb_baselines.append((XGBoostModel, xgb_args))\n",
    "\n",
    "baselines += xgb_baselines\n",
    "baseline_models = [model_cls(**kwargs) for model_cls, kwargs in baselines]\n",
    "\n",
    "for baseline_model in baseline_models:\n",
    "    print(baseline_model.name)\n",
    "    y_pred = baseline_model(xs, ys)\n",
    "    err = (y_pred.cpu() - ys.cpu()).square()\n",
    "    result_errs[baseline_model.name] = err"
   ],
   "outputs": []
  },
  {
   "cell_type": "code",
   "execution_count": 15,
   "id": "7bfb0ecb",
   "metadata": {},
   "source": [
    "from utils import get_relevant_baselines\n",
    "\n",
    "# baselines = get_relevant_baselines(\"decision_tree\")\n",
    "# baseline_errs = {}\n",
    "from utils import LeastSquaresModel, NNModel, AveragingModel, GDModel, DecisionTreeModel, XGBoostModel\n",
    "# baselines = get_relevant_baselines(\"relu_2nn_regression\")\n",
    "baselines = [\n",
    "    (DecisionTreeModel, {\"max_depth\": 4}),\n",
    "]\n",
    "xgb_baselines = []\n",
    "for lr in [0.1]:\n",
    "    for max_depth in [4]:\n",
    "        for n_estimators in [50]:\n",
    "            xgb_args = {\n",
    "                \"max_depth\": max_depth, \n",
    "                \"learning_rate\": lr, \n",
    "                \"n_estimators\": n_estimators\n",
    "            }\n",
    "            xgb_baselines.append((XGBoostModel, xgb_args))\n",
    "\n",
    "baselines += xgb_baselines          \n",
    "baseline_models = [model_cls(**kwargs) for model_cls, kwargs in baselines]\n",
    "\n",
    "for baseline_model in baseline_models:\n",
    "    print(baseline_model.name)\n",
    "    y_pred = baseline_model(xs.sign(), ys)\n",
    "    err = (y_pred.cpu() - ys.cpu()).square()\n",
    "    result_errs[baseline_model.name + \"_pre_sign\"] = err\n",
    "    "
   ],
   "outputs": []
  },
  {
   "cell_type": "code",
   "execution_count": null,
   "id": "77814bbf",
   "metadata": {},
   "source": [],
   "outputs": []
  },
  {
   "cell_type": "code",
   "execution_count": 16,
   "id": "a7c4e109",
   "metadata": {},
   "source": [
    "result_errs_agg = aggregate_metrics(result_errs, 1)"
   ],
   "outputs": []
  },
  {
   "cell_type": "code",
   "execution_count": 17,
   "id": "2ba1b14c",
   "metadata": {},
   "source": [
    "result_errs_agg.keys()"
   ],
   "outputs": []
  },
  {
   "cell_type": "code",
   "execution_count": 24,
   "id": "c02b42bc",
   "metadata": {},
   "source": [
    "# torch.save(result_errs_agg, \"dt_results.pt\")"
   ],
   "outputs": []
  },
  {
   "cell_type": "code",
   "execution_count": 25,
   "id": "4c77cb69",
   "metadata": {},
   "source": [
    "# result_errs_agg2 = torch.load(\"dt_results.pt\")"
   ],
   "outputs": []
  },
  {
   "cell_type": "code",
   "execution_count": 20,
   "id": "5b9b9c53",
   "metadata": {},
   "source": [
    "import matplotlib.pyplot as plt\n",
    "import matplotlib\n",
    "\n",
    "fig, ax = plt.subplots(1, figsize=fig_hparam['figsize'])\n",
    "\n",
    "err_result_dict_agg = result_errs_agg\n",
    "\n",
    "cmap = matplotlib.cm.get_cmap(\"coolwarm\")\n",
    "\n",
    "result_name_list = ['Transformer', '3-Nearest Neighbors', 'decision_tree_max_depth=2', 'decision_tree_max_depth=4_pre_sign', 'xgboost_depth_4_lr_0.1_n_estimators_50', 'xgboost_depth_4_lr_0.1_n_estimators_50_pre_sign', 'Looped Transformer']\n",
    "\n",
    "colors = cmap(np.linspace(0, 1, len(result_name_list)))\n",
    "for idx, model_name in enumerate(result_name_list):\n",
    "    err = err_result_dict_agg[model_name][\"mean\"]\n",
    "    if \"decision_tree\" in model_name:\n",
    "        label_name = \"Greedy Tree Learning\"\n",
    "    elif \"xgb\" in model_name:\n",
    "        label_name = \"XGBoost\"\n",
    "    else:\n",
    "        label_name = model_name\n",
    "    if \"pre_sign\" in model_name:\n",
    "        label_name += \"\\n(w/ sign preproc.)\"\n",
    "    ax.plot(err, color=colors[idx], lw=fig_hparam['linewidth'], label=label_name)\n",
    "    low = err_result_dict_agg[model_name][\"bootstrap_low\"]\n",
    "    high = err_result_dict_agg[model_name][\"bootstrap_high\"]\n",
    "    ax.fill_between(range(len(low)), low, high, alpha=0.3, color=colors[idx])\n",
    "\n",
    "ax.tick_params(axis='both', labelsize=fig_hparam['ticksize'])\n",
    "ax.axhline(1, color='k', ls='--', lw=fig_hparam['linewidth'])\n",
    "ax.set_ylim(-0.1, 1.6)\n",
    "# plt.xticks(np.arange(0, n_points))\n",
    "plt.rc('font', family='serif')\n",
    "ax.set_xlabel(\"in-context examples\", fontsize=fig_hparam['labelsize'])\n",
    "y_label = ax.set_ylabel(\"squared error\", fontsize=fig_hparam['labelsize'])\n",
    "legend = plt.legend(loc='center left', bbox_to_anchor=(1, 0.5), fontsize=fig_hparam['fontsize'])\n",
    "\n",
    "plt.savefig(\"result_folder/Figures/DT_err.pdf\", format='pdf', dpi=600, bbox_inches='tight')"
   ],
   "outputs": []
  },
  {
   "cell_type": "code",
   "execution_count": null,
   "id": "75e906c1",
   "metadata": {},
   "source": [],
   "outputs": []
  },
  {
   "cell_type": "code",
   "execution_count": null,
   "id": "78c6306d",
   "metadata": {},
   "source": [],
   "outputs": []
  }
 ],
 "metadata": {
  "kernelspec": {
   "display_name": "Python 3 (ipykernel)",
   "language": "python",
   "name": "python3"
  },
  "language_info": {
   "codemirror_mode": {
    "name": "ipython",
    "version": 3
   },
   "file_extension": ".py",
   "mimetype": "text/x-python",
   "name": "python",
   "nbconvert_exporter": "python",
   "pygments_lexer": "ipython3",
   "version": "3.8.12"
  }
 },
 "nbformat": 4,
 "nbformat_minor": 5
}
