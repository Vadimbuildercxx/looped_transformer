{
 "cells": [
  {
   "cell_type": "code",
   "execution_count": 92,
   "id": "c5d01982-abb7-46f0-82d4-ff1777328af4",
   "metadata": {},
   "source": [
    "import torch\n",
    "import sys\n",
    "sys.path.append('../scripts')\n",
    "from tqdm import tqdm\n",
    "import numpy as np\n",
    "\n"
   ],
   "outputs": []
  },
  {
   "cell_type": "code",
   "execution_count": 31,
   "id": "f388c5c4-549a-4dd3-b0c3-8d2a80f13d74",
   "metadata": {},
   "source": [
    "baseline_run_ids = {\n",
    "    0: \"1118045041-openml_baseline_test_id_{0}-0aa4\",\n",
    "    1: \"1118045041-openml_baseline_test_id_{1}-f03d\",\n",
    "    2: \"1118045041-openml_baseline_test_id_{2}-6fdc\",\n",
    "    3: \"1118045041-openml_baseline_test_id_{3}-5443\",\n",
    "    4: \"1118045041-openml_baseline_test_id_{4}-a369\",\n",
    "    5: \"1118045041-openml_baseline_test_id_{5}-d0ff\",\n",
    "    6: \"1118045041-openml_baseline_test_id_{6}-8613\",\n",
    "    7: \"1118045041-openml_baseline_test_id_{7}-8c0e\",\n",
    "    8: \"1118045041-openml_baseline_test_id_{8}-9e12\",\n",
    "    9: \"1118045041-openml_baseline_test_id_{9}-0770\",\n",
    "}\n",
    "\n",
    "loop_run_ids = {\n",
    "    0: \"1118045041-openml_loop_test_id_{0}-8fd3\",\n",
    "    1: \"1118045041-openml_loop_test_id_{1}-ee8d\",\n",
    "    2: \"1118045041-openml_loop_test_id_{2}-179a\",\n",
    "    3: \"1118045041-openml_loop_test_id_{3}-ec09\",\n",
    "    4: \"1118045041-openml_loop_test_id_{4}-6198\",\n",
    "    5: \"1118045041-openml_loop_test_id_{5}-9c58\",\n",
    "    6: \"1118045041-openml_loop_test_id_{6}-408d\",\n",
    "    7: \"1118045041-openml_loop_test_id_{7}-72e2\",\n",
    "    8: \"1118045041-openml_loop_test_id_{8}-1d55\",\n",
    "    9: \"1118045041-openml_loop_test_id_{9}-e971\",\n",
    "}\n"
   ],
   "outputs": []
  },
  {
   "cell_type": "markdown",
   "id": "393536dc-2551-4246-b586-dffd7943d038",
   "metadata": {},
   "source": [
    "# Now calculate the correct error"
   ]
  },
  {
   "cell_type": "code",
   "execution_count": 140,
   "id": "2b134d80-0b60-4b14-b27b-74d15082371f",
   "metadata": {},
   "source": [
    "# Post-training evaluation\n",
    "import random\n",
    "NUM_POINTS = 41\n",
    "\n",
    "\n",
    "def post_train_eval(openml_datasets_test, test_dataset_id, n_dims, model, device=torch.device('cuda:0'), which_model='gpt2'):\n",
    "    with torch.no_grad():\n",
    "        X, y = openml_datasets_test[test_dataset_id]['X'], openml_datasets_test[test_dataset_id]['y']\n",
    "        test_loss_list = []\n",
    "        for idx_n in tqdm(range(min(X.shape[0], 5000))):\n",
    "            in_context_list = list(range(0, X.shape[0]))\n",
    "            in_context_list.remove(idx_n)\n",
    "            batch_ids = random.sample(in_context_list, NUM_POINTS - 1)\n",
    "            xs, ys = X[batch_ids], y[batch_ids]\n",
    "            xs, ys = torch.tensor(xs).to(device), torch.tensor(ys).to(device)\n",
    "            xs_test, ys_test = X[[idx_n]], y[[idx_n]]  # [1, d], [1]\n",
    "            xs_test, ys_test = torch.tensor(xs_test).to(device), torch.tensor(ys_test).to(device)\n",
    "            xs = torch.cat([xs, xs_test], dim=0)\n",
    "            ys = torch.cat([ys, ys_test], dim=0)\n",
    "\n",
    "            xs = xs.reshape(1, NUM_POINTS, -1)\n",
    "            B, n, d_x = xs.shape\n",
    "            xs = torch.cat(\n",
    "                [\n",
    "                    torch.zeros(B, n, n_dims - d_x, device=device),\n",
    "                    xs,\n",
    "                ],\n",
    "                axis=2,\n",
    "            )  # xs.shape should be [B, n, d] now\n",
    "            ys = ys.view(B, n)\n",
    "            xs, ys = xs.float(), ys.float()\n",
    "\n",
    "            _, acc = train_step(which_model, model, xs, ys)\n",
    "            test_loss_list.append(acc)\n",
    "        return test_loss_list"
   ],
   "outputs": []
  },
  {
   "cell_type": "code",
   "execution_count": 89,
   "id": "d88083be-fa69-4021-ad32-69a988bbad5b",
   "metadata": {},
   "source": [
    "def train_step(which_model, model, xs, ys):\n",
    "    if which_model in ['gpt2', 'gpt2_tying']:  # , 'gpt2_tying'\n",
    "        B, n = ys.shape\n",
    "\n",
    "        y_pred = model(xs, ys)  # [B, n]\n",
    "        pred = y_pred.view(B * n, -1).data.max(1, keepdim=True)[1]  # get the index of the max log-probability\n",
    "        acc = pred.eq(ys.view(B * n).data.view_as(pred)).cpu().view(B, n)[:, -1].sum().item() / (B)\n",
    "        loss = 0\n",
    "    elif which_model in ['gpt2_loop']:  # , 'gpt2_neumann', 'gpt2_neumann_input'\n",
    "        n_loops = 30  # K\n",
    "        B, n = ys.shape\n",
    "        horizon_start = 0\n",
    "        y_pred_list = model(xs, ys, horizon_start, n_loops)\n",
    "        y_pred_arr = y_pred_list[-1]  # torch.cat(y_pred_list, dim=0)  # [B * K, n]\n",
    "        # y_star_arr = torch.cat([ys] * len(y_pred_list), dim=0)  # [B * K, n]\n",
    "        # BK, n = y_star_arr.shape\n",
    "        # pred = y_pred_arr.view(BK * n, -1).data.max(1, keepdim=True)[1]  # get the index of the max log-probability\n",
    "        pred = y_pred_arr.view(B * n, -1).data.max(1, keepdim=True)[1]  # get the index of the max log-probability\n",
    "        # acc = pred.eq(y_star_arr.view(BK * n).data.view_as(pred)).cpu().view(-1, B, n)[-1, :, -1].sum().item() / (B)\n",
    "        acc = pred.eq(ys.view(B * n).data.view_as(pred)).cpu().view(-1, B, n)[-1, :, -1].sum().item() / (B)\n",
    "        loss = 0\n",
    "    return loss, acc  # , total_norm, norm_dict"
   ],
   "outputs": []
  },
  {
   "cell_type": "code",
   "execution_count": 86,
   "id": "abef3209-2cdf-42be-a2a3-475c5d9efe6f",
   "metadata": {},
   "source": [
    "root = '../data/'\n",
    "import pickle\n",
    "openml_datasets_train = pickle.load(open(root + 'openml_train2.npy', 'rb'))\n",
    "openml_datasets_test = pickle.load(open(root + 'openml_test2.npy', 'rb'))\n",
    "dataset_id = list(openml_datasets_train.keys())"
   ],
   "outputs": []
  },
  {
   "cell_type": "code",
   "execution_count": 184,
   "id": "7a76786e-9ee1-40aa-8f1d-7ea4b42a8cce",
   "metadata": {},
   "source": [
    "from models import TransformerModel\n",
    "\n",
    "n_dims = 20\n",
    "n_positions = 101\n",
    "n_embd = 256\n",
    "n_layer = 12\n",
    "n_head = 8\n",
    "device = torch.device('cuda:0')\n",
    "\n",
    "model = TransformerModel(n_dims, n_positions, n_embd, n_layer, n_head, pred_type='classification')\n",
    "step = -1\n",
    "# baseline_loss_list = {}\n",
    "\n",
    "# for i in baseline_run_ids.keys():\n",
    "for i in [1]:\n",
    "    run_id = baseline_run_ids[i]\n",
    "    state_dict = torch.load(\"../results2/openml_baseline/\" + run_id + \"/state.pt\", map_location='cpu')['model_state_dict']\n",
    "    model.load_state_dict(state_dict, strict=True)\n",
    "    model = model.to(device)\n",
    "    baseline_loss_list[i] = []\n",
    "    for j in range(5):\n",
    "        seed = 4242 + j\n",
    "        torch.manual_seed(seed)\n",
    "        random.seed(seed)\n",
    "        test_acc = post_train_eval(openml_datasets_test, dataset_id[i], n_dims, model, device)\n",
    "        print(i, np.mean(test_acc))\n",
    "        baseline_loss_list[i].append(np.mean(test_acc))"
   ],
   "outputs": []
  },
  {
   "cell_type": "code",
   "execution_count": 187,
   "id": "b0cb691e-1dbb-4581-a05d-2ca899bc27d4",
   "metadata": {},
   "source": [
    "from models import TransformerModelLooped\n",
    "\n",
    "n_dims = 20\n",
    "n_positions = 101\n",
    "n_embd = 256\n",
    "n_layer = 1\n",
    "n_head = 8\n",
    "device = torch.device('cuda:0')\n",
    "\n",
    "model = TransformerModelLooped(n_dims, n_positions, n_embd, n_layer, n_head, pred_type='classification')\n",
    "step = -1\n",
    "# loop_loss_list = {}\n",
    "\n",
    "# for i in baseline_run_ids.keys():\n",
    "for i in [2]:    \n",
    "    run_id = loop_run_ids[i]\n",
    "    state_dict = torch.load(\"../results2/openml_loop/\" + run_id + \"/state.pt\", map_location='cpu')['model_state_dict']\n",
    "    model.load_state_dict(state_dict, strict=True)\n",
    "    model = model.to(device)\n",
    "    \n",
    "\n",
    "    loop_loss_list[i] = []\n",
    "    for j in range(5):\n",
    "        seed = 4242 + j\n",
    "        torch.manual_seed(seed)\n",
    "        random.seed(seed)\n",
    "        test_acc = post_train_eval(openml_datasets_test, dataset_id[i], n_dims, model, device, which_model='gpt2_loop')\n",
    "        print(i, np.mean(test_acc))\n",
    "        loop_loss_list[i].append(np.mean(test_acc))\n"
   ],
   "outputs": []
  },
  {
   "cell_type": "code",
   "execution_count": 185,
   "id": "5dc3a42f-abe1-4b68-b5c3-b11b0070fd1e",
   "metadata": {},
   "source": [
    "for i in baseline_loss_list.keys():\n",
    "    data_list = baseline_loss_list[i]\n",
    "    print(i, np.mean(data_list), np.std(data_list))"
   ],
   "outputs": []
  },
  {
   "cell_type": "code",
   "execution_count": 188,
   "id": "b8e9e956-c60e-429c-abc1-2cec63bd620a",
   "metadata": {},
   "source": [
    "for i in loop_loss_list.keys():\n",
    "    data_list = loop_loss_list[i]\n",
    "    print(i, np.mean(data_list), np.std(data_list))"
   ],
   "outputs": []
  },
  {
   "cell_type": "code",
   "execution_count": null,
   "id": "072622f0-e7af-420c-b648-a66015dc148f",
   "metadata": {},
   "source": [],
   "outputs": []
  },
  {
   "cell_type": "code",
   "execution_count": null,
   "id": "3fda0606-ee50-4579-9cc1-ed58682cfa48",
   "metadata": {},
   "source": [],
   "outputs": []
  },
  {
   "cell_type": "code",
   "execution_count": null,
   "id": "7885d3ec-547c-464f-bbb6-6b6465baf7c3",
   "metadata": {},
   "source": [],
   "outputs": []
  },
  {
   "cell_type": "code",
   "execution_count": null,
   "id": "39b531ea-c89e-426f-9569-c0ffe0553be3",
   "metadata": {},
   "source": [],
   "outputs": []
  }
 ],
 "metadata": {
  "kernelspec": {
   "display_name": "Python 3 (ipykernel)",
   "language": "python",
   "name": "python3"
  },
  "language_info": {
   "codemirror_mode": {
    "name": "ipython",
    "version": 3
   },
   "file_extension": ".py",
   "mimetype": "text/x-python",
   "name": "python",
   "nbconvert_exporter": "python",
   "pygments_lexer": "ipython3",
   "version": "3.8.12"
  }
 },
 "nbformat": 4,
 "nbformat_minor": 5
}
