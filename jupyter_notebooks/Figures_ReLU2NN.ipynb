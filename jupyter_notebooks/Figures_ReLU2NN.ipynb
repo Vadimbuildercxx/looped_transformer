{
 "cells": [
  {
   "cell_type": "code",
   "execution_count": 6,
   "id": "263658b8",
   "metadata": {},
   "source": [
    "import os\n",
    "import json\n",
    "import numpy as np\n",
    "from quinine import QuinineArgumentParser\n",
    "import matplotlib.pyplot as plt\n",
    "import torch\n",
    "import torch.nn as nn\n",
    "import copy\n",
    "import matplotlib.pyplot as plt\n",
    "import torch.nn.functional as F\n",
    "import math\n",
    "\n",
    "import sys\n",
    "sys.path.append('../scripts')\n",
    "from nano_gpt import GPT2Model, GPT2Config\n",
    "\n",
    "from utils import aggregate_metrics, get_model, eval_unlooped_model, eval_looped_model"
   ],
   "outputs": []
  },
  {
   "cell_type": "code",
   "execution_count": 7,
   "id": "d9209dd4",
   "metadata": {},
   "source": [
    "device = torch.device('cuda:0')"
   ],
   "outputs": []
  },
  {
   "cell_type": "code",
   "execution_count": 8,
   "id": "a2dc0ce7",
   "metadata": {},
   "source": [
    "fig_hparam = {\n",
    "    'figsize': (8, 5),\n",
    "    'labelsize': 28,\n",
    "    'ticksize': 20,\n",
    "    'linewidth': 5,\n",
    "    'fontsize': 15,\n",
    "    'titlesize': 20,\n",
    "    'markersize': 15\n",
    "}\n",
    "\n",
    "# font specification\n",
    "fontdict = {'family': 'serif',\n",
    "         'size': fig_hparam['fontsize'],\n",
    "         }"
   ],
   "outputs": []
  },
  {
   "cell_type": "code",
   "execution_count": null,
   "id": "66cc5398",
   "metadata": {},
   "source": [],
   "outputs": []
  },
  {
   "cell_type": "markdown",
   "id": "45d838ab",
   "metadata": {},
   "source": [
    "## Get dataset"
   ]
  },
  {
   "cell_type": "code",
   "execution_count": 9,
   "id": "23c274b5",
   "metadata": {},
   "source": [
    "class Relu2nnRegression():\n",
    "    def __init__(self, batch_size, n_points, n_dims, n_dims_truncated, device, hidden_layer_size=100, non_sparse=100):\n",
    "        super(Relu2nnRegression, self).__init__()\n",
    "        self.hidden_layer_size = hidden_layer_size\n",
    "        self.n_dims = n_dims\n",
    "        self.n_dims_truncated = n_dims_truncated\n",
    "        self.b_size = batch_size\n",
    "        self.n_points = n_points\n",
    "\n",
    "        W1 = torch.randn(self.b_size, self.n_dims, hidden_layer_size, device=device)\n",
    "        W2 = torch.randn(self.b_size, hidden_layer_size, 1, device=device)\n",
    "\n",
    "        if non_sparse < hidden_layer_size:\n",
    "            import random\n",
    "            non_sparse_mask = torch.zeros(hidden_layer_size, device=device)\n",
    "            non_sparse_indices = random.sample(range(hidden_layer_size), non_sparse)\n",
    "            non_sparse_mask[non_sparse_indices] = 1\n",
    "            self.W1 = W1 * non_sparse_mask[None, None, :]\n",
    "            self.W2 = W2 * non_sparse_mask[None, :, None]\n",
    "        else:\n",
    "            self.W1 = W1\n",
    "            self.W2 = W2\n",
    "\n",
    "        self.xs = torch.randn(batch_size, n_points, n_dims, device=device)  # [B, n, d]\n",
    "        self.xs[..., n_dims_truncated:] = 0\n",
    "\n",
    "        self.ys = self.evaluate(self.xs)\n",
    "\n",
    "    def evaluate(self, xs_b):\n",
    "        W1 = self.W1\n",
    "        W2 = self.W2\n",
    "        # Renormalize to Linear Regression Scale\n",
    "        ys_b_nn = (F.relu(xs_b @ W1) @ W2)[:, :, 0]\n",
    "        ys_b_nn = ys_b_nn * math.sqrt(2 / self.hidden_layer_size)\n",
    "        # ys_b_nn = self.scale * ys_b_nn\n",
    "        #         ys_b_nn = ys_b_nn * math.sqrt(self.n_dims) / ys_b_nn.std()\n",
    "        return ys_b_nn\n",
    "        \n",
    "        \n",
    "        \n",
    "sample_size = 1280\n",
    "batch_size = 64\n",
    "n_points = 101\n",
    "n_dims_truncated = 20\n",
    "n_dims = 20\n",
    "\n",
    "\n",
    "torch.manual_seed(456)\n",
    "real_task = Relu2nnRegression(sample_size, n_points, n_dims, n_dims_truncated, device)\n",
    "xs, ys = real_task.xs, real_task.ys"
   ],
   "outputs": []
  },
  {
   "cell_type": "markdown",
   "id": "d5709d71",
   "metadata": {},
   "source": [
    "## load model"
   ]
  },
  {
   "cell_type": "code",
   "execution_count": 10,
   "id": "ac4a3793",
   "metadata": {},
   "source": [
    "result_dir = '../results2/relu_2nn_baseline'\n",
    "run_id = '0623214332-ReLU2NN_baseline-21f1'\n",
    "\n",
    "from models import TransformerModel\n",
    "\n",
    "n_positions = 101\n",
    "n_embd = 256\n",
    "n_layer = 12\n",
    "n_head = 8\n",
    "\n",
    "model = TransformerModel(n_dims, n_positions, n_embd, n_layer, n_head)\n",
    "step = -1\n",
    "model = get_model(model, result_dir, run_id, step)\n",
    "model = model.to(device)\n",
    "\n",
    "err, y_pred_total = eval_unlooped_model(model, xs, ys)\n"
   ],
   "outputs": []
  },
  {
   "cell_type": "code",
   "execution_count": 11,
   "id": "f8d86401",
   "metadata": {},
   "source": [
    "result_errs = {}\n",
    "result_errs['Transformer'] = err"
   ],
   "outputs": []
  },
  {
   "cell_type": "markdown",
   "id": "114d575a",
   "metadata": {},
   "source": [
    "## Load looped transformer"
   ]
  },
  {
   "cell_type": "code",
   "execution_count": 39,
   "id": "478aefbe",
   "metadata": {},
   "source": [
    "from models import TransformerModelLooped\n",
    "\n",
    "result_dir = '../results2/relu_2nn_loop'\n",
    "run_id = '0706234720-relu2nn_loop_L1_ends{12}_T{5}_all-03f2'\n",
    "\n",
    "n_positions = 101\n",
    "n_embd = 256\n",
    "n_head = 8\n",
    "T = 500\n",
    "n_layer = 1\n",
    "\n",
    "model = TransformerModelLooped(n_dims, n_positions, n_embd, n_layer, n_head)\n",
    "step = -1\n",
    "model = get_model(model, result_dir, run_id, step)\n",
    "model = model.to(device)\n",
    "    \n",
    "err, loop_err = eval_looped_model(model, xs, ys, loop_max=T)\n",
    "\n",
    "result_errs['Looped Transformer'] = err\n"
   ],
   "outputs": []
  },
  {
   "cell_type": "markdown",
   "id": "488e3496",
   "metadata": {},
   "source": [
    "### Also get the \"weak\" baseline"
   ]
  },
  {
   "cell_type": "code",
   "execution_count": null,
   "id": "1bbe4df3",
   "metadata": {},
   "source": [
    "from utils import get_relevant_baselines\n",
    "from utils import LeastSquaresModel, NNModel, AveragingModel, GDModel, NeuralNetwork\n",
    "# baselines = get_relevant_baselines(\"relu_2nn_regression\")\n",
    "baselines = [\n",
    "    (LeastSquaresModel, {}),\n",
    "    (NNModel, {\"n_neighbors\": 3}),\n",
    "    (AveragingModel, {}),\n",
    "]\n",
    "gd_baselines = [\n",
    "    (GDModel, {\n",
    "        \"model_class\": NeuralNetwork,\n",
    "        \"model_class_args\": {\n",
    "            \"in_size\": 20,\n",
    "            \"hidden_size\": 100,\n",
    "            \"out_size\": 1,\n",
    "        },\n",
    "        \"opt_alg\": \"adam\",\n",
    "        \"batch_size\": 10,\n",
    "        \"lr\": 5e-3,\n",
    "        \"num_steps\": 1000,\n",
    "    },)\n",
    "]\n",
    "\n",
    "baselines += gd_baselines          \n",
    "baseline_models = [model_cls(**kwargs) for model_cls, kwargs in baselines]\n",
    "# baseline_errs = {}\n",
    "for baseline_model in baseline_models:\n",
    "    if \"gd_model\" in baseline_model.name:\n",
    "        y_pred = baseline_model(xs, ys, device)\n",
    "    else:\n",
    "        y_pred = baseline_model(xs, ys)\n",
    "    err = (y_pred.cpu() - ys.cpu()).square()\n",
    "    result_errs[baseline_model.name] = err"
   ],
   "outputs": []
  },
  {
   "cell_type": "code",
   "execution_count": 41,
   "id": "a7c4e109",
   "metadata": {},
   "source": [
    "result_errs_agg = aggregate_metrics(result_errs, 20)"
   ],
   "outputs": []
  },
  {
   "cell_type": "code",
   "execution_count": 42,
   "id": "4fe85609",
   "metadata": {},
   "source": [
    "result_errs_agg['Transformer']['mean']"
   ],
   "outputs": []
  },
  {
   "cell_type": "code",
   "execution_count": null,
   "id": "629b3df0",
   "metadata": {},
   "source": [],
   "outputs": []
  },
  {
   "cell_type": "code",
   "execution_count": 43,
   "id": "6adfd058",
   "metadata": {},
   "source": [
    "result_errs_agg['Looped Transformer']['mean']"
   ],
   "outputs": []
  },
  {
   "cell_type": "code",
   "execution_count": null,
   "id": "1a7bf26a",
   "metadata": {},
   "source": [],
   "outputs": []
  },
  {
   "cell_type": "code",
   "execution_count": 44,
   "id": "2ba1b14c",
   "metadata": {},
   "source": [
    "result_errs.keys()"
   ],
   "outputs": []
  },
  {
   "cell_type": "code",
   "execution_count": 47,
   "id": "5b9b9c53",
   "metadata": {},
   "source": [
    "import matplotlib.pyplot as plt\n",
    "import matplotlib\n",
    "\n",
    "fig, ax = plt.subplots(1, figsize=fig_hparam['figsize'])\n",
    "\n",
    "err_result_dict_agg = result_errs_agg\n",
    "\n",
    "cmap = matplotlib.cm.get_cmap(\"coolwarm\")\n",
    "\n",
    "# result_name_list = ['Transformer', 'Looped Transformer']\n",
    "# result_name_list = ['Transformer', 'Least Squares', '3-Nearest Neighbors', 'Averaging', 'Looped Transformer']\n",
    "result_name_list = ['Transformer', 'Least Squares', '3-Nearest Neighbors', \"gd_model_opt_alg=adam_lr=0.005_batch_size=10_num_steps=1000\", 'Looped Transformer']\n",
    "colors = cmap(np.linspace(0, 1, len(result_name_list)))\n",
    "for idx, model_name in enumerate(result_name_list):\n",
    "    err = err_result_dict_agg[model_name][\"mean\"]\n",
    "    if \"gd_model\" in model_name:\n",
    "        label_name = \"2-layer NN, GD\"\n",
    "    else:\n",
    "        label_name = model_name\n",
    "    if \"Looped\" in model_name:\n",
    "        ls = '-'\n",
    "    else:\n",
    "        ls = '-'\n",
    "    ax.plot(err, color=colors[idx], lw=fig_hparam['linewidth'], label=label_name, ls=ls)\n",
    "    low = err_result_dict_agg[model_name][\"bootstrap_low\"]\n",
    "    high = err_result_dict_agg[model_name][\"bootstrap_high\"]\n",
    "    ax.fill_between(range(len(low)), low, high, alpha=0.3, color=colors[idx])\n",
    "\n",
    "ax.tick_params(axis='both', labelsize=fig_hparam['ticksize'])\n",
    "ax.axhline(1, color='k', ls='--', lw=fig_hparam['linewidth'])\n",
    "ax.set_ylim(-0.1, 1.25)\n",
    "# plt.xticks(np.arange(0, n_points))\n",
    "plt.rc('font', family='serif')\n",
    "ax.set_xlabel(\"in-context examples\", fontsize=fig_hparam['labelsize'])\n",
    "y_label = ax.set_ylabel(\"squared error\", fontsize=fig_hparam['labelsize'])\n",
    "legend = plt.legend(loc='center left', bbox_to_anchor=(1, 0.5), fontsize=fig_hparam['fontsize'])\n",
    "\n",
    "\n",
    "plt.savefig(\"result_folder/Figures/relu2nn_err.pdf\", format='pdf', dpi=600, bbox_inches='tight')"
   ],
   "outputs": []
  },
  {
   "cell_type": "code",
   "execution_count": null,
   "id": "463cab14",
   "metadata": {},
   "source": [],
   "outputs": []
  },
  {
   "cell_type": "code",
   "execution_count": null,
   "id": "78c6306d",
   "metadata": {},
   "source": [],
   "outputs": []
  }
 ],
 "metadata": {
  "kernelspec": {
   "display_name": "Python 3 (ipykernel)",
   "language": "python",
   "name": "python3"
  },
  "language_info": {
   "codemirror_mode": {
    "name": "ipython",
    "version": 3
   },
   "file_extension": ".py",
   "mimetype": "text/x-python",
   "name": "python",
   "nbconvert_exporter": "python",
   "pygments_lexer": "ipython3",
   "version": "3.8.12"
  }
 },
 "nbformat": 4,
 "nbformat_minor": 5
}
